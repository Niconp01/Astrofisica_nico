{
 "cells": [
  {
   "cell_type": "markdown",
   "metadata": {},
   "source": [
    "1 marzo \n",
    "\n",
    "ora inizio 1:00\n",
    "\n",
    "ora fine 3:44\n",
    "\n",
    "az: 295\n",
    "\n",
    "az vero: 290\n",
    "\n"
   ]
  },
  {
   "cell_type": "code",
   "execution_count": 1,
   "metadata": {},
   "outputs": [],
   "source": [
    "import numpy as np\n",
    "import matplotlib.pyplot as plt\n",
    "from matplotlib.dates import MinuteLocator, SecondLocator, DateFormatter\n",
    "import pandas as pd\n",
    "from scipy import stats\n",
    "from scipy.optimize import curve_fit\n",
    "from scipy.stats import norm"
   ]
  },
  {
   "cell_type": "markdown",
   "metadata": {},
   "source": [
    "## 20 salita\n"
   ]
  },
  {
   "cell_type": "code",
   "execution_count": 2,
   "metadata": {},
   "outputs": [],
   "source": [
    "azimuth_min =  294.8\n",
    "azimuth_max = 295.1\n",
    "\n",
    "data_i = pd.to_datetime('2023-02-28 23:52:30', format = '%Y-%m-%d %H:%M:%S')\n",
    "data_f = pd.to_datetime('2023-02-28 23:53:00', format = '%Y-%m-%d %H:%M:%S')\n",
    "data_m = pd.to_datetime('2023-03-01 02:56:00', format = '%Y-%m-%d %H:%M:%S')\n",
    "\n",
    "title = '01 marzo 2023, elevazione 20 salita'\n",
    "\n",
    "file_parabola = '../../Dati/1 marzo/2023_02_28.txt'\n",
    "file_ricevitore = '../../Dati/1 marzo/2023-03-01.txt'"
   ]
  },
  {
   "cell_type": "code",
   "execution_count": 3,
   "metadata": {},
   "outputs": [],
   "source": [
    "parabola = pd.read_csv (file_parabola,\n",
    "                           sep=';',\n",
    "                           header=None,\n",
    "                           comment='#')\n",
    "\n",
    "ricevitore_10 = pd.read_csv (file_ricevitore,\n",
    "                                sep = ' ',\n",
    "                                header=None,\n",
    "                                skiprows=11,\n",
    "                                decimal='.',\n",
    "                                names=['data','ora','rad','temperatura'])"
   ]
  },
  {
   "cell_type": "code",
   "execution_count": 4,
   "metadata": {},
   "outputs": [],
   "source": [
    "parabola.rename(columns={0: 'day', 1: 'month', 2: 'year', 3: 'hour', 4: 'minute', 5: 'second', 9: 'azimuth', 10: 'elevazione'}, inplace = True)\n",
    "parabola['data_ora'] = pd.to_datetime(parabola[[\"day\", \"month\", \"year\", \"hour\", \"minute\", \"second\"]])\n",
    "parabola = parabola.loc[:,['data_ora','elevazione','azimuth']]"
   ]
  },
  {
   "cell_type": "code",
   "execution_count": 5,
   "metadata": {},
   "outputs": [],
   "source": [
    "mask_1 = parabola.azimuth <= azimuth_max\n",
    "mask_2 = parabola.azimuth >= azimuth_min\n",
    "mask_3 = parabola.data_ora >= data_i\n",
    "mask_4 = parabola.data_ora <= data_f\n",
    "parabola = parabola.loc[mask_1 & mask_2 & mask_3 & mask_4]\n",
    "parabola.reset_index(inplace=True, drop=True)"
   ]
  },
  {
   "cell_type": "code",
   "execution_count": 6,
   "metadata": {},
   "outputs": [],
   "source": [
    "while parabola.at[0,'elevazione'] > 20.1:\n",
    "    parabola = parabola.drop(labels=0, axis=0)\n",
    "    parabola.reset_index(inplace=True, drop=True)"
   ]
  },
  {
   "cell_type": "code",
   "execution_count": 7,
   "metadata": {},
   "outputs": [],
   "source": [
    "ricevitore_10['data_ora'] = ricevitore_10['data'].map(str) + ' ' + ricevitore_10['ora'].map(str)\n",
    "ricevitore_10['data_ora'] = pd.to_datetime(ricevitore_10['data_ora'], format = '%m/%d/%Y %H:%M:%S.%f')\n",
    "ricevitore_10 = ricevitore_10.iloc[:,[-1,2,3]]"
   ]
  },
  {
   "cell_type": "code",
   "execution_count": 8,
   "metadata": {},
   "outputs": [],
   "source": [
    "delta_time = pd.Timedelta(hours = 1)\n",
    "mask_5 = ricevitore_10.data_ora >= parabola.iloc[0]['data_ora'] + delta_time\n",
    "mask_6 = ricevitore_10.data_ora <= parabola.iloc[-1]['data_ora'] + delta_time\n",
    "ricevitore_10 = ricevitore_10[mask_5 & mask_6]"
   ]
  },
  {
   "cell_type": "code",
   "execution_count": 9,
   "metadata": {},
   "outputs": [],
   "source": [
    "parabola['data_ora'] = parabola.data_ora + 2*delta_time\n",
    "ricevitore_10['data_ora'] = ricevitore_10.data_ora + delta_time"
   ]
  },
  {
   "cell_type": "code",
   "execution_count": 10,
   "metadata": {},
   "outputs": [
    {
     "data": {
      "image/png": "[encoded data removed]",
      "text/plain": [
       "<Figure size 432x288 with 1 Axes>"
      ]
     },
     "metadata": {
      "needs_background": "light"
     },
     "output_type": "display_data"
    }
   ],
   "source": [
    "fig, ax = plt.subplots()\n",
    "fig.autofmt_xdate()\n",
    "\n",
    "ax.plot(ricevitore_10['data_ora'],ricevitore_10['rad'], label='temp')\n",
    "ax.xaxis.set_major_formatter(DateFormatter('%H:%M'))\n",
    "ax.xaxis.set_major_locator(MinuteLocator(interval = 15))\n",
    "ax.set_ylim((2000,6000))\n",
    "\n",
    "plt.title(title)\n",
    "plt.ylabel('Rad')\n",
    "plt.show()"
   ]
  },
  {
   "cell_type": "code",
   "execution_count": 11,
   "metadata": {},
   "outputs": [],
   "source": [
    "df = pd.DataFrame(columns=['data_ora','rad','temperatura','elevazione'])\n",
    "\n",
    "for i in range (20, 56, 5):\n",
    "    mask_11 = parabola.elevazione >= i - 0.1\n",
    "    mask_12 = parabola.elevazione <= i + 0.1\n",
    "    mask_13 = parabola.data_ora <= data_m \n",
    "    a = parabola[mask_11 & mask_12 & mask_13]\n",
    "    if a.empty == False:\n",
    "        mask_7 = ricevitore_10.data_ora >= a.iloc[0]['data_ora'] \n",
    "        mask_8 = ricevitore_10.data_ora <= a.iloc[-1]['data_ora'] \n",
    "        b = ricevitore_10[mask_7 & mask_8].assign(elevazione = i)\n",
    "        df = pd.concat([df,b])\n",
    "\n",
    "for j in range (50, 19, -5):\n",
    "    mask_14 = parabola.elevazione >= j - 0.3\n",
    "    mask_15 = parabola.elevazione <= j + 0.3\n",
    "    mask_16 = parabola.data_ora >= data_m \n",
    "    c = parabola[mask_14 & mask_15 & mask_16]\n",
    "    if c.empty == False:\n",
    "        mask_9 = ricevitore_10.data_ora >= c.iloc[0]['data_ora'] \n",
    "        mask_10 = ricevitore_10.data_ora <= c.iloc[-1]['data_ora'] \n",
    "        d = ricevitore_10[mask_9 & mask_10].assign(elevazione = j)\n",
    "        df = pd.concat([df,d])"
   ]
  },
  {
   "cell_type": "code",
   "execution_count": 12,
   "metadata": {},
   "outputs": [],
   "source": [
    "df.to_csv('dati20s.csv', index=False)"
   ]
  },
  {
   "cell_type": "markdown",
   "metadata": {},
   "source": [
    "## 25 salita"
   ]
  },
  {
   "cell_type": "code",
   "execution_count": 13,
   "metadata": {},
   "outputs": [],
   "source": [
    "azimuth_min =  294.8\n",
    "azimuth_max = 295.1\n",
    "\n",
    "data_i = pd.to_datetime('2023-03-01 00:05:30', format = '%Y-%m-%d %H:%M:%S')\n",
    "data_f = pd.to_datetime('2023-03-01 00:08:00', format = '%Y-%m-%d %H:%M:%S')\n",
    "data_m = pd.to_datetime('2023-03-01 02:56:00', format = '%Y-%m-%d %H:%M:%S')\n",
    "\n",
    "title = '01 marzo 2023, elevazione 25 salita'\n",
    "\n",
    "file_parabola = '../../Dati/1 marzo/2023_03_01.txt'\n",
    "file_ricevitore = '../../Dati/1 marzo/2023-03-01.txt'"
   ]
  },
  {
   "cell_type": "code",
   "execution_count": 14,
   "metadata": {},
   "outputs": [],
   "source": [
    "parabola = pd.read_csv (file_parabola,\n",
    "                           sep=';',\n",
    "                           header=None,\n",
    "                           comment='#')\n",
    "\n",
    "ricevitore_10 = pd.read_csv (file_ricevitore,\n",
    "                                sep = ' ',\n",
    "                                header=None,\n",
    "                                skiprows=11,\n",
    "                                decimal='.',\n",
    "                                names=['data','ora','rad','temperatura'])"
   ]
  },
  {
   "cell_type": "code",
   "execution_count": 15,
   "metadata": {},
   "outputs": [],
   "source": [
    "parabola.rename(columns={0: 'day', 1: 'month', 2: 'year', 3: 'hour', 4: 'minute', 5: 'second', 9: 'azimuth', 10: 'elevazione'}, inplace = True)\n",
    "parabola['data_ora'] = pd.to_datetime(parabola[[\"day\", \"month\", \"year\", \"hour\", \"minute\", \"second\"]])\n",
    "parabola = parabola.loc[:,['data_ora','elevazione','azimuth']]"
   ]
  },
  {
   "cell_type": "code",
   "execution_count": 16,
   "metadata": {},
   "outputs": [],
   "source": [
    "mask_1 = parabola.azimuth <= azimuth_max\n",
    "mask_2 = parabola.azimuth >= azimuth_min\n",
    "mask_3 = parabola.data_ora >= data_i\n",
    "mask_4 = parabola.data_ora <= data_f\n",
    "parabola = parabola.loc[mask_1 & mask_2 & mask_3 & mask_4]\n",
    "parabola.reset_index(inplace=True, drop=True)"
   ]
  },
  {
   "cell_type": "code",
   "execution_count": 17,
   "metadata": {},
   "outputs": [],
   "source": [
    "while parabola.at[0,'elevazione'] > 25.1:\n",
    "    parabola = parabola.drop(labels=0, axis=0)\n",
    "    parabola.reset_index(inplace=True, drop=True)"
   ]
  },
  {
   "cell_type": "code",
   "execution_count": 18,
   "metadata": {},
   "outputs": [],
   "source": [
    "ricevitore_10['data_ora'] = ricevitore_10['data'].map(str) + ' ' + ricevitore_10['ora'].map(str)\n",
    "ricevitore_10['data_ora'] = pd.to_datetime(ricevitore_10['data_ora'], format = '%m/%d/%Y %H:%M:%S.%f')\n",
    "ricevitore_10 = ricevitore_10.iloc[:,[-1,2,3]]"
   ]
  },
  {
   "cell_type": "code",
   "execution_count": 19,
   "metadata": {},
   "outputs": [],
   "source": [
    "delta_time = pd.Timedelta(hours = 1)\n",
    "mask_5 = ricevitore_10.data_ora >= parabola.iloc[0]['data_ora'] + delta_time\n",
    "mask_6 = ricevitore_10.data_ora <= parabola.iloc[-1]['data_ora'] + delta_time\n",
    "ricevitore_10 = ricevitore_10[mask_5 & mask_6]"
   ]
  },
  {
   "cell_type": "code",
   "execution_count": 20,
   "metadata": {},
   "outputs": [],
   "source": [
    "parabola['data_ora'] = parabola.data_ora + 2*delta_time\n",
    "ricevitore_10['data_ora'] = ricevitore_10.data_ora + delta_time"
   ]
  },
  {
   "cell_type": "code",
   "execution_count": 21,
   "metadata": {},
   "outputs": [
    {
     "data": {
      "image/png": "[encoded data removed]",
      "text/plain": [
       "<Figure size 432x288 with 1 Axes>"
      ]
     },
     "metadata": {
      "needs_background": "light"
     },
     "output_type": "display_data"
    }
   ],
   "source": [
    "fig, ax = plt.subplots()\n",
    "fig.autofmt_xdate()\n",
    "\n",
    "ax.plot(ricevitore_10['data_ora'],ricevitore_10['rad'], label='temp')\n",
    "ax.xaxis.set_major_formatter(DateFormatter('%H:%M'))\n",
    "ax.xaxis.set_major_locator(MinuteLocator(interval = 15))\n",
    "ax.set_ylim((2000,6000))\n",
    "\n",
    "plt.title(title)\n",
    "plt.ylabel('Rad')\n",
    "plt.show()"
   ]
  },
  {
   "cell_type": "code",
   "execution_count": 22,
   "metadata": {},
   "outputs": [],
   "source": [
    "df = pd.DataFrame(columns=['data_ora','rad','temperatura','elevazione'])\n",
    "\n",
    "for i in range (20, 56, 5):\n",
    "    mask_11 = parabola.elevazione >= i - 0.1\n",
    "    mask_12 = parabola.elevazione <= i + 0.1\n",
    "    mask_13 = parabola.data_ora <= data_m \n",
    "    a = parabola[mask_11 & mask_12 & mask_13]\n",
    "    if a.empty == False:\n",
    "        mask_7 = ricevitore_10.data_ora >= a.iloc[0]['data_ora'] \n",
    "        mask_8 = ricevitore_10.data_ora <= a.iloc[-1]['data_ora'] \n",
    "        b = ricevitore_10[mask_7 & mask_8].assign(elevazione = i)\n",
    "        df = pd.concat([df,b])\n",
    "\n",
    "for j in range (50, 19, -5):\n",
    "    mask_14 = parabola.elevazione >= j - 0.3\n",
    "    mask_15 = parabola.elevazione <= j + 0.3\n",
    "    mask_16 = parabola.data_ora >= data_m \n",
    "    c = parabola[mask_14 & mask_15 & mask_16]\n",
    "    if c.empty == False:\n",
    "        mask_9 = ricevitore_10.data_ora >= c.iloc[0]['data_ora'] \n",
    "        mask_10 = ricevitore_10.data_ora <= c.iloc[-1]['data_ora'] \n",
    "        d = ricevitore_10[mask_9 & mask_10].assign(elevazione = j)\n",
    "        df = pd.concat([df,d])"
   ]
  },
  {
   "cell_type": "code",
   "execution_count": 23,
   "metadata": {},
   "outputs": [],
   "source": [
    "df.to_csv('dati25s.csv', index=False)"
   ]
  },
  {
   "cell_type": "markdown",
   "metadata": {},
   "source": [
    "## 30 salita"
   ]
  },
  {
   "cell_type": "code",
   "execution_count": 24,
   "metadata": {},
   "outputs": [],
   "source": [
    "azimuth_min =  294.8\n",
    "azimuth_max = 295.1\n",
    "\n",
    "data_i = pd.to_datetime('2023-03-01 00:14:30', format = '%Y-%m-%d %H:%M:%S')\n",
    "data_f = pd.to_datetime('2023-03-01 00:16:00', format = '%Y-%m-%d %H:%M:%S')\n",
    "data_m = pd.to_datetime('2023-03-01 02:56:00', format = '%Y-%m-%d %H:%M:%S')\n",
    "\n",
    "title = '01 marzo 2023, elevazione 30 salita'\n",
    "\n",
    "file_parabola = '../../Dati/1 marzo/2023_03_01.txt'\n",
    "file_ricevitore = '../../Dati/1 marzo/2023-03-01.txt'"
   ]
  },
  {
   "cell_type": "code",
   "execution_count": 25,
   "metadata": {},
   "outputs": [],
   "source": [
    "parabola = pd.read_csv (file_parabola,\n",
    "                           sep=';',\n",
    "                           header=None,\n",
    "                           comment='#')\n",
    "\n",
    "ricevitore_10 = pd.read_csv (file_ricevitore,\n",
    "                                sep = ' ',\n",
    "                                header=None,\n",
    "                                skiprows=11,\n",
    "                                decimal='.',\n",
    "                                names=['data','ora','rad','temperatura'])"
   ]
  },
  {
   "cell_type": "code",
   "execution_count": 26,
   "metadata": {},
   "outputs": [],
   "source": [
    "parabola.rename(columns={0: 'day', 1: 'month', 2: 'year', 3: 'hour', 4: 'minute', 5: 'second', 9: 'azimuth', 10: 'elevazione'}, inplace = True)\n",
    "parabola['data_ora'] = pd.to_datetime(parabola[[\"day\", \"month\", \"year\", \"hour\", \"minute\", \"second\"]])\n",
    "parabola = parabola.loc[:,['data_ora','elevazione','azimuth']]\n",
    "\n",
    "mask_1 = parabola.azimuth <= azimuth_max\n",
    "mask_2 = parabola.azimuth >= azimuth_min\n",
    "mask_3 = parabola.data_ora >= data_i\n",
    "mask_4 = parabola.data_ora <= data_f\n",
    "parabola = parabola.loc[mask_1 & mask_2 & mask_3 & mask_4]\n",
    "parabola.reset_index(inplace=True, drop=True)\n",
    "\n",
    "while parabola.at[0,'elevazione'] > 30.1:\n",
    "    parabola = parabola.drop(labels=0, axis=0)\n",
    "    parabola.reset_index(inplace=True, drop=True)\n",
    "    \n",
    "ricevitore_10['data_ora'] = ricevitore_10['data'].map(str) + ' ' + ricevitore_10['ora'].map(str)\n",
    "ricevitore_10['data_ora'] = pd.to_datetime(ricevitore_10['data_ora'], format = '%m/%d/%Y %H:%M:%S.%f')\n",
    "ricevitore_10 = ricevitore_10.iloc[:,[-1,2,3]]\n",
    "\n",
    "delta_time = pd.Timedelta(hours = 1)\n",
    "mask_5 = ricevitore_10.data_ora >= parabola.iloc[0]['data_ora'] + delta_time\n",
    "mask_6 = ricevitore_10.data_ora <= parabola.iloc[-1]['data_ora'] + delta_time\n",
    "ricevitore_10 = ricevitore_10[mask_5 & mask_6]\n",
    "\n",
    "parabola['data_ora'] = parabola.data_ora + 2*delta_time\n",
    "ricevitore_10['data_ora'] = ricevitore_10.data_ora + delta_time"
   ]
  },
  {
   "cell_type": "code",
   "execution_count": 27,
   "metadata": {},
   "outputs": [
    {
     "data": {
      "image/png": "[encoded data removed]",
      "text/plain": [
       "<Figure size 432x288 with 1 Axes>"
      ]
     },
     "metadata": {
      "needs_background": "light"
     },
     "output_type": "display_data"
    }
   ],
   "source": [
    "fig, ax = plt.subplots()\n",
    "fig.autofmt_xdate()\n",
    "\n",
    "ax.plot(ricevitore_10['data_ora'],ricevitore_10['rad'], label='temp')\n",
    "ax.xaxis.set_major_formatter(DateFormatter('%H:%M'))\n",
    "ax.xaxis.set_major_locator(MinuteLocator(interval = 15))\n",
    "ax.set_ylim((2000,6000))\n",
    "\n",
    "plt.title(title)\n",
    "plt.ylabel('Rad')\n",
    "plt.show()"
   ]
  },
  {
   "cell_type": "code",
   "execution_count": 28,
   "metadata": {},
   "outputs": [],
   "source": [
    "df = pd.DataFrame(columns=['data_ora','rad','temperatura','elevazione'])\n",
    "\n",
    "for i in range (20, 56, 5):\n",
    "    mask_11 = parabola.elevazione >= i - 0.1\n",
    "    mask_12 = parabola.elevazione <= i + 0.1\n",
    "    mask_13 = parabola.data_ora <= data_m \n",
    "    a = parabola[mask_11 & mask_12 & mask_13]\n",
    "    if a.empty == False:\n",
    "        mask_7 = ricevitore_10.data_ora >= a.iloc[0]['data_ora'] \n",
    "        mask_8 = ricevitore_10.data_ora <= a.iloc[-1]['data_ora'] \n",
    "        b = ricevitore_10[mask_7 & mask_8].assign(elevazione = i)\n",
    "        df = pd.concat([df,b])\n",
    "\n",
    "for j in range (50, 19, -5):\n",
    "    mask_14 = parabola.elevazione >= j - 0.3\n",
    "    mask_15 = parabola.elevazione <= j + 0.3\n",
    "    mask_16 = parabola.data_ora >= data_m \n",
    "    c = parabola[mask_14 & mask_15 & mask_16]\n",
    "    if c.empty == False:\n",
    "        mask_9 = ricevitore_10.data_ora >= c.iloc[0]['data_ora'] \n",
    "        mask_10 = ricevitore_10.data_ora <= c.iloc[-1]['data_ora'] \n",
    "        d = ricevitore_10[mask_9 & mask_10].assign(elevazione = j)\n",
    "        df = pd.concat([df,d])"
   ]
  },
  {
   "cell_type": "code",
   "execution_count": 29,
   "metadata": {},
   "outputs": [],
   "source": [
    "df.to_csv('dati30s.csv', index=False)"
   ]
  },
  {
   "cell_type": "markdown",
   "metadata": {},
   "source": [
    "## 35 salita"
   ]
  },
  {
   "cell_type": "code",
   "execution_count": 30,
   "metadata": {},
   "outputs": [],
   "source": [
    "azimuth_min =  294.8\n",
    "azimuth_max = 295.1\n",
    "\n",
    "data_i = pd.to_datetime('2023-03-01 00:21:30', format = '%Y-%m-%d %H:%M:%S')\n",
    "data_f = pd.to_datetime('2023-03-01 00:22:30', format = '%Y-%m-%d %H:%M:%S')\n",
    "data_m = pd.to_datetime('2023-03-01 02:56:00', format = '%Y-%m-%d %H:%M:%S')\n",
    "\n",
    "title = '01 marzo 2023, elevazione 35 salita'\n",
    "\n",
    "file_parabola = '../../Dati/1 marzo/2023_03_01.txt'\n",
    "file_ricevitore = '../../Dati/1 marzo/2023-03-01.txt'"
   ]
  },
  {
   "cell_type": "code",
   "execution_count": 31,
   "metadata": {},
   "outputs": [],
   "source": [
    "parabola = pd.read_csv (file_parabola,\n",
    "                           sep=';',\n",
    "                           header=None,\n",
    "                           comment='#')\n",
    "\n",
    "ricevitore_10 = pd.read_csv (file_ricevitore,\n",
    "                                sep = ' ',\n",
    "                                header=None,\n",
    "                                skiprows=11,\n",
    "                                decimal='.',\n",
    "                                names=['data','ora','rad','temperatura'])"
   ]
  },
  {
   "cell_type": "code",
   "execution_count": 32,
   "metadata": {},
   "outputs": [],
   "source": [
    "parabola.rename(columns={0: 'day', 1: 'month', 2: 'year', 3: 'hour', 4: 'minute', 5: 'second', 9: 'azimuth', 10: 'elevazione'}, inplace = True)\n",
    "parabola['data_ora'] = pd.to_datetime(parabola[[\"day\", \"month\", \"year\", \"hour\", \"minute\", \"second\"]])\n",
    "parabola = parabola.loc[:,['data_ora','elevazione','azimuth']]\n",
    "\n",
    "mask_1 = parabola.azimuth <= azimuth_max\n",
    "mask_2 = parabola.azimuth >= azimuth_min\n",
    "mask_3 = parabola.data_ora >= data_i\n",
    "mask_4 = parabola.data_ora <= data_f\n",
    "parabola = parabola.loc[mask_1 & mask_2 & mask_3 & mask_4]\n",
    "parabola.reset_index(inplace=True, drop=True)\n",
    "\n",
    "while parabola.at[0,'elevazione'] > 35.1:\n",
    "    parabola = parabola.drop(labels=0, axis=0)\n",
    "    parabola.reset_index(inplace=True, drop=True)\n",
    "    \n",
    "ricevitore_10['data_ora'] = ricevitore_10['data'].map(str) + ' ' + ricevitore_10['ora'].map(str)\n",
    "ricevitore_10['data_ora'] = pd.to_datetime(ricevitore_10['data_ora'], format = '%m/%d/%Y %H:%M:%S.%f')\n",
    "ricevitore_10 = ricevitore_10.iloc[:,[-1,2,3]]\n",
    "\n",
    "delta_time = pd.Timedelta(hours = 1)\n",
    "mask_5 = ricevitore_10.data_ora >= parabola.iloc[0]['data_ora'] + delta_time\n",
    "mask_6 = ricevitore_10.data_ora <= parabola.iloc[-1]['data_ora'] + delta_time\n",
    "ricevitore_10 = ricevitore_10[mask_5 & mask_6]\n",
    "\n",
    "parabola['data_ora'] = parabola.data_ora + 2*delta_time\n",
    "ricevitore_10['data_ora'] = ricevitore_10.data_ora + delta_time"
   ]
  },
  {
   "cell_type": "code",
   "execution_count": 33,
   "metadata": {},
   "outputs": [
    {
     "data": {
      "image/png": "[encoded data removed]",
      "text/plain": [
       "<Figure size 432x288 with 1 Axes>"
      ]
     },
     "metadata": {
      "needs_background": "light"
     },
     "output_type": "display_data"
    }
   ],
   "source": [
    "fig, ax = plt.subplots()\n",
    "fig.autofmt_xdate()\n",
    "\n",
    "ax.plot(ricevitore_10['data_ora'],ricevitore_10['rad'], label='temp')\n",
    "ax.xaxis.set_major_formatter(DateFormatter('%H:%M'))\n",
    "ax.xaxis.set_major_locator(MinuteLocator(interval = 15))\n",
    "ax.set_ylim((2000,6000))\n",
    "\n",
    "plt.title(title)\n",
    "plt.ylabel('Rad')\n",
    "plt.show()"
   ]
  },
  {
   "cell_type": "code",
   "execution_count": 34,
   "metadata": {},
   "outputs": [],
   "source": [
    "df = pd.DataFrame(columns=['data_ora','rad','temperatura','elevazione'])\n",
    "\n",
    "for i in range (20, 56, 5):\n",
    "    mask_11 = parabola.elevazione >= i - 0.1\n",
    "    mask_12 = parabola.elevazione <= i + 0.1\n",
    "    mask_13 = parabola.data_ora <= data_m \n",
    "    a = parabola[mask_11 & mask_12 & mask_13]\n",
    "    if a.empty == False:\n",
    "        mask_7 = ricevitore_10.data_ora >= a.iloc[0]['data_ora'] \n",
    "        mask_8 = ricevitore_10.data_ora <= a.iloc[-1]['data_ora'] \n",
    "        b = ricevitore_10[mask_7 & mask_8].assign(elevazione = i)\n",
    "        df = pd.concat([df,b])\n",
    "\n",
    "for j in range (50, 19, -5):\n",
    "    mask_14 = parabola.elevazione >= j - 0.3\n",
    "    mask_15 = parabola.elevazione <= j + 0.3\n",
    "    mask_16 = parabola.data_ora >= data_m \n",
    "    c = parabola[mask_14 & mask_15 & mask_16]\n",
    "    if c.empty == False:\n",
    "        mask_9 = ricevitore_10.data_ora >= c.iloc[0]['data_ora'] \n",
    "        mask_10 = ricevitore_10.data_ora <= c.iloc[-1]['data_ora'] \n",
    "        d = ricevitore_10[mask_9 & mask_10].assign(elevazione = j)\n",
    "        df = pd.concat([df,d])"
   ]
  },
  {
   "cell_type": "code",
   "execution_count": 35,
   "metadata": {},
   "outputs": [],
   "source": [
    "df.to_csv('dati35s.csv', index=False)"
   ]
  },
  {
   "cell_type": "markdown",
   "metadata": {},
   "source": [
    "## 40 salita"
   ]
  },
  {
   "cell_type": "code",
   "execution_count": 36,
   "metadata": {},
   "outputs": [],
   "source": [
    "azimuth_min =  294.8\n",
    "azimuth_max = 295.1\n",
    "\n",
    "data_i = pd.to_datetime('2023-03-01 00:28:30', format = '%Y-%m-%d %H:%M:%S')\n",
    "data_f = pd.to_datetime('2023-03-01 00:32:00', format = '%Y-%m-%d %H:%M:%S')\n",
    "data_m = pd.to_datetime('2023-03-01 02:56:00', format = '%Y-%m-%d %H:%M:%S')\n",
    "\n",
    "title = '01 marzo 2023, elevazione 40 salita'\n",
    "\n",
    "file_parabola = '../../Dati/1 marzo/2023_03_01.txt'\n",
    "file_ricevitore = '../../Dati/1 marzo/2023-03-01.txt'"
   ]
  },
  {
   "cell_type": "code",
   "execution_count": 37,
   "metadata": {},
   "outputs": [],
   "source": [
    "parabola = pd.read_csv (file_parabola,\n",
    "                           sep=';',\n",
    "                           header=None,\n",
    "                           comment='#')\n",
    "\n",
    "ricevitore_10 = pd.read_csv (file_ricevitore,\n",
    "                                sep = ' ',\n",
    "                                header=None,\n",
    "                                skiprows=11,\n",
    "                                decimal='.',\n",
    "                                names=['data','ora','rad','temperatura'])"
   ]
  },
  {
   "cell_type": "code",
   "execution_count": 38,
   "metadata": {},
   "outputs": [],
   "source": [
    "parabola.rename(columns={0: 'day', 1: 'month', 2: 'year', 3: 'hour', 4: 'minute', 5: 'second', 9: 'azimuth', 10: 'elevazione'}, inplace = True)\n",
    "parabola['data_ora'] = pd.to_datetime(parabola[[\"day\", \"month\", \"year\", \"hour\", \"minute\", \"second\"]])\n",
    "parabola = parabola.loc[:,['data_ora','elevazione','azimuth']]\n",
    "\n",
    "mask_1 = parabola.azimuth <= azimuth_max\n",
    "mask_2 = parabola.azimuth >= azimuth_min\n",
    "mask_3 = parabola.data_ora >= data_i\n",
    "mask_4 = parabola.data_ora <= data_f\n",
    "parabola = parabola.loc[mask_1 & mask_2 & mask_3 & mask_4]\n",
    "parabola.reset_index(inplace=True, drop=True)\n",
    "\n",
    "while parabola.at[0,'elevazione'] > 40.1:\n",
    "    parabola = parabola.drop(labels=0, axis=0)\n",
    "    parabola.reset_index(inplace=True, drop=True)\n",
    "    \n",
    "ricevitore_10['data_ora'] = ricevitore_10['data'].map(str) + ' ' + ricevitore_10['ora'].map(str)\n",
    "ricevitore_10['data_ora'] = pd.to_datetime(ricevitore_10['data_ora'], format = '%m/%d/%Y %H:%M:%S.%f')\n",
    "ricevitore_10 = ricevitore_10.iloc[:,[-1,2,3]]\n",
    "\n",
    "delta_time = pd.Timedelta(hours = 1)\n",
    "mask_5 = ricevitore_10.data_ora >= parabola.iloc[0]['data_ora'] + delta_time\n",
    "mask_6 = ricevitore_10.data_ora <= parabola.iloc[-1]['data_ora'] + delta_time\n",
    "ricevitore_10 = ricevitore_10[mask_5 & mask_6]\n",
    "\n",
    "parabola['data_ora'] = parabola.data_ora + 2*delta_time\n",
    "ricevitore_10['data_ora'] = ricevitore_10.data_ora + delta_time"
   ]
  },
  {
   "cell_type": "code",
   "execution_count": 39,
   "metadata": {},
   "outputs": [
    {
     "data": {
      "image/png": "[encoded data removed]",
      "text/plain": [
       "<Figure size 432x288 with 1 Axes>"
      ]
     },
     "metadata": {
      "needs_background": "light"
     },
     "output_type": "display_data"
    }
   ],
   "source": [
    "fig, ax = plt.subplots()\n",
    "fig.autofmt_xdate()\n",
    "\n",
    "ax.plot(ricevitore_10['data_ora'],ricevitore_10['rad'], label='temp')\n",
    "ax.xaxis.set_major_formatter(DateFormatter('%H:%M'))\n",
    "ax.xaxis.set_major_locator(MinuteLocator(interval = 15))\n",
    "ax.set_ylim((2000,6000))\n",
    "\n",
    "plt.title(title)\n",
    "plt.ylabel('Rad')\n",
    "plt.show()"
   ]
  },
  {
   "cell_type": "code",
   "execution_count": 40,
   "metadata": {},
   "outputs": [],
   "source": [
    "df = pd.DataFrame(columns=['data_ora','rad','temperatura','elevazione'])\n",
    "\n",
    "for i in range (20, 56, 5):\n",
    "    mask_11 = parabola.elevazione >= i - 0.1\n",
    "    mask_12 = parabola.elevazione <= i + 0.1\n",
    "    mask_13 = parabola.data_ora <= data_m \n",
    "    a = parabola[mask_11 & mask_12 & mask_13]\n",
    "    if a.empty == False:\n",
    "        mask_7 = ricevitore_10.data_ora >= a.iloc[0]['data_ora'] \n",
    "        mask_8 = ricevitore_10.data_ora <= a.iloc[-1]['data_ora'] \n",
    "        b = ricevitore_10[mask_7 & mask_8].assign(elevazione = i)\n",
    "        df = pd.concat([df,b])\n",
    "\n",
    "for j in range (50, 19, -5):\n",
    "    mask_14 = parabola.elevazione >= j - 0.3\n",
    "    mask_15 = parabola.elevazione <= j + 0.3\n",
    "    mask_16 = parabola.data_ora >= data_m \n",
    "    c = parabola[mask_14 & mask_15 & mask_16]\n",
    "    if c.empty == False:\n",
    "        mask_9 = ricevitore_10.data_ora >= c.iloc[0]['data_ora'] \n",
    "        mask_10 = ricevitore_10.data_ora <= c.iloc[-1]['data_ora'] \n",
    "        d = ricevitore_10[mask_9 & mask_10].assign(elevazione = j)\n",
    "        df = pd.concat([df,d])"
   ]
  },
  {
   "cell_type": "code",
   "execution_count": 41,
   "metadata": {},
   "outputs": [],
   "source": [
    "df.to_csv('dati40s.csv', index=False)"
   ]
  },
  {
   "cell_type": "markdown",
   "metadata": {},
   "source": [
    "## 45 salita"
   ]
  },
  {
   "cell_type": "code",
   "execution_count": 42,
   "metadata": {},
   "outputs": [],
   "source": [
    "azimuth_min =  294.8\n",
    "azimuth_max = 295.1\n",
    "\n",
    "data_i = pd.to_datetime('2023-03-01 00:37:30', format = '%Y-%m-%d %H:%M:%S')\n",
    "data_f = pd.to_datetime('2023-03-01 00:40:00', format = '%Y-%m-%d %H:%M:%S')\n",
    "data_m = pd.to_datetime('2023-03-01 02:56:00', format = '%Y-%m-%d %H:%M:%S')\n",
    "\n",
    "title = '01 marzo 2023, elevazione 45 salita'\n",
    "\n",
    "file_parabola = '../../Dati/1 marzo/2023_03_01.txt'\n",
    "file_ricevitore = '../../Dati/1 marzo/2023-03-01.txt'"
   ]
  },
  {
   "cell_type": "code",
   "execution_count": 43,
   "metadata": {},
   "outputs": [],
   "source": [
    "parabola = pd.read_csv (file_parabola,\n",
    "                           sep=';',\n",
    "                           header=None,\n",
    "                           comment='#')\n",
    "\n",
    "ricevitore_10 = pd.read_csv (file_ricevitore,\n",
    "                                sep = ' ',\n",
    "                                header=None,\n",
    "                                skiprows=11,\n",
    "                                decimal='.',\n",
    "                                names=['data','ora','rad','temperatura'])"
   ]
  },
  {
   "cell_type": "code",
   "execution_count": 44,
   "metadata": {},
   "outputs": [],
   "source": [
    "parabola.rename(columns={0: 'day', 1: 'month', 2: 'year', 3: 'hour', 4: 'minute', 5: 'second', 9: 'azimuth', 10: 'elevazione'}, inplace = True)\n",
    "parabola['data_ora'] = pd.to_datetime(parabola[[\"day\", \"month\", \"year\", \"hour\", \"minute\", \"second\"]])\n",
    "parabola = parabola.loc[:,['data_ora','elevazione','azimuth']]\n",
    "\n",
    "mask_1 = parabola.azimuth <= azimuth_max\n",
    "mask_2 = parabola.azimuth >= azimuth_min\n",
    "mask_3 = parabola.data_ora >= data_i\n",
    "mask_4 = parabola.data_ora <= data_f\n",
    "parabola = parabola.loc[mask_1 & mask_2 & mask_3 & mask_4]\n",
    "parabola.reset_index(inplace=True, drop=True)\n",
    "\n",
    "while parabola.at[0,'elevazione'] > 45.1:\n",
    "    parabola = parabola.drop(labels=0, axis=0)\n",
    "    parabola.reset_index(inplace=True, drop=True)\n",
    "    \n",
    "ricevitore_10['data_ora'] = ricevitore_10['data'].map(str) + ' ' + ricevitore_10['ora'].map(str)\n",
    "ricevitore_10['data_ora'] = pd.to_datetime(ricevitore_10['data_ora'], format = '%m/%d/%Y %H:%M:%S.%f')\n",
    "ricevitore_10 = ricevitore_10.iloc[:,[-1,2,3]]\n",
    "\n",
    "delta_time = pd.Timedelta(hours = 1)\n",
    "mask_5 = ricevitore_10.data_ora >= parabola.iloc[0]['data_ora'] + delta_time\n",
    "mask_6 = ricevitore_10.data_ora <= parabola.iloc[-1]['data_ora'] + delta_time\n",
    "ricevitore_10 = ricevitore_10[mask_5 & mask_6]\n",
    "\n",
    "parabola['data_ora'] = parabola.data_ora + 2*delta_time\n",
    "ricevitore_10['data_ora'] = ricevitore_10.data_ora + delta_time"
   ]
  },
  {
   "cell_type": "code",
   "execution_count": 45,
   "metadata": {},
   "outputs": [
    {
     "data": {
      "image/png": "[encoded data removed]",
      "text/plain": [
       "<Figure size 432x288 with 1 Axes>"
      ]
     },
     "metadata": {
      "needs_background": "light"
     },
     "output_type": "display_data"
    }
   ],
   "source": [
    "fig, ax = plt.subplots()\n",
    "fig.autofmt_xdate()\n",
    "\n",
    "ax.plot(ricevitore_10['data_ora'],ricevitore_10['rad'], label='temp')\n",
    "ax.xaxis.set_major_formatter(DateFormatter('%H:%M'))\n",
    "ax.xaxis.set_major_locator(MinuteLocator(interval = 15))\n",
    "ax.set_ylim((2000,6000))\n",
    "\n",
    "plt.title(title)\n",
    "plt.ylabel('Rad')\n",
    "plt.show()"
   ]
  },
  {
   "cell_type": "code",
   "execution_count": 46,
   "metadata": {},
   "outputs": [],
   "source": [
    "df = pd.DataFrame(columns=['data_ora','rad','temperatura','elevazione'])\n",
    "\n",
    "for i in range (20, 56, 5):\n",
    "    mask_11 = parabola.elevazione >= i - 0.1\n",
    "    mask_12 = parabola.elevazione <= i + 0.1\n",
    "    mask_13 = parabola.data_ora <= data_m \n",
    "    a = parabola[mask_11 & mask_12 & mask_13]\n",
    "    if a.empty == False:\n",
    "        mask_7 = ricevitore_10.data_ora >= a.iloc[0]['data_ora'] \n",
    "        mask_8 = ricevitore_10.data_ora <= a.iloc[-1]['data_ora'] \n",
    "        b = ricevitore_10[mask_7 & mask_8].assign(elevazione = i)\n",
    "        df = pd.concat([df,b])\n",
    "\n",
    "for j in range (50, 19, -5):\n",
    "    mask_14 = parabola.elevazione >= j - 0.3\n",
    "    mask_15 = parabola.elevazione <= j + 0.3\n",
    "    mask_16 = parabola.data_ora >= data_m \n",
    "    c = parabola[mask_14 & mask_15 & mask_16]\n",
    "    if c.empty == False:\n",
    "        mask_9 = ricevitore_10.data_ora >= c.iloc[0]['data_ora'] \n",
    "        mask_10 = ricevitore_10.data_ora <= c.iloc[-1]['data_ora'] \n",
    "        d = ricevitore_10[mask_9 & mask_10].assign(elevazione = j)\n",
    "        df = pd.concat([df,d])"
   ]
  },
  {
   "cell_type": "code",
   "execution_count": 47,
   "metadata": {},
   "outputs": [],
   "source": [
    "df.to_csv('dati45s.csv', index=False)"
   ]
  },
  {
   "cell_type": "markdown",
   "metadata": {},
   "source": [
    "## 50 salita"
   ]
  },
  {
   "cell_type": "code",
   "execution_count": 48,
   "metadata": {},
   "outputs": [],
   "source": [
    "azimuth_min =  294.8\n",
    "azimuth_max = 295.1\n",
    "\n",
    "data_i = pd.to_datetime('2023-03-01 00:46:00', format = '%Y-%m-%d %H:%M:%S')\n",
    "data_f = pd.to_datetime('2023-03-01 00:48:00', format = '%Y-%m-%d %H:%M:%S')\n",
    "data_m = pd.to_datetime('2023-03-01 02:56:00', format = '%Y-%m-%d %H:%M:%S')\n",
    "\n",
    "title = '01 marzo 2023, elevazione 50 salita'\n",
    "\n",
    "file_parabola = '../../Dati/1 marzo/2023_03_01.txt'\n",
    "file_ricevitore = '../../Dati/1 marzo/2023-03-01.txt'"
   ]
  },
  {
   "cell_type": "code",
   "execution_count": 49,
   "metadata": {},
   "outputs": [],
   "source": [
    "parabola = pd.read_csv (file_parabola,\n",
    "                           sep=';',\n",
    "                           header=None,\n",
    "                           comment='#')\n",
    "\n",
    "ricevitore_10 = pd.read_csv (file_ricevitore,\n",
    "                                sep = ' ',\n",
    "                                header=None,\n",
    "                                skiprows=11,\n",
    "                                decimal='.',\n",
    "                                names=['data','ora','rad','temperatura'])"
   ]
  },
  {
   "cell_type": "code",
   "execution_count": 50,
   "metadata": {},
   "outputs": [],
   "source": [
    "parabola.rename(columns={0: 'day', 1: 'month', 2: 'year', 3: 'hour', 4: 'minute', 5: 'second', 9: 'azimuth', 10: 'elevazione'}, inplace = True)\n",
    "parabola['data_ora'] = pd.to_datetime(parabola[[\"day\", \"month\", \"year\", \"hour\", \"minute\", \"second\"]])\n",
    "parabola = parabola.loc[:,['data_ora','elevazione','azimuth']]\n",
    "\n",
    "mask_1 = parabola.azimuth <= azimuth_max\n",
    "mask_2 = parabola.azimuth >= azimuth_min\n",
    "mask_3 = parabola.data_ora >= data_i\n",
    "mask_4 = parabola.data_ora <= data_f\n",
    "parabola = parabola.loc[mask_1 & mask_2 & mask_3 & mask_4]\n",
    "parabola.reset_index(inplace=True, drop=True)\n",
    "\n",
    "while parabola.at[0,'elevazione'] > 50.1:\n",
    "    parabola = parabola.drop(labels=0, axis=0)\n",
    "    parabola.reset_index(inplace=True, drop=True)\n",
    "    \n",
    "ricevitore_10['data_ora'] = ricevitore_10['data'].map(str) + ' ' + ricevitore_10['ora'].map(str)\n",
    "ricevitore_10['data_ora'] = pd.to_datetime(ricevitore_10['data_ora'], format = '%m/%d/%Y %H:%M:%S.%f')\n",
    "ricevitore_10 = ricevitore_10.iloc[:,[-1,2,3]]\n",
    "\n",
    "delta_time = pd.Timedelta(hours = 1)\n",
    "mask_5 = ricevitore_10.data_ora >= parabola.iloc[0]['data_ora'] + delta_time\n",
    "mask_6 = ricevitore_10.data_ora <= parabola.iloc[-1]['data_ora'] + delta_time\n",
    "ricevitore_10 = ricevitore_10[mask_5 & mask_6]\n",
    "\n",
    "parabola['data_ora'] = parabola.data_ora + 2*delta_time\n",
    "ricevitore_10['data_ora'] = ricevitore_10.data_ora + delta_time"
   ]
  },
  {
   "cell_type": "code",
   "execution_count": 51,
   "metadata": {},
   "outputs": [
    {
     "data": {
      "image/png": "[encoded data removed]",
      "text/plain": [
       "<Figure size 432x288 with 1 Axes>"
      ]
     },
     "metadata": {
      "needs_background": "light"
     },
     "output_type": "display_data"
    }
   ],
   "source": [
    "fig, ax = plt.subplots()\n",
    "fig.autofmt_xdate()\n",
    "\n",
    "ax.plot(ricevitore_10['data_ora'],ricevitore_10['rad'], label='temp')\n",
    "ax.xaxis.set_major_formatter(DateFormatter('%H:%M'))\n",
    "ax.xaxis.set_major_locator(MinuteLocator(interval = 15))\n",
    "ax.set_ylim((2000,6000))\n",
    "\n",
    "plt.title(title)\n",
    "plt.ylabel('Rad')\n",
    "plt.show()"
   ]
  },
  {
   "cell_type": "code",
   "execution_count": 52,
   "metadata": {},
   "outputs": [],
   "source": [
    "df = pd.DataFrame(columns=['data_ora','rad','temperatura','elevazione'])\n",
    "\n",
    "for i in range (20, 56, 5):\n",
    "    mask_11 = parabola.elevazione >= i - 0.1\n",
    "    mask_12 = parabola.elevazione <= i + 0.1\n",
    "    mask_13 = parabola.data_ora <= data_m \n",
    "    a = parabola[mask_11 & mask_12 & mask_13]\n",
    "    if a.empty == False:\n",
    "        mask_7 = ricevitore_10.data_ora >= a.iloc[0]['data_ora'] \n",
    "        mask_8 = ricevitore_10.data_ora <= a.iloc[-1]['data_ora'] \n",
    "        b = ricevitore_10[mask_7 & mask_8].assign(elevazione = i)\n",
    "        df = pd.concat([df,b])\n",
    "\n",
    "for j in range (50, 19, -5):\n",
    "    mask_14 = parabola.elevazione >= j - 0.3\n",
    "    mask_15 = parabola.elevazione <= j + 0.3\n",
    "    mask_16 = parabola.data_ora >= data_m \n",
    "    c = parabola[mask_14 & mask_15 & mask_16]\n",
    "    if c.empty == False:\n",
    "        mask_9 = ricevitore_10.data_ora >= c.iloc[0]['data_ora'] \n",
    "        mask_10 = ricevitore_10.data_ora <= c.iloc[-1]['data_ora'] \n",
    "        d = ricevitore_10[mask_9 & mask_10].assign(elevazione = j)\n",
    "        df = pd.concat([df,d])"
   ]
  },
  {
   "cell_type": "code",
   "execution_count": 53,
   "metadata": {},
   "outputs": [],
   "source": [
    "df.to_csv('dati50s.csv', index=False)"
   ]
  },
  {
   "cell_type": "markdown",
   "metadata": {},
   "source": [
    "## elevazione 55"
   ]
  },
  {
   "cell_type": "code",
   "execution_count": 54,
   "metadata": {},
   "outputs": [],
   "source": [
    "azimuth_min =  294.8\n",
    "azimuth_max = 295.1\n",
    "\n",
    "data_i = pd.to_datetime('2023-03-01 00:53:00', format = '%Y-%m-%d %H:%M:%S')\n",
    "data_f = pd.to_datetime('2023-03-01 00:56:00', format = '%Y-%m-%d %H:%M:%S')\n",
    "data_m = pd.to_datetime('2023-03-01 02:56:00', format = '%Y-%m-%d %H:%M:%S')\n",
    "\n",
    "title = '01 marzo 2023, elevazione 55 salita'\n",
    "\n",
    "file_parabola = '../../Dati/1 marzo/2023_03_01.txt'\n",
    "file_ricevitore = '../../Dati/1 marzo/2023-03-01.txt'"
   ]
  },
  {
   "cell_type": "code",
   "execution_count": 55,
   "metadata": {},
   "outputs": [],
   "source": [
    "parabola = pd.read_csv (file_parabola,\n",
    "                           sep=';',\n",
    "                           header=None,\n",
    "                           comment='#')\n",
    "\n",
    "ricevitore_10 = pd.read_csv (file_ricevitore,\n",
    "                                sep = ' ',\n",
    "                                header=None,\n",
    "                                skiprows=11,\n",
    "                                decimal='.',\n",
    "                                names=['data','ora','rad','temperatura'])"
   ]
  },
  {
   "cell_type": "code",
   "execution_count": 56,
   "metadata": {},
   "outputs": [],
   "source": [
    "parabola.rename(columns={0: 'day', 1: 'month', 2: 'year', 3: 'hour', 4: 'minute', 5: 'second', 9: 'azimuth', 10: 'elevazione'}, inplace = True)\n",
    "parabola['data_ora'] = pd.to_datetime(parabola[[\"day\", \"month\", \"year\", \"hour\", \"minute\", \"second\"]])\n",
    "parabola = parabola.loc[:,['data_ora','elevazione','azimuth']]\n",
    "\n",
    "mask_1 = parabola.azimuth <= azimuth_max\n",
    "mask_2 = parabola.azimuth >= azimuth_min\n",
    "mask_3 = parabola.data_ora >= data_i\n",
    "mask_4 = parabola.data_ora <= data_f\n",
    "parabola = parabola.loc[mask_1 & mask_2 & mask_3 & mask_4]\n",
    "parabola.reset_index(inplace=True, drop=True)\n",
    "\n",
    "while parabola.at[0,'elevazione'] > 55.1:\n",
    "    parabola = parabola.drop(labels=0, axis=0)\n",
    "    parabola.reset_index(inplace=True, drop=True)\n",
    "    \n",
    "ricevitore_10['data_ora'] = ricevitore_10['data'].map(str) + ' ' + ricevitore_10['ora'].map(str)\n",
    "ricevitore_10['data_ora'] = pd.to_datetime(ricevitore_10['data_ora'], format = '%m/%d/%Y %H:%M:%S.%f')\n",
    "ricevitore_10 = ricevitore_10.iloc[:,[-1,2,3]]\n",
    "\n",
    "delta_time = pd.Timedelta(hours = 1)\n",
    "mask_5 = ricevitore_10.data_ora >= parabola.iloc[0]['data_ora'] + delta_time\n",
    "mask_6 = ricevitore_10.data_ora <= parabola.iloc[-1]['data_ora'] + delta_time\n",
    "ricevitore_10 = ricevitore_10[mask_5 & mask_6]\n",
    "\n",
    "parabola['data_ora'] = parabola.data_ora + 2*delta_time\n",
    "ricevitore_10['data_ora'] = ricevitore_10.data_ora + delta_time"
   ]
  },
  {
   "cell_type": "code",
   "execution_count": 57,
   "metadata": {},
   "outputs": [
    {
     "data": {
      "image/png": "[encoded data removed]",
      "text/plain": [
       "<Figure size 432x288 with 1 Axes>"
      ]
     },
     "metadata": {
      "needs_background": "light"
     },
     "output_type": "display_data"
    }
   ],
   "source": [
    "fig, ax = plt.subplots()\n",
    "fig.autofmt_xdate()\n",
    "\n",
    "ax.plot(ricevitore_10['data_ora'],ricevitore_10['rad'], label='temp')\n",
    "ax.xaxis.set_major_formatter(DateFormatter('%H:%M'))\n",
    "ax.xaxis.set_major_locator(MinuteLocator(interval = 15))\n",
    "ax.set_ylim((2000,6000))\n",
    "\n",
    "plt.title(title)\n",
    "plt.ylabel('Rad')\n",
    "plt.show()"
   ]
  },
  {
   "cell_type": "code",
   "execution_count": 58,
   "metadata": {},
   "outputs": [],
   "source": [
    "df = pd.DataFrame(columns=['data_ora','rad','temperatura','elevazione'])\n",
    "\n",
    "for i in range (20, 56, 5):\n",
    "    mask_11 = parabola.elevazione >= i - 0.1\n",
    "    mask_12 = parabola.elevazione <= i + 0.1\n",
    "    mask_13 = parabola.data_ora <= data_m \n",
    "    a = parabola[mask_11 & mask_12 & mask_13]\n",
    "    if a.empty == False:\n",
    "        mask_7 = ricevitore_10.data_ora >= a.iloc[0]['data_ora'] \n",
    "        mask_8 = ricevitore_10.data_ora <= a.iloc[-1]['data_ora'] \n",
    "        b = ricevitore_10[mask_7 & mask_8].assign(elevazione = i)\n",
    "        df = pd.concat([df,b])\n",
    "\n",
    "for j in range (50, 19, -5):\n",
    "    mask_14 = parabola.elevazione >= j - 0.3\n",
    "    mask_15 = parabola.elevazione <= j + 0.3\n",
    "    mask_16 = parabola.data_ora >= data_m \n",
    "    c = parabola[mask_14 & mask_15 & mask_16]\n",
    "    if c.empty == False:\n",
    "        mask_9 = ricevitore_10.data_ora >= c.iloc[0]['data_ora'] \n",
    "        mask_10 = ricevitore_10.data_ora <= c.iloc[-1]['data_ora'] \n",
    "        d = ricevitore_10[mask_9 & mask_10].assign(elevazione = j)\n",
    "        df = pd.concat([df,d])"
   ]
  },
  {
   "cell_type": "code",
   "execution_count": 59,
   "metadata": {},
   "outputs": [],
   "source": [
    "df.to_csv('dati55s.csv', index=False)"
   ]
  },
  {
   "cell_type": "markdown",
   "metadata": {},
   "source": [
    "## 50 discesa"
   ]
  },
  {
   "cell_type": "code",
   "execution_count": 60,
   "metadata": {},
   "outputs": [],
   "source": [
    "azimuth_min =  294.8\n",
    "azimuth_max = 295.1\n",
    "\n",
    "data_i = pd.to_datetime('2023-03-01 01:00:00', format = '%Y-%m-%d %H:%M:%S')\n",
    "data_f = pd.to_datetime('2023-03-01 01:04:00', format = '%Y-%m-%d %H:%M:%S')\n",
    "data_m = pd.to_datetime('2023-03-01 02:56:00', format = '%Y-%m-%d %H:%M:%S')\n",
    "\n",
    "title = '01 marzo 2023, elevazione 50 discesa'\n",
    "\n",
    "file_parabola = '../../Dati/1 marzo/2023_03_01.txt'\n",
    "file_ricevitore = '../../Dati/1 marzo/2023-03-01.txt'"
   ]
  },
  {
   "cell_type": "code",
   "execution_count": 61,
   "metadata": {},
   "outputs": [],
   "source": [
    "parabola = pd.read_csv (file_parabola,\n",
    "                           sep=';',\n",
    "                           header=None,\n",
    "                           comment='#')\n",
    "\n",
    "ricevitore_10 = pd.read_csv (file_ricevitore,\n",
    "                                sep = ' ',\n",
    "                                header=None,\n",
    "                                skiprows=11,\n",
    "                                decimal='.',\n",
    "                                names=['data','ora','rad','temperatura'])"
   ]
  },
  {
   "cell_type": "code",
   "execution_count": 62,
   "metadata": {},
   "outputs": [],
   "source": [
    "parabola.rename(columns={0: 'day', 1: 'month', 2: 'year', 3: 'hour', 4: 'minute', 5: 'second', 9: 'azimuth', 10: 'elevazione'}, inplace = True)\n",
    "parabola['data_ora'] = pd.to_datetime(parabola[[\"day\", \"month\", \"year\", \"hour\", \"minute\", \"second\"]])\n",
    "parabola = parabola.loc[:,['data_ora','elevazione','azimuth']]\n",
    "\n",
    "mask_1 = parabola.azimuth <= azimuth_max\n",
    "mask_2 = parabola.azimuth >= azimuth_min\n",
    "mask_3 = parabola.data_ora >= data_i\n",
    "mask_4 = parabola.data_ora <= data_f\n",
    "parabola = parabola.loc[mask_1 & mask_2 & mask_3 & mask_4]\n",
    "parabola.reset_index(inplace=True, drop=True)\n",
    "\n",
    "while parabola.at[0,'elevazione'] > 50.1:\n",
    "    parabola = parabola.drop(labels=0, axis=0)\n",
    "    parabola.reset_index(inplace=True, drop=True)\n",
    "    \n",
    "ricevitore_10['data_ora'] = ricevitore_10['data'].map(str) + ' ' + ricevitore_10['ora'].map(str)\n",
    "ricevitore_10['data_ora'] = pd.to_datetime(ricevitore_10['data_ora'], format = '%m/%d/%Y %H:%M:%S.%f')\n",
    "ricevitore_10 = ricevitore_10.iloc[:,[-1,2,3]]\n",
    "\n",
    "delta_time = pd.Timedelta(hours = 1)\n",
    "mask_5 = ricevitore_10.data_ora >= parabola.iloc[0]['data_ora'] + delta_time\n",
    "mask_6 = ricevitore_10.data_ora <= parabola.iloc[-1]['data_ora'] + delta_time\n",
    "ricevitore_10 = ricevitore_10[mask_5 & mask_6]\n",
    "\n",
    "parabola['data_ora'] = parabola.data_ora + 2*delta_time\n",
    "ricevitore_10['data_ora'] = ricevitore_10.data_ora + delta_time"
   ]
  },
  {
   "cell_type": "code",
   "execution_count": 63,
   "metadata": {},
   "outputs": [
    {
     "data": {
      "image/png": "[encoded data removed]",
      "text/plain": [
       "<Figure size 432x288 with 1 Axes>"
      ]
     },
     "metadata": {
      "needs_background": "light"
     },
     "output_type": "display_data"
    }
   ],
   "source": [
    "fig, ax = plt.subplots()\n",
    "fig.autofmt_xdate()\n",
    "\n",
    "ax.plot(ricevitore_10['data_ora'],ricevitore_10['rad'], label='temp')\n",
    "ax.xaxis.set_major_formatter(DateFormatter('%H:%M'))\n",
    "ax.xaxis.set_major_locator(MinuteLocator(interval = 15))\n",
    "ax.set_ylim((2000,6000))\n",
    "\n",
    "plt.title(title)\n",
    "plt.ylabel('Rad')\n",
    "plt.show()"
   ]
  },
  {
   "cell_type": "code",
   "execution_count": 64,
   "metadata": {},
   "outputs": [],
   "source": [
    "df = pd.DataFrame(columns=['data_ora','rad','temperatura','elevazione'])\n",
    "\n",
    "for i in range (20, 56, 5):\n",
    "    mask_11 = parabola.elevazione >= i - 0.1\n",
    "    mask_12 = parabola.elevazione <= i + 0.1\n",
    "    mask_13 = parabola.data_ora <= data_m \n",
    "    a = parabola[mask_11 & mask_12 & mask_13]\n",
    "    if a.empty == False:\n",
    "        mask_7 = ricevitore_10.data_ora >= a.iloc[0]['data_ora'] \n",
    "        mask_8 = ricevitore_10.data_ora <= a.iloc[-1]['data_ora'] \n",
    "        b = ricevitore_10[mask_7 & mask_8].assign(elevazione = i)\n",
    "        df = pd.concat([df,b])\n",
    "\n",
    "for j in range (50, 19, -5):\n",
    "    mask_14 = parabola.elevazione >= j - 0.3\n",
    "    mask_15 = parabola.elevazione <= j + 0.3\n",
    "    mask_16 = parabola.data_ora >= data_m \n",
    "    c = parabola[mask_14 & mask_15 & mask_16]\n",
    "    if c.empty == False:\n",
    "        mask_9 = ricevitore_10.data_ora >= c.iloc[0]['data_ora'] \n",
    "        mask_10 = ricevitore_10.data_ora <= c.iloc[-1]['data_ora'] \n",
    "        d = ricevitore_10[mask_9 & mask_10].assign(elevazione = j)\n",
    "        df = pd.concat([df,d])"
   ]
  },
  {
   "cell_type": "code",
   "execution_count": 65,
   "metadata": {},
   "outputs": [],
   "source": [
    "df.to_csv('dati50d.csv', index=False)"
   ]
  },
  {
   "cell_type": "markdown",
   "metadata": {},
   "source": [
    "## 45 discesa"
   ]
  },
  {
   "cell_type": "code",
   "execution_count": 66,
   "metadata": {},
   "outputs": [],
   "source": [
    "azimuth_min =  294.8\n",
    "azimuth_max = 295.1\n",
    "\n",
    "data_i = pd.to_datetime('2023-03-01 01:04:00', format = '%Y-%m-%d %H:%M:%S')\n",
    "data_f = pd.to_datetime('2023-03-01 01:12:00', format = '%Y-%m-%d %H:%M:%S')\n",
    "data_m = pd.to_datetime('2023-03-01 02:56:00', format = '%Y-%m-%d %H:%M:%S')\n",
    "\n",
    "title = '01 marzo 2023, elevazione 45 discesa'\n",
    "\n",
    "file_parabola = '../../Dati/1 marzo/2023_03_01.txt'\n",
    "file_ricevitore = '../../Dati/1 marzo/2023-03-01.txt'"
   ]
  },
  {
   "cell_type": "code",
   "execution_count": 67,
   "metadata": {},
   "outputs": [],
   "source": [
    "parabola = pd.read_csv (file_parabola,\n",
    "                           sep=';',\n",
    "                           header=None,\n",
    "                           comment='#')\n",
    "\n",
    "ricevitore_10 = pd.read_csv (file_ricevitore,\n",
    "                                sep = ' ',\n",
    "                                header=None,\n",
    "                                skiprows=11,\n",
    "                                decimal='.',\n",
    "                                names=['data','ora','rad','temperatura'])"
   ]
  },
  {
   "cell_type": "code",
   "execution_count": 68,
   "metadata": {},
   "outputs": [],
   "source": [
    "parabola.rename(columns={0: 'day', 1: 'month', 2: 'year', 3: 'hour', 4: 'minute', 5: 'second', 9: 'azimuth', 10: 'elevazione'}, inplace = True)\n",
    "parabola['data_ora'] = pd.to_datetime(parabola[[\"day\", \"month\", \"year\", \"hour\", \"minute\", \"second\"]])\n",
    "parabola = parabola.loc[:,['data_ora','elevazione','azimuth']]\n",
    "\n",
    "mask_1 = parabola.azimuth <= azimuth_max\n",
    "mask_2 = parabola.azimuth >= azimuth_min\n",
    "mask_3 = parabola.data_ora >= data_i\n",
    "mask_4 = parabola.data_ora <= data_f\n",
    "parabola = parabola.loc[mask_1 & mask_2 & mask_3 & mask_4]\n",
    "parabola.reset_index(inplace=True, drop=True)\n",
    "\n",
    "while parabola.at[0,'elevazione'] > 45.1:\n",
    "    parabola = parabola.drop(labels=0, axis=0)\n",
    "    parabola.reset_index(inplace=True, drop=True)\n",
    "    \n",
    "ricevitore_10['data_ora'] = ricevitore_10['data'].map(str) + ' ' + ricevitore_10['ora'].map(str)\n",
    "ricevitore_10['data_ora'] = pd.to_datetime(ricevitore_10['data_ora'], format = '%m/%d/%Y %H:%M:%S.%f')\n",
    "ricevitore_10 = ricevitore_10.iloc[:,[-1,2,3]]\n",
    "\n",
    "delta_time = pd.Timedelta(hours = 1)\n",
    "mask_5 = ricevitore_10.data_ora >= parabola.iloc[0]['data_ora'] + delta_time\n",
    "mask_6 = ricevitore_10.data_ora <= parabola.iloc[-1]['data_ora'] + delta_time\n",
    "ricevitore_10 = ricevitore_10[mask_5 & mask_6]\n",
    "\n",
    "parabola['data_ora'] = parabola.data_ora + 2*delta_time\n",
    "ricevitore_10['data_ora'] = ricevitore_10.data_ora + delta_time"
   ]
  },
  {
   "cell_type": "code",
   "execution_count": 69,
   "metadata": {},
   "outputs": [
    {
     "data": {
      "image/png": "[encoded data removed]",
      "text/plain": [
       "<Figure size 432x288 with 1 Axes>"
      ]
     },
     "metadata": {
      "needs_background": "light"
     },
     "output_type": "display_data"
    }
   ],
   "source": [
    "fig, ax = plt.subplots()\n",
    "fig.autofmt_xdate()\n",
    "\n",
    "ax.plot(ricevitore_10['data_ora'],ricevitore_10['rad'], label='temp')\n",
    "ax.xaxis.set_major_formatter(DateFormatter('%H:%M'))\n",
    "ax.xaxis.set_major_locator(MinuteLocator(interval = 15))\n",
    "ax.set_ylim((2000,6000))\n",
    "\n",
    "plt.title(title)\n",
    "plt.ylabel('Rad')\n",
    "plt.show()"
   ]
  },
  {
   "cell_type": "code",
   "execution_count": 70,
   "metadata": {},
   "outputs": [],
   "source": [
    "df = pd.DataFrame(columns=['data_ora','rad','temperatura','elevazione'])\n",
    "\n",
    "for i in range (20, 56, 5):\n",
    "    mask_11 = parabola.elevazione >= i - 0.1\n",
    "    mask_12 = parabola.elevazione <= i + 0.1\n",
    "    mask_13 = parabola.data_ora <= data_m \n",
    "    a = parabola[mask_11 & mask_12 & mask_13]\n",
    "    if a.empty == False:\n",
    "        mask_7 = ricevitore_10.data_ora >= a.iloc[0]['data_ora'] \n",
    "        mask_8 = ricevitore_10.data_ora <= a.iloc[-1]['data_ora'] \n",
    "        b = ricevitore_10[mask_7 & mask_8].assign(elevazione = i)\n",
    "        df = pd.concat([df,b])\n",
    "\n",
    "for j in range (50, 19, -5):\n",
    "    mask_14 = parabola.elevazione >= j - 0.3\n",
    "    mask_15 = parabola.elevazione <= j + 0.3\n",
    "    mask_16 = parabola.data_ora >= data_m \n",
    "    c = parabola[mask_14 & mask_15 & mask_16]\n",
    "    if c.empty == False:\n",
    "        mask_9 = ricevitore_10.data_ora >= c.iloc[0]['data_ora'] \n",
    "        mask_10 = ricevitore_10.data_ora <= c.iloc[-1]['data_ora'] \n",
    "        d = ricevitore_10[mask_9 & mask_10].assign(elevazione = j)\n",
    "        df = pd.concat([df,d])"
   ]
  },
  {
   "cell_type": "code",
   "execution_count": 71,
   "metadata": {},
   "outputs": [],
   "source": [
    "df.to_csv('dati45d.csv', index=False)"
   ]
  },
  {
   "cell_type": "markdown",
   "metadata": {},
   "source": [
    "## 40 discesa"
   ]
  },
  {
   "cell_type": "code",
   "execution_count": 72,
   "metadata": {},
   "outputs": [],
   "source": [
    "azimuth_min =  294.8\n",
    "azimuth_max = 295.1\n",
    "\n",
    "data_i = pd.to_datetime('2023-03-01 01:17:00', format = '%Y-%m-%d %H:%M:%S')\n",
    "data_f = pd.to_datetime('2023-03-01 01:20:00', format = '%Y-%m-%d %H:%M:%S')\n",
    "data_m = pd.to_datetime('2023-03-01 02:56:00', format = '%Y-%m-%d %H:%M:%S')\n",
    "\n",
    "title = '01 marzo 2023, elevazione 40 discesa'\n",
    "\n",
    "file_parabola = '../../Dati/1 marzo/2023_03_01.txt'\n",
    "file_ricevitore = '../../Dati/1 marzo/2023-03-01.txt'"
   ]
  },
  {
   "cell_type": "code",
   "execution_count": 73,
   "metadata": {},
   "outputs": [],
   "source": [
    "parabola = pd.read_csv (file_parabola,\n",
    "                           sep=';',\n",
    "                           header=None,\n",
    "                           comment='#')\n",
    "\n",
    "ricevitore_10 = pd.read_csv (file_ricevitore,\n",
    "                                sep = ' ',\n",
    "                                header=None,\n",
    "                                skiprows=11,\n",
    "                                decimal='.',\n",
    "                                names=['data','ora','rad','temperatura'])"
   ]
  },
  {
   "cell_type": "code",
   "execution_count": 74,
   "metadata": {},
   "outputs": [],
   "source": [
    "parabola.rename(columns={0: 'day', 1: 'month', 2: 'year', 3: 'hour', 4: 'minute', 5: 'second', 9: 'azimuth', 10: 'elevazione'}, inplace = True)\n",
    "parabola['data_ora'] = pd.to_datetime(parabola[[\"day\", \"month\", \"year\", \"hour\", \"minute\", \"second\"]])\n",
    "parabola = parabola.loc[:,['data_ora','elevazione','azimuth']]\n",
    "\n",
    "mask_1 = parabola.azimuth <= azimuth_max\n",
    "mask_2 = parabola.azimuth >= azimuth_min\n",
    "mask_3 = parabola.data_ora >= data_i\n",
    "mask_4 = parabola.data_ora <= data_f\n",
    "parabola = parabola.loc[mask_1 & mask_2 & mask_3 & mask_4]\n",
    "parabola.reset_index(inplace=True, drop=True)\n",
    "\n",
    "while parabola.at[0,'elevazione'] > 40.1:\n",
    "    parabola = parabola.drop(labels=0, axis=0)\n",
    "    parabola.reset_index(inplace=True, drop=True)\n",
    "    \n",
    "ricevitore_10['data_ora'] = ricevitore_10['data'].map(str) + ' ' + ricevitore_10['ora'].map(str)\n",
    "ricevitore_10['data_ora'] = pd.to_datetime(ricevitore_10['data_ora'], format = '%m/%d/%Y %H:%M:%S.%f')\n",
    "ricevitore_10 = ricevitore_10.iloc[:,[-1,2,3]]\n",
    "\n",
    "delta_time = pd.Timedelta(hours = 1)\n",
    "mask_5 = ricevitore_10.data_ora >= parabola.iloc[0]['data_ora'] + delta_time\n",
    "mask_6 = ricevitore_10.data_ora <= parabola.iloc[-1]['data_ora'] + delta_time\n",
    "ricevitore_10 = ricevitore_10[mask_5 & mask_6]\n",
    "\n",
    "parabola['data_ora'] = parabola.data_ora + 2*delta_time\n",
    "ricevitore_10['data_ora'] = ricevitore_10.data_ora + delta_time"
   ]
  },
  {
   "cell_type": "code",
   "execution_count": 75,
   "metadata": {},
   "outputs": [
    {
     "data": {
      "image/png": "[encoded data removed]",
      "text/plain": [
       "<Figure size 432x288 with 1 Axes>"
      ]
     },
     "metadata": {
      "needs_background": "light"
     },
     "output_type": "display_data"
    }
   ],
   "source": [
    "fig, ax = plt.subplots()\n",
    "fig.autofmt_xdate()\n",
    "\n",
    "ax.plot(ricevitore_10['data_ora'],ricevitore_10['rad'], label='temp')\n",
    "ax.xaxis.set_major_formatter(DateFormatter('%H:%M'))\n",
    "ax.xaxis.set_major_locator(MinuteLocator(interval = 15))\n",
    "ax.set_ylim((2000,6000))\n",
    "\n",
    "plt.title(title)\n",
    "plt.ylabel('Rad')\n",
    "plt.show()"
   ]
  },
  {
   "cell_type": "code",
   "execution_count": 76,
   "metadata": {},
   "outputs": [],
   "source": [
    "df = pd.DataFrame(columns=['data_ora','rad','temperatura','elevazione'])\n",
    "\n",
    "for i in range (20, 56, 5):\n",
    "    mask_11 = parabola.elevazione >= i - 0.1\n",
    "    mask_12 = parabola.elevazione <= i + 0.1\n",
    "    mask_13 = parabola.data_ora <= data_m \n",
    "    a = parabola[mask_11 & mask_12 & mask_13]\n",
    "    if a.empty == False:\n",
    "        mask_7 = ricevitore_10.data_ora >= a.iloc[0]['data_ora'] \n",
    "        mask_8 = ricevitore_10.data_ora <= a.iloc[-1]['data_ora'] \n",
    "        b = ricevitore_10[mask_7 & mask_8].assign(elevazione = i)\n",
    "        df = pd.concat([df,b])\n",
    "\n",
    "for j in range (50, 19, -5):\n",
    "    mask_14 = parabola.elevazione >= j - 0.3\n",
    "    mask_15 = parabola.elevazione <= j + 0.3\n",
    "    mask_16 = parabola.data_ora >= data_m \n",
    "    c = parabola[mask_14 & mask_15 & mask_16]\n",
    "    if c.empty == False:\n",
    "        mask_9 = ricevitore_10.data_ora >= c.iloc[0]['data_ora'] \n",
    "        mask_10 = ricevitore_10.data_ora <= c.iloc[-1]['data_ora'] \n",
    "        d = ricevitore_10[mask_9 & mask_10].assign(elevazione = j)\n",
    "        df = pd.concat([df,d])"
   ]
  },
  {
   "cell_type": "code",
   "execution_count": 77,
   "metadata": {},
   "outputs": [],
   "source": [
    "df.to_csv('dati40d.csv', index=False)"
   ]
  },
  {
   "cell_type": "markdown",
   "metadata": {},
   "source": [
    "## 35 discesa"
   ]
  },
  {
   "cell_type": "code",
   "execution_count": 78,
   "metadata": {},
   "outputs": [],
   "source": [
    "azimuth_min =  294.8\n",
    "azimuth_max = 295.1\n",
    "\n",
    "data_i = pd.to_datetime('2023-03-01 01:26:00', format = '%Y-%m-%d %H:%M:%S')\n",
    "data_f = pd.to_datetime('2023-03-01 01:28:00', format = '%Y-%m-%d %H:%M:%S')\n",
    "data_m = pd.to_datetime('2023-03-01 02:56:00', format = '%Y-%m-%d %H:%M:%S')\n",
    "\n",
    "title = '01 marzo 2023, elevazione 35 discesa'\n",
    "\n",
    "file_parabola = '../../Dati/1 marzo/2023_03_01.txt'\n",
    "file_ricevitore = '../../Dati/1 marzo/2023-03-01.txt'"
   ]
  },
  {
   "cell_type": "code",
   "execution_count": 79,
   "metadata": {},
   "outputs": [],
   "source": [
    "parabola = pd.read_csv (file_parabola,\n",
    "                           sep=';',\n",
    "                           header=None,\n",
    "                           comment='#')\n",
    "\n",
    "ricevitore_10 = pd.read_csv (file_ricevitore,\n",
    "                                sep = ' ',\n",
    "                                header=None,\n",
    "                                skiprows=11,\n",
    "                                decimal='.',\n",
    "                                names=['data','ora','rad','temperatura'])"
   ]
  },
  {
   "cell_type": "code",
   "execution_count": 80,
   "metadata": {},
   "outputs": [],
   "source": [
    "parabola.rename(columns={0: 'day', 1: 'month', 2: 'year', 3: 'hour', 4: 'minute', 5: 'second', 9: 'azimuth', 10: 'elevazione'}, inplace = True)\n",
    "parabola['data_ora'] = pd.to_datetime(parabola[[\"day\", \"month\", \"year\", \"hour\", \"minute\", \"second\"]])\n",
    "parabola = parabola.loc[:,['data_ora','elevazione','azimuth']]\n",
    "\n",
    "mask_1 = parabola.azimuth <= azimuth_max\n",
    "mask_2 = parabola.azimuth >= azimuth_min\n",
    "mask_3 = parabola.data_ora >= data_i\n",
    "mask_4 = parabola.data_ora <= data_f\n",
    "parabola = parabola.loc[mask_1 & mask_2 & mask_3 & mask_4]\n",
    "parabola.reset_index(inplace=True, drop=True)\n",
    "\n",
    "while parabola.at[0,'elevazione'] > 35.1:\n",
    "    parabola = parabola.drop(labels=0, axis=0)\n",
    "    parabola.reset_index(inplace=True, drop=True)\n",
    "    \n",
    "ricevitore_10['data_ora'] = ricevitore_10['data'].map(str) + ' ' + ricevitore_10['ora'].map(str)\n",
    "ricevitore_10['data_ora'] = pd.to_datetime(ricevitore_10['data_ora'], format = '%m/%d/%Y %H:%M:%S.%f')\n",
    "ricevitore_10 = ricevitore_10.iloc[:,[-1,2,3]]\n",
    "\n",
    "delta_time = pd.Timedelta(hours = 1)\n",
    "mask_5 = ricevitore_10.data_ora >= parabola.iloc[0]['data_ora'] + delta_time\n",
    "mask_6 = ricevitore_10.data_ora <= parabola.iloc[-1]['data_ora'] + delta_time\n",
    "ricevitore_10 = ricevitore_10[mask_5 & mask_6]\n",
    "\n",
    "parabola['data_ora'] = parabola.data_ora + 2*delta_time\n",
    "ricevitore_10['data_ora'] = ricevitore_10.data_ora + delta_time"
   ]
  },
  {
   "cell_type": "code",
   "execution_count": 81,
   "metadata": {},
   "outputs": [
    {
     "data": {
      "image/png": "[encoded data removed]",
      "text/plain": [
       "<Figure size 432x288 with 1 Axes>"
      ]
     },
     "metadata": {
      "needs_background": "light"
     },
     "output_type": "display_data"
    }
   ],
   "source": [
    "fig, ax = plt.subplots()\n",
    "fig.autofmt_xdate()\n",
    "\n",
    "ax.plot(ricevitore_10['data_ora'],ricevitore_10['rad'], label='temp')\n",
    "ax.xaxis.set_major_formatter(DateFormatter('%H:%M'))\n",
    "ax.xaxis.set_major_locator(MinuteLocator(interval = 15))\n",
    "ax.set_ylim((2000,6000))\n",
    "\n",
    "plt.title(title)\n",
    "plt.ylabel('Rad')\n",
    "plt.show()"
   ]
  },
  {
   "cell_type": "code",
   "execution_count": 82,
   "metadata": {},
   "outputs": [],
   "source": [
    "df = pd.DataFrame(columns=['data_ora','rad','temperatura','elevazione'])\n",
    "\n",
    "for i in range (20, 56, 5):\n",
    "    mask_11 = parabola.elevazione >= i - 0.1\n",
    "    mask_12 = parabola.elevazione <= i + 0.1\n",
    "    mask_13 = parabola.data_ora <= data_m \n",
    "    a = parabola[mask_11 & mask_12 & mask_13]\n",
    "    if a.empty == False:\n",
    "        mask_7 = ricevitore_10.data_ora >= a.iloc[0]['data_ora'] \n",
    "        mask_8 = ricevitore_10.data_ora <= a.iloc[-1]['data_ora'] \n",
    "        b = ricevitore_10[mask_7 & mask_8].assign(elevazione = i)\n",
    "        df = pd.concat([df,b])\n",
    "\n",
    "for j in range (50, 19, -5):\n",
    "    mask_14 = parabola.elevazione >= j - 0.3\n",
    "    mask_15 = parabola.elevazione <= j + 0.3\n",
    "    mask_16 = parabola.data_ora >= data_m \n",
    "    c = parabola[mask_14 & mask_15 & mask_16]\n",
    "    if c.empty == False:\n",
    "        mask_9 = ricevitore_10.data_ora >= c.iloc[0]['data_ora'] \n",
    "        mask_10 = ricevitore_10.data_ora <= c.iloc[-1]['data_ora'] \n",
    "        d = ricevitore_10[mask_9 & mask_10].assign(elevazione = j)\n",
    "        df = pd.concat([df,d])"
   ]
  },
  {
   "cell_type": "code",
   "execution_count": 83,
   "metadata": {},
   "outputs": [],
   "source": [
    "df.to_csv('dati35d.csv', index=False)"
   ]
  },
  {
   "cell_type": "markdown",
   "metadata": {},
   "source": [
    "## 30 discesa"
   ]
  },
  {
   "cell_type": "code",
   "execution_count": 84,
   "metadata": {},
   "outputs": [],
   "source": [
    "azimuth_min =  294.8\n",
    "azimuth_max = 295.1\n",
    "\n",
    "data_i = pd.to_datetime('2023-03-01 01:34:30', format = '%Y-%m-%d %H:%M:%S')\n",
    "data_f = pd.to_datetime('2023-03-01 01:36:00', format = '%Y-%m-%d %H:%M:%S')\n",
    "data_m = pd.to_datetime('2023-03-01 02:56:00', format = '%Y-%m-%d %H:%M:%S')\n",
    "\n",
    "title = '01 marzo 2023, elevazione 30 discesa'\n",
    "\n",
    "file_parabola = '../../Dati/1 marzo/2023_03_01.txt'\n",
    "file_ricevitore = '../../Dati/1 marzo/2023-03-01.txt'"
   ]
  },
  {
   "cell_type": "code",
   "execution_count": 85,
   "metadata": {},
   "outputs": [],
   "source": [
    "parabola = pd.read_csv (file_parabola,\n",
    "                           sep=';',\n",
    "                           header=None,\n",
    "                           comment='#')\n",
    "\n",
    "ricevitore_10 = pd.read_csv (file_ricevitore,\n",
    "                                sep = ' ',\n",
    "                                header=None,\n",
    "                                skiprows=11,\n",
    "                                decimal='.',\n",
    "                                names=['data','ora','rad','temperatura'])"
   ]
  },
  {
   "cell_type": "code",
   "execution_count": 86,
   "metadata": {},
   "outputs": [],
   "source": [
    "parabola.rename(columns={0: 'day', 1: 'month', 2: 'year', 3: 'hour', 4: 'minute', 5: 'second', 9: 'azimuth', 10: 'elevazione'}, inplace = True)\n",
    "parabola['data_ora'] = pd.to_datetime(parabola[[\"day\", \"month\", \"year\", \"hour\", \"minute\", \"second\"]])\n",
    "parabola = parabola.loc[:,['data_ora','elevazione','azimuth']]\n",
    "\n",
    "mask_1 = parabola.azimuth <= azimuth_max\n",
    "mask_2 = parabola.azimuth >= azimuth_min\n",
    "mask_3 = parabola.data_ora >= data_i\n",
    "mask_4 = parabola.data_ora <= data_f\n",
    "parabola = parabola.loc[mask_1 & mask_2 & mask_3 & mask_4]\n",
    "parabola.reset_index(inplace=True, drop=True)\n",
    "\n",
    "while parabola.at[0,'elevazione'] > 30.1:\n",
    "    parabola = parabola.drop(labels=0, axis=0)\n",
    "    parabola.reset_index(inplace=True, drop=True)\n",
    "    \n",
    "ricevitore_10['data_ora'] = ricevitore_10['data'].map(str) + ' ' + ricevitore_10['ora'].map(str)\n",
    "ricevitore_10['data_ora'] = pd.to_datetime(ricevitore_10['data_ora'], format = '%m/%d/%Y %H:%M:%S.%f')\n",
    "ricevitore_10 = ricevitore_10.iloc[:,[-1,2,3]]\n",
    "\n",
    "delta_time = pd.Timedelta(hours = 1)\n",
    "mask_5 = ricevitore_10.data_ora >= parabola.iloc[0]['data_ora'] + delta_time\n",
    "mask_6 = ricevitore_10.data_ora <= parabola.iloc[-1]['data_ora'] + delta_time\n",
    "ricevitore_10 = ricevitore_10[mask_5 & mask_6]\n",
    "\n",
    "parabola['data_ora'] = parabola.data_ora + 2*delta_time\n",
    "ricevitore_10['data_ora'] = ricevitore_10.data_ora + delta_time"
   ]
  },
  {
   "cell_type": "code",
   "execution_count": 87,
   "metadata": {},
   "outputs": [
    {
     "data": {
      "image/png": "[encoded data removed]",
      "text/plain": [
       "<Figure size 432x288 with 1 Axes>"
      ]
     },
     "metadata": {
      "needs_background": "light"
     },
     "output_type": "display_data"
    }
   ],
   "source": [
    "fig, ax = plt.subplots()\n",
    "fig.autofmt_xdate()\n",
    "\n",
    "ax.plot(ricevitore_10['data_ora'],ricevitore_10['rad'], label='temp')\n",
    "ax.xaxis.set_major_formatter(DateFormatter('%H:%M'))\n",
    "ax.xaxis.set_major_locator(MinuteLocator(interval = 15))\n",
    "ax.set_ylim((2000,6000))\n",
    "\n",
    "plt.title(title)\n",
    "plt.ylabel('Rad')\n",
    "plt.show()"
   ]
  },
  {
   "cell_type": "code",
   "execution_count": 88,
   "metadata": {},
   "outputs": [],
   "source": [
    "df = pd.DataFrame(columns=['data_ora','rad','temperatura','elevazione'])\n",
    "\n",
    "for i in range (20, 56, 5):\n",
    "    mask_11 = parabola.elevazione >= i - 0.1\n",
    "    mask_12 = parabola.elevazione <= i + 0.1\n",
    "    mask_13 = parabola.data_ora <= data_m \n",
    "    a = parabola[mask_11 & mask_12 & mask_13]\n",
    "    if a.empty == False:\n",
    "        mask_7 = ricevitore_10.data_ora >= a.iloc[0]['data_ora'] \n",
    "        mask_8 = ricevitore_10.data_ora <= a.iloc[-1]['data_ora'] \n",
    "        b = ricevitore_10[mask_7 & mask_8].assign(elevazione = i)\n",
    "        df = pd.concat([df,b])\n",
    "\n",
    "for j in range (50, 19, -5):\n",
    "    mask_14 = parabola.elevazione >= j - 0.3\n",
    "    mask_15 = parabola.elevazione <= j + 0.3\n",
    "    mask_16 = parabola.data_ora >= data_m \n",
    "    c = parabola[mask_14 & mask_15 & mask_16]\n",
    "    if c.empty == False:\n",
    "        mask_9 = ricevitore_10.data_ora >= c.iloc[0]['data_ora'] \n",
    "        mask_10 = ricevitore_10.data_ora <= c.iloc[-1]['data_ora'] \n",
    "        d = ricevitore_10[mask_9 & mask_10].assign(elevazione = j)\n",
    "        df = pd.concat([df,d])"
   ]
  },
  {
   "cell_type": "code",
   "execution_count": 89,
   "metadata": {},
   "outputs": [],
   "source": [
    "df.to_csv('dati30d.csv', index=False)"
   ]
  },
  {
   "cell_type": "markdown",
   "metadata": {},
   "source": [
    "## 25 discesa"
   ]
  },
  {
   "cell_type": "code",
   "execution_count": 90,
   "metadata": {},
   "outputs": [],
   "source": [
    "azimuth_min =  294.8\n",
    "azimuth_max = 295.1\n",
    "\n",
    "data_i = pd.to_datetime('2023-03-01 01:40:00', format = '%Y-%m-%d %H:%M:%S')\n",
    "data_f = pd.to_datetime('2023-03-01 01:44:00', format = '%Y-%m-%d %H:%M:%S')\n",
    "data_m = pd.to_datetime('2023-03-01 02:56:00', format = '%Y-%m-%d %H:%M:%S')\n",
    "\n",
    "title = '01 marzo 2023, elevazione 25 discesa'\n",
    "\n",
    "file_parabola = '../../Dati/1 marzo/2023_03_01.txt'\n",
    "file_ricevitore = '../../Dati/1 marzo/2023-03-01.txt'"
   ]
  },
  {
   "cell_type": "code",
   "execution_count": 91,
   "metadata": {},
   "outputs": [],
   "source": [
    "parabola = pd.read_csv (file_parabola,\n",
    "                           sep=';',\n",
    "                           header=None,\n",
    "                           comment='#')\n",
    "\n",
    "ricevitore_10 = pd.read_csv (file_ricevitore,\n",
    "                                sep = ' ',\n",
    "                                header=None,\n",
    "                                skiprows=11,\n",
    "                                decimal='.',\n",
    "                                names=['data','ora','rad','temperatura'])"
   ]
  },
  {
   "cell_type": "code",
   "execution_count": 92,
   "metadata": {},
   "outputs": [],
   "source": [
    "parabola.rename(columns={0: 'day', 1: 'month', 2: 'year', 3: 'hour', 4: 'minute', 5: 'second', 9: 'azimuth', 10: 'elevazione'}, inplace = True)\n",
    "parabola['data_ora'] = pd.to_datetime(parabola[[\"day\", \"month\", \"year\", \"hour\", \"minute\", \"second\"]])\n",
    "parabola = parabola.loc[:,['data_ora','elevazione','azimuth']]\n",
    "\n",
    "mask_1 = parabola.azimuth <= azimuth_max\n",
    "mask_2 = parabola.azimuth >= azimuth_min\n",
    "mask_3 = parabola.data_ora >= data_i\n",
    "mask_4 = parabola.data_ora <= data_f\n",
    "parabola = parabola.loc[mask_1 & mask_2 & mask_3 & mask_4]\n",
    "parabola.reset_index(inplace=True, drop=True)\n",
    "\n",
    "while parabola.at[0,'elevazione'] > 25.1:\n",
    "    parabola = parabola.drop(labels=0, axis=0)\n",
    "    parabola.reset_index(inplace=True, drop=True)\n",
    "    \n",
    "ricevitore_10['data_ora'] = ricevitore_10['data'].map(str) + ' ' + ricevitore_10['ora'].map(str)\n",
    "ricevitore_10['data_ora'] = pd.to_datetime(ricevitore_10['data_ora'], format = '%m/%d/%Y %H:%M:%S.%f')\n",
    "ricevitore_10 = ricevitore_10.iloc[:,[-1,2,3]]\n",
    "\n",
    "delta_time = pd.Timedelta(hours = 1)\n",
    "mask_5 = ricevitore_10.data_ora >= parabola.iloc[0]['data_ora'] + delta_time\n",
    "mask_6 = ricevitore_10.data_ora <= parabola.iloc[-1]['data_ora'] + delta_time\n",
    "ricevitore_10 = ricevitore_10[mask_5 & mask_6]\n",
    "\n",
    "parabola['data_ora'] = parabola.data_ora + 2*delta_time\n",
    "ricevitore_10['data_ora'] = ricevitore_10.data_ora + delta_time"
   ]
  },
  {
   "cell_type": "code",
   "execution_count": 93,
   "metadata": {},
   "outputs": [
    {
     "data": {
      "image/png": "[encoded data removed]",
      "text/plain": [
       "<Figure size 432x288 with 1 Axes>"
      ]
     },
     "metadata": {
      "needs_background": "light"
     },
     "output_type": "display_data"
    }
   ],
   "source": [
    "fig, ax = plt.subplots()\n",
    "fig.autofmt_xdate()\n",
    "\n",
    "ax.plot(ricevitore_10['data_ora'],ricevitore_10['rad'], label='temp')\n",
    "ax.xaxis.set_major_formatter(DateFormatter('%H:%M'))\n",
    "ax.xaxis.set_major_locator(MinuteLocator(interval = 15))\n",
    "ax.set_ylim((2000,6000))\n",
    "\n",
    "plt.title(title)\n",
    "plt.ylabel('Rad')\n",
    "plt.show()"
   ]
  },
  {
   "cell_type": "code",
   "execution_count": 94,
   "metadata": {},
   "outputs": [],
   "source": [
    "df = pd.DataFrame(columns=['data_ora','rad','temperatura','elevazione'])\n",
    "\n",
    "for i in range (20, 56, 5):\n",
    "    mask_11 = parabola.elevazione >= i - 0.1\n",
    "    mask_12 = parabola.elevazione <= i + 0.1\n",
    "    mask_13 = parabola.data_ora <= data_m \n",
    "    a = parabola[mask_11 & mask_12 & mask_13]\n",
    "    if a.empty == False:\n",
    "        mask_7 = ricevitore_10.data_ora >= a.iloc[0]['data_ora'] \n",
    "        mask_8 = ricevitore_10.data_ora <= a.iloc[-1]['data_ora'] \n",
    "        b = ricevitore_10[mask_7 & mask_8].assign(elevazione = i)\n",
    "        df = pd.concat([df,b])\n",
    "\n",
    "for j in range (50, 19, -5):\n",
    "    mask_14 = parabola.elevazione >= j - 0.3\n",
    "    mask_15 = parabola.elevazione <= j + 0.3\n",
    "    mask_16 = parabola.data_ora >= data_m \n",
    "    c = parabola[mask_14 & mask_15 & mask_16]\n",
    "    if c.empty == False:\n",
    "        mask_9 = ricevitore_10.data_ora >= c.iloc[0]['data_ora'] \n",
    "        mask_10 = ricevitore_10.data_ora <= c.iloc[-1]['data_ora'] \n",
    "        d = ricevitore_10[mask_9 & mask_10].assign(elevazione = j)\n",
    "        df = pd.concat([df,d])"
   ]
  },
  {
   "cell_type": "code",
   "execution_count": 95,
   "metadata": {},
   "outputs": [],
   "source": [
    "df.to_csv('dati25d.csv', index=False)"
   ]
  },
  {
   "cell_type": "markdown",
   "metadata": {},
   "source": [
    "## 20 discesa"
   ]
  },
  {
   "cell_type": "code",
   "execution_count": 96,
   "metadata": {},
   "outputs": [],
   "source": [
    "azimuth_min =  294.8\n",
    "azimuth_max = 295.1\n",
    "\n",
    "data_i = pd.to_datetime('2023-03-01 01:48:00', format = '%Y-%m-%d %H:%M:%S')\n",
    "data_f = pd.to_datetime('2023-03-01 01:52:00', format = '%Y-%m-%d %H:%M:%S')\n",
    "data_m = pd.to_datetime('2023-03-01 02:56:00', format = '%Y-%m-%d %H:%M:%S')\n",
    "\n",
    "title = '01 marzo 2023, elevazione 20 discesa'\n",
    "\n",
    "file_parabola = '../../Dati/1 marzo/2023_03_01.txt'\n",
    "file_ricevitore = '../../Dati/1 marzo/2023-03-01.txt'"
   ]
  },
  {
   "cell_type": "code",
   "execution_count": 97,
   "metadata": {},
   "outputs": [],
   "source": [
    "parabola = pd.read_csv (file_parabola,\n",
    "                           sep=';',\n",
    "                           header=None,\n",
    "                           comment='#')\n",
    "\n",
    "ricevitore_10 = pd.read_csv (file_ricevitore,\n",
    "                                sep = ' ',\n",
    "                                header=None,\n",
    "                                skiprows=11,\n",
    "                                decimal='.',\n",
    "                                names=['data','ora','rad','temperatura'])"
   ]
  },
  {
   "cell_type": "code",
   "execution_count": 98,
   "metadata": {},
   "outputs": [],
   "source": [
    "parabola.rename(columns={0: 'day', 1: 'month', 2: 'year', 3: 'hour', 4: 'minute', 5: 'second', 9: 'azimuth', 10: 'elevazione'}, inplace = True)\n",
    "parabola['data_ora'] = pd.to_datetime(parabola[[\"day\", \"month\", \"year\", \"hour\", \"minute\", \"second\"]])\n",
    "parabola = parabola.loc[:,['data_ora','elevazione','azimuth']]\n",
    "\n",
    "mask_1 = parabola.azimuth <= azimuth_max\n",
    "mask_2 = parabola.azimuth >= azimuth_min\n",
    "mask_3 = parabola.data_ora >= data_i\n",
    "mask_4 = parabola.data_ora <= data_f\n",
    "parabola = parabola.loc[mask_1 & mask_2 & mask_3 & mask_4]\n",
    "parabola.reset_index(inplace=True, drop=True)\n",
    "\n",
    "while parabola.at[0,'elevazione'] > 20.1:\n",
    "    parabola = parabola.drop(labels=0, axis=0)\n",
    "    parabola.reset_index(inplace=True, drop=True)\n",
    "    \n",
    "ricevitore_10['data_ora'] = ricevitore_10['data'].map(str) + ' ' + ricevitore_10['ora'].map(str)\n",
    "ricevitore_10['data_ora'] = pd.to_datetime(ricevitore_10['data_ora'], format = '%m/%d/%Y %H:%M:%S.%f')\n",
    "ricevitore_10 = ricevitore_10.iloc[:,[-1,2,3]]\n",
    "\n",
    "delta_time = pd.Timedelta(hours = 1)\n",
    "mask_5 = ricevitore_10.data_ora >= parabola.iloc[0]['data_ora'] + delta_time\n",
    "mask_6 = ricevitore_10.data_ora <= parabola.iloc[-1]['data_ora'] + delta_time\n",
    "ricevitore_10 = ricevitore_10[mask_5 & mask_6]\n",
    "\n",
    "parabola['data_ora'] = parabola.data_ora + 2*delta_time\n",
    "ricevitore_10['data_ora'] = ricevitore_10.data_ora + delta_time"
   ]
  },
  {
   "cell_type": "code",
   "execution_count": 99,
   "metadata": {},
   "outputs": [
    {
     "data": {
      "image/png": "[encoded data removed]",
      "text/plain": [
       "<Figure size 432x288 with 1 Axes>"
      ]
     },
     "metadata": {
      "needs_background": "light"
     },
     "output_type": "display_data"
    }
   ],
   "source": [
    "fig, ax = plt.subplots()\n",
    "fig.autofmt_xdate()\n",
    "\n",
    "ax.plot(ricevitore_10['data_ora'],ricevitore_10['rad'], label='temp')\n",
    "ax.xaxis.set_major_formatter(DateFormatter('%H:%M'))\n",
    "ax.xaxis.set_major_locator(MinuteLocator(interval = 15))\n",
    "ax.set_ylim((2000,6000))\n",
    "\n",
    "plt.title(title)\n",
    "plt.ylabel('Rad')\n",
    "plt.show()"
   ]
  },
  {
   "cell_type": "code",
   "execution_count": 100,
   "metadata": {},
   "outputs": [],
   "source": [
    "df = pd.DataFrame(columns=['data_ora','rad','temperatura','elevazione'])\n",
    "\n",
    "for i in range (20, 56, 5):\n",
    "    mask_11 = parabola.elevazione >= i - 0.1\n",
    "    mask_12 = parabola.elevazione <= i + 0.1\n",
    "    mask_13 = parabola.data_ora <= data_m \n",
    "    a = parabola[mask_11 & mask_12 & mask_13]\n",
    "    if a.empty == False:\n",
    "        mask_7 = ricevitore_10.data_ora >= a.iloc[0]['data_ora'] \n",
    "        mask_8 = ricevitore_10.data_ora <= a.iloc[-1]['data_ora'] \n",
    "        b = ricevitore_10[mask_7 & mask_8].assign(elevazione = i)\n",
    "        df = pd.concat([df,b])\n",
    "\n",
    "for j in range (50, 19, -5):\n",
    "    mask_14 = parabola.elevazione >= j - 0.3\n",
    "    mask_15 = parabola.elevazione <= j + 0.3\n",
    "    mask_16 = parabola.data_ora >= data_m \n",
    "    c = parabola[mask_14 & mask_15 & mask_16]\n",
    "    if c.empty == False:\n",
    "        mask_9 = ricevitore_10.data_ora >= c.iloc[0]['data_ora'] \n",
    "        mask_10 = ricevitore_10.data_ora <= c.iloc[-1]['data_ora'] \n",
    "        d = ricevitore_10[mask_9 & mask_10].assign(elevazione = j)\n",
    "        df = pd.concat([df,d])"
   ]
  },
  {
   "cell_type": "code",
   "execution_count": 101,
   "metadata": {},
   "outputs": [],
   "source": [
    "df.to_csv('dati20d.csv', index=False)"
   ]
  }
 ],
 "metadata": {
  "kernelspec": {
   "display_name": "Python 3",
   "language": "python",
   "name": "python3"
  },
  "language_info": {
   "codemirror_mode": {
    "name": "ipython",
    "version": 3
   },
   "file_extension": ".py",
   "mimetype": "text/x-python",
   "name": "python",
   "nbconvert_exporter": "python",
   "pygments_lexer": "ipython3",
   "version": "3.7.6"
  }
 },
 "nbformat": 4,
 "nbformat_minor": 4
}
