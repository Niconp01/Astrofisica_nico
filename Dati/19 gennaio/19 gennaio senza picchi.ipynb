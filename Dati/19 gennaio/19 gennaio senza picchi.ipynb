{
 "cells": [
  {
   "cell_type": "markdown",
   "metadata": {},
   "source": [
    "19 gennaio 2023\n",
    "azimuth parabola: 85\n",
    "\n",
    "azimuth vero: 80\n",
    "\n",
    "ora inizio parabola: 00:00\n",
    "\n",
    "ora fine parabola: 02:56"
   ]
  },
  {
   "cell_type": "code",
   "execution_count": 104,
   "metadata": {},
   "outputs": [],
   "source": [
    "import numpy as np\n",
    "import matplotlib.pyplot as plt\n",
    "from matplotlib.dates import MinuteLocator, SecondLocator, DateFormatter\n",
    "import pandas as pd\n",
    "\n",
    "from scipy import stats\n",
    "from scipy.optimize import curve_fit\n",
    "from scipy.stats import norm"
   ]
  },
  {
   "cell_type": "markdown",
   "metadata": {},
   "source": [
    "# 20 gradi salita"
   ]
  },
  {
   "cell_type": "code",
   "execution_count": 105,
   "metadata": {},
   "outputs": [],
   "source": [
    "azimuth_min =  84.9\n",
    "azimuth_max = 85.1\n",
    "\n",
    "data_i = pd.to_datetime('2023-01-19 00:30:00', format = '%Y-%m-%d %H:%M:%S')\n",
    "data_f = pd.to_datetime('2023-01-19 00:36:00', format = '%Y-%m-%d %H:%M:%S')\n",
    "data_m = pd.to_datetime('2023-01-19 03:56:00', format = '%Y-%m-%d %H:%M:%S')\n",
    "\n",
    "title = '19 gennaio 2023, elevazione 20 salita'\n",
    "\n",
    "file_parabola = '../../Dati/19 gennaio/2023_01_19.txt'\n",
    "file_ricevitore = '../../Dati/19 gennaio/2023-01-18_19.txt'"
   ]
  },
  {
   "cell_type": "code",
   "execution_count": 106,
   "metadata": {},
   "outputs": [],
   "source": [
    "parabola = pd.read_csv (file_parabola,\n",
    "                           sep=';',\n",
    "                           header=None,\n",
    "                           comment='#')\n",
    "\n",
    "ricevitore_10 = pd.read_csv (file_ricevitore,\n",
    "                                sep = ' ',\n",
    "                                header=None,\n",
    "                                skiprows=11,\n",
    "                                decimal='.',\n",
    "                                names=['data','ora','rad','temperatura'])"
   ]
  },
  {
   "cell_type": "code",
   "execution_count": 107,
   "metadata": {},
   "outputs": [],
   "source": [
    "parabola.rename(columns={0: 'day', 1: 'month', 2: 'year', 3: 'hour', 4: 'minute', 5: 'second', 9: 'azimuth', 10: 'elevazione'}, inplace = True)\n",
    "parabola['data_ora'] = pd.to_datetime(parabola[[\"day\", \"month\", \"year\", \"hour\", \"minute\", \"second\"]])\n",
    "parabola = parabola.loc[:,['data_ora','elevazione','azimuth']]"
   ]
  },
  {
   "cell_type": "code",
   "execution_count": 108,
   "metadata": {},
   "outputs": [],
   "source": [
    "mask_1 = parabola.azimuth <= azimuth_max\n",
    "mask_2 = parabola.azimuth >= azimuth_min\n",
    "mask_3 = parabola.data_ora >= data_i\n",
    "mask_4 = parabola.data_ora <= data_f\n",
    "parabola = parabola.loc[mask_1 & mask_2 & mask_3 & mask_4]\n",
    "parabola.reset_index(inplace=True, drop=True)"
   ]
  },
  {
   "cell_type": "code",
   "execution_count": 109,
   "metadata": {},
   "outputs": [],
   "source": [
    "while parabola.at[0,'elevazione'] > 20.1:\n",
    "    parabola = parabola.drop(labels=0, axis=0)\n",
    "    parabola.reset_index(inplace=True, drop=True)"
   ]
  },
  {
   "cell_type": "code",
   "execution_count": 110,
   "metadata": {},
   "outputs": [],
   "source": [
    "ricevitore_10['data_ora'] = ricevitore_10['data'].map(str) + ' ' + ricevitore_10['ora'].map(str)\n",
    "ricevitore_10['data_ora'] = pd.to_datetime(ricevitore_10['data_ora'], format = '%m/%d/%Y %H:%M:%S.%f')\n",
    "ricevitore_10 = ricevitore_10.iloc[:,[-1,2,3]]"
   ]
  },
  {
   "cell_type": "code",
   "execution_count": 111,
   "metadata": {},
   "outputs": [],
   "source": [
    "delta_time = pd.Timedelta(hours = 1)\n",
    "mask_5 = ricevitore_10.data_ora >= parabola.iloc[0]['data_ora'] + delta_time\n",
    "mask_6 = ricevitore_10.data_ora <= parabola.iloc[-1]['data_ora'] + delta_time\n",
    "ricevitore_10 = ricevitore_10[mask_5 & mask_6]"
   ]
  },
  {
   "cell_type": "code",
   "execution_count": 112,
   "metadata": {},
   "outputs": [],
   "source": [
    "parabola['data_ora'] = parabola.data_ora + 2*delta_time\n",
    "ricevitore_10['data_ora'] = ricevitore_10.data_ora + delta_time"
   ]
  },
  {
   "cell_type": "code",
   "execution_count": 113,
   "metadata": {},
   "outputs": [
    {
     "data": {
      "image/png": "[encoded data removed]",
      "text/plain": [
       "<Figure size 432x288 with 1 Axes>"
      ]
     },
     "metadata": {
      "needs_background": "light"
     },
     "output_type": "display_data"
    }
   ],
   "source": [
    "fig, ax = plt.subplots()\n",
    "fig.autofmt_xdate()\n",
    "\n",
    "ax.plot(ricevitore_10['data_ora'],ricevitore_10['rad'], label='temp')\n",
    "ax.xaxis.set_major_formatter(DateFormatter('%H:%M'))\n",
    "ax.xaxis.set_major_locator(MinuteLocator(interval = 15))\n",
    "ax.set_ylim((2000,6000))\n",
    "\n",
    "plt.title(title)\n",
    "plt.ylabel('Rad')\n",
    "plt.show()"
   ]
  },
  {
   "cell_type": "code",
   "execution_count": 114,
   "metadata": {},
   "outputs": [],
   "source": [
    "df = pd.DataFrame(columns=['data_ora','rad','temperatura','elevazione'])\n",
    "\n",
    "for i in range (20, 56, 5):\n",
    "    mask_11 = parabola.elevazione >= i - 0.1\n",
    "    mask_12 = parabola.elevazione <= i + 0.1\n",
    "    mask_13 = parabola.data_ora <= data_m \n",
    "    a = parabola[mask_11 & mask_12 & mask_13]\n",
    "    if a.empty == False:\n",
    "        mask_7 = ricevitore_10.data_ora >= a.iloc[0]['data_ora'] \n",
    "        mask_8 = ricevitore_10.data_ora <= a.iloc[-1]['data_ora'] \n",
    "        b = ricevitore_10[mask_7 & mask_8].assign(elevazione = i)\n",
    "        df = pd.concat([df,b])\n",
    "\n",
    "for j in range (50, 19, -5):\n",
    "    mask_14 = parabola.elevazione >= j - 0.3\n",
    "    mask_15 = parabola.elevazione <= j + 0.3\n",
    "    mask_16 = parabola.data_ora >= data_m \n",
    "    c = parabola[mask_14 & mask_15 & mask_16]\n",
    "    if c.empty == False:\n",
    "        mask_9 = ricevitore_10.data_ora >= c.iloc[0]['data_ora'] \n",
    "        mask_10 = ricevitore_10.data_ora <= c.iloc[-1]['data_ora'] \n",
    "        d = ricevitore_10[mask_9 & mask_10].assign(elevazione = j)\n",
    "        df = pd.concat([df,d])"
   ]
  },
  {
   "cell_type": "code",
   "execution_count": 115,
   "metadata": {},
   "outputs": [],
   "source": [
    "df.to_csv('dati20s.csv', index=False)"
   ]
  },
  {
   "cell_type": "markdown",
   "metadata": {},
   "source": [
    "# 25 Salita"
   ]
  },
  {
   "cell_type": "code",
   "execution_count": 116,
   "metadata": {},
   "outputs": [],
   "source": [
    "azimuth_min =  84.9\n",
    "azimuth_max = 85.1\n",
    "\n",
    "data_i = pd.to_datetime('2023-01-19 01:06:00', format = '%Y-%m-%d %H:%M:%S')\n",
    "data_f = pd.to_datetime('2023-01-19 01:08:00', format = '%Y-%m-%d %H:%M:%S')\n",
    "data_m = pd.to_datetime('2023-01-19 03:56:00', format = '%Y-%m-%d %H:%M:%S')\n",
    "\n",
    "title = '19 gennaio 2023, elevazione 25 salita'\n",
    "\n",
    "file_parabola = '../../Dati/19 gennaio/2023_01_19.txt'\n",
    "file_ricevitore = '../../Dati/19 gennaio/2023-01-18_19.txt'"
   ]
  },
  {
   "cell_type": "code",
   "execution_count": 117,
   "metadata": {},
   "outputs": [],
   "source": [
    "parabola = pd.read_csv (file_parabola,\n",
    "                           sep=';',\n",
    "                           header=None,\n",
    "                           comment='#')\n",
    "\n",
    "ricevitore_10 = pd.read_csv (file_ricevitore,\n",
    "                                sep = ' ',\n",
    "                                header=None,\n",
    "                                skiprows=11,\n",
    "                                decimal='.',\n",
    "                                names=['data','ora','rad','temperatura'])"
   ]
  },
  {
   "cell_type": "code",
   "execution_count": 118,
   "metadata": {},
   "outputs": [],
   "source": [
    "parabola.rename(columns={0: 'day', 1: 'month', 2: 'year', 3: 'hour', 4: 'minute', 5: 'second', 9: 'azimuth', 10: 'elevazione'}, inplace = True)\n",
    "parabola['data_ora'] = pd.to_datetime(parabola[[\"day\", \"month\", \"year\", \"hour\", \"minute\", \"second\"]])\n",
    "parabola = parabola.loc[:,['data_ora','elevazione','azimuth']]\n",
    "\n",
    "mask_1 = parabola.azimuth <= azimuth_max\n",
    "mask_2 = parabola.azimuth >= azimuth_min\n",
    "mask_3 = parabola.data_ora >= data_i\n",
    "mask_4 = parabola.data_ora <= data_f\n",
    "parabola = parabola.loc[mask_1 & mask_2 & mask_3 & mask_4]\n",
    "parabola.reset_index(inplace=True, drop=True)\n"
   ]
  },
  {
   "cell_type": "code",
   "execution_count": 119,
   "metadata": {},
   "outputs": [],
   "source": [
    "while parabola.at[0,'elevazione'] > 25.1:\n",
    "    parabola = parabola.drop(labels=0, axis=0)\n",
    "    parabola.reset_index(inplace=True, drop=True)"
   ]
  },
  {
   "cell_type": "code",
   "execution_count": 120,
   "metadata": {},
   "outputs": [],
   "source": [
    "ricevitore_10['data_ora'] = ricevitore_10['data'].map(str) + ' ' + ricevitore_10['ora'].map(str)\n",
    "ricevitore_10['data_ora'] = pd.to_datetime(ricevitore_10['data_ora'], format = '%m/%d/%Y %H:%M:%S.%f')\n",
    "ricevitore_10 = ricevitore_10.iloc[:,[-1,2,3]]"
   ]
  },
  {
   "cell_type": "code",
   "execution_count": 121,
   "metadata": {},
   "outputs": [],
   "source": [
    "delta_time = pd.Timedelta(hours = 1)\n",
    "mask_5 = ricevitore_10.data_ora >= parabola.iloc[0]['data_ora'] + delta_time\n",
    "mask_6 = ricevitore_10.data_ora <= parabola.iloc[-1]['data_ora'] + delta_time\n",
    "ricevitore_10 = ricevitore_10[mask_5 & mask_6]"
   ]
  },
  {
   "cell_type": "code",
   "execution_count": 122,
   "metadata": {},
   "outputs": [],
   "source": [
    "parabola['data_ora'] = parabola.data_ora + 2*delta_time\n",
    "ricevitore_10['data_ora'] = ricevitore_10.data_ora + delta_time"
   ]
  },
  {
   "cell_type": "code",
   "execution_count": 123,
   "metadata": {},
   "outputs": [
    {
     "data": {
      "image/png": "[encoded data removed]",
      "text/plain": [
       "<Figure size 432x288 with 1 Axes>"
      ]
     },
     "metadata": {
      "needs_background": "light"
     },
     "output_type": "display_data"
    }
   ],
   "source": [
    "fig, ax = plt.subplots()\n",
    "fig.autofmt_xdate()\n",
    "\n",
    "ax.plot(ricevitore_10['data_ora'],ricevitore_10['rad'], label='temp')\n",
    "ax.xaxis.set_major_formatter(DateFormatter('%H:%M'))\n",
    "ax.xaxis.set_major_locator(MinuteLocator(interval = 15))\n",
    "ax.set_ylim((2000,6000))\n",
    "\n",
    "plt.title(title)\n",
    "plt.ylabel('Rad')\n",
    "plt.show()"
   ]
  },
  {
   "cell_type": "code",
   "execution_count": 124,
   "metadata": {},
   "outputs": [],
   "source": [
    "df = pd.DataFrame(columns=['data_ora','rad','temperatura','elevazione'])\n",
    "\n",
    "for i in range (20, 56, 5):\n",
    "    mask_11 = parabola.elevazione >= i - 0.1\n",
    "    mask_12 = parabola.elevazione <= i + 0.1\n",
    "    mask_13 = parabola.data_ora <= data_m \n",
    "    a = parabola[mask_11 & mask_12 & mask_13]\n",
    "    if a.empty == False:\n",
    "        mask_7 = ricevitore_10.data_ora >= a.iloc[0]['data_ora'] \n",
    "        mask_8 = ricevitore_10.data_ora <= a.iloc[-1]['data_ora'] \n",
    "        b = ricevitore_10[mask_7 & mask_8].assign(elevazione = i)\n",
    "        df = pd.concat([df,b])\n",
    "\n",
    "for j in range (50, 19, -5):\n",
    "    mask_14 = parabola.elevazione >= j - 0.3\n",
    "    mask_15 = parabola.elevazione <= j + 0.3\n",
    "    mask_16 = parabola.data_ora >= data_m \n",
    "    c = parabola[mask_14 & mask_15 & mask_16]\n",
    "    if c.empty == False:\n",
    "        mask_9 = ricevitore_10.data_ora >= c.iloc[0]['data_ora'] \n",
    "        mask_10 = ricevitore_10.data_ora <= c.iloc[-1]['data_ora'] \n",
    "        d = ricevitore_10[mask_9 & mask_10].assign(elevazione = j)\n",
    "        df = pd.concat([df,d])"
   ]
  },
  {
   "cell_type": "code",
   "execution_count": 125,
   "metadata": {},
   "outputs": [],
   "source": [
    "df.to_csv('dati25s.csv', index=False)"
   ]
  },
  {
   "cell_type": "markdown",
   "metadata": {},
   "source": [
    "# 30 salita"
   ]
  },
  {
   "cell_type": "code",
   "execution_count": 126,
   "metadata": {},
   "outputs": [],
   "source": [
    "azimuth_min =  84.9\n",
    "azimuth_max = 85.1\n",
    "\n",
    "data_i = pd.to_datetime('2023-01-19 01:12:30', format = '%Y-%m-%d %H:%M:%S')\n",
    "data_f = pd.to_datetime('2023-01-19 01:14:00', format = '%Y-%m-%d %H:%M:%S')\n",
    "data_m = pd.to_datetime('2023-01-19 03:56:00', format = '%Y-%m-%d %H:%M:%S')\n",
    "\n",
    "title = '19 gennaio 2023, elevazione 30 salita'\n",
    "\n",
    "file_parabola = '../../Dati/19 gennaio/2023_01_19.txt'\n",
    "file_ricevitore = '../../Dati/19 gennaio/2023-01-18_19.txt'\n",
    "\n",
    "parabola = pd.read_csv (file_parabola,\n",
    "                           sep=';',\n",
    "                           header=None,\n",
    "                           comment='#')\n",
    "\n",
    "ricevitore_10 = pd.read_csv (file_ricevitore,\n",
    "                                sep = ' ',\n",
    "                                header=None,\n",
    "                                skiprows=11,\n",
    "                                decimal='.',\n",
    "                             names=['data','ora','rad','temperatura'])\n",
    "\n",
    "parabola.rename(columns={0: 'day', 1: 'month', 2: 'year', 3: 'hour', 4: 'minute', 5: 'second', 9: 'azimuth', 10: 'elevazione'}, inplace = True)\n",
    "parabola['data_ora'] = pd.to_datetime(parabola[[\"day\", \"month\", \"year\", \"hour\", \"minute\", \"second\"]])\n",
    "parabola = parabola.loc[:,['data_ora','elevazione','azimuth']]\n",
    "\n",
    "mask_1 = parabola.azimuth <= azimuth_max\n",
    "mask_2 = parabola.azimuth >= azimuth_min\n",
    "mask_3 = parabola.data_ora >= data_i\n",
    "mask_4 = parabola.data_ora <= data_f\n",
    "parabola = parabola.loc[mask_1 & mask_2 & mask_3 & mask_4]\n",
    "parabola.reset_index(inplace=True, drop=True)\n",
    "\n",
    "while parabola.at[0,'elevazione'] > 30.1:\n",
    "    parabola = parabola.drop(labels=0, axis=0)\n",
    "    parabola.reset_index(inplace=True, drop=True)\n",
    "    \n",
    "\n",
    "ricevitore_10['data_ora'] = ricevitore_10['data'].map(str) + ' ' + ricevitore_10['ora'].map(str)\n",
    "ricevitore_10['data_ora'] = pd.to_datetime(ricevitore_10['data_ora'], format = '%m/%d/%Y %H:%M:%S.%f')\n",
    "ricevitore_10 = ricevitore_10.iloc[:,[-1,2,3]]    \n",
    "\n",
    "\n",
    "delta_time = pd.Timedelta(hours = 1)\n",
    "mask_5 = ricevitore_10.data_ora >= parabola.iloc[0]['data_ora'] + delta_time\n",
    "mask_6 = ricevitore_10.data_ora <= parabola.iloc[-1]['data_ora'] + delta_time\n",
    "ricevitore_10 = ricevitore_10[mask_5 & mask_6]\n",
    "\n",
    "parabola['data_ora'] = parabola.data_ora + 2*delta_time\n",
    "ricevitore_10['data_ora'] = ricevitore_10.data_ora + delta_time"
   ]
  },
  {
   "cell_type": "code",
   "execution_count": 127,
   "metadata": {},
   "outputs": [
    {
     "data": {
      "image/png": "[encoded data removed]",
      "text/plain": [
       "<Figure size 432x288 with 1 Axes>"
      ]
     },
     "metadata": {
      "needs_background": "light"
     },
     "output_type": "display_data"
    }
   ],
   "source": [
    "fig, ax = plt.subplots()\n",
    "fig.autofmt_xdate()\n",
    "\n",
    "ax.plot(ricevitore_10['data_ora'],ricevitore_10['rad'], label='temp')\n",
    "ax.xaxis.set_major_formatter(DateFormatter('%H:%M'))\n",
    "ax.xaxis.set_major_locator(MinuteLocator(interval = 15))\n",
    "ax.set_ylim((2000,6000))\n",
    "\n",
    "plt.title(title)\n",
    "plt.ylabel('Rad')\n",
    "plt.show()"
   ]
  },
  {
   "cell_type": "code",
   "execution_count": 128,
   "metadata": {},
   "outputs": [],
   "source": [
    "df = pd.DataFrame(columns=['data_ora','rad','temperatura','elevazione'])\n",
    "\n",
    "for i in range (20, 56, 5):\n",
    "    mask_11 = parabola.elevazione >= i - 0.1\n",
    "    mask_12 = parabola.elevazione <= i + 0.1\n",
    "    mask_13 = parabola.data_ora <= data_m \n",
    "    a = parabola[mask_11 & mask_12 & mask_13]\n",
    "    if a.empty == False:\n",
    "        mask_7 = ricevitore_10.data_ora >= a.iloc[0]['data_ora'] \n",
    "        mask_8 = ricevitore_10.data_ora <= a.iloc[-1]['data_ora'] \n",
    "        b = ricevitore_10[mask_7 & mask_8].assign(elevazione = i)\n",
    "        df = pd.concat([df,b])\n",
    "\n",
    "for j in range (50, 19, -5):\n",
    "    mask_14 = parabola.elevazione >= j - 0.3\n",
    "    mask_15 = parabola.elevazione <= j + 0.3\n",
    "    mask_16 = parabola.data_ora >= data_m \n",
    "    c = parabola[mask_14 & mask_15 & mask_16]\n",
    "    if c.empty == False:\n",
    "        mask_9 = ricevitore_10.data_ora >= c.iloc[0]['data_ora'] \n",
    "        mask_10 = ricevitore_10.data_ora <= c.iloc[-1]['data_ora'] \n",
    "        d = ricevitore_10[mask_9 & mask_10].assign(elevazione = j)\n",
    "        df = pd.concat([df,d])"
   ]
  },
  {
   "cell_type": "code",
   "execution_count": 129,
   "metadata": {},
   "outputs": [],
   "source": [
    "df.to_csv('dati30s.csv', index=False)"
   ]
  },
  {
   "cell_type": "markdown",
   "metadata": {},
   "source": [
    "# 35 salita"
   ]
  },
  {
   "cell_type": "code",
   "execution_count": 130,
   "metadata": {},
   "outputs": [],
   "source": [
    "azimuth_min =  84.9\n",
    "azimuth_max = 85.1\n",
    "\n",
    "data_i = pd.to_datetime('2023-01-19 01:22:30', format = '%Y-%m-%d %H:%M:%S')\n",
    "data_f = pd.to_datetime('2023-01-19 01:23:00', format = '%Y-%m-%d %H:%M:%S')\n",
    "data_m = pd.to_datetime('2023-01-19 03:56:00', format = '%Y-%m-%d %H:%M:%S')\n",
    "\n",
    "title = '19 gennaio 2023, elevazione 35 salita'\n",
    "\n",
    "file_parabola = '../../Dati/19 gennaio/2023_01_19.txt'\n",
    "file_ricevitore = '../../Dati/19 gennaio/2023-01-18_19.txt'\n",
    "\n",
    "parabola = pd.read_csv (file_parabola,\n",
    "                           sep=';',\n",
    "                           header=None,\n",
    "                           comment='#')\n",
    "\n",
    "ricevitore_10 = pd.read_csv (file_ricevitore,\n",
    "                                sep = ' ',\n",
    "                                header=None,\n",
    "                                skiprows=11,\n",
    "                                decimal='.',\n",
    "                             names=['data','ora','rad','temperatura'])\n",
    "\n",
    "parabola.rename(columns={0: 'day', 1: 'month', 2: 'year', 3: 'hour', 4: 'minute', 5: 'second', 9: 'azimuth', 10: 'elevazione'}, inplace = True)\n",
    "parabola['data_ora'] = pd.to_datetime(parabola[[\"day\", \"month\", \"year\", \"hour\", \"minute\", \"second\"]])\n",
    "parabola = parabola.loc[:,['data_ora','elevazione','azimuth']]\n",
    "\n",
    "mask_1 = parabola.azimuth <= azimuth_max\n",
    "mask_2 = parabola.azimuth >= azimuth_min\n",
    "mask_3 = parabola.data_ora >= data_i\n",
    "mask_4 = parabola.data_ora <= data_f\n",
    "parabola = parabola.loc[mask_1 & mask_2 & mask_3 & mask_4]\n",
    "parabola.reset_index(inplace=True, drop=True)\n",
    "\n",
    "while parabola.at[0,'elevazione'] > 35.1:\n",
    "    parabola = parabola.drop(labels=0, axis=0)\n",
    "    parabola.reset_index(inplace=True, drop=True)\n",
    "    \n",
    "\n",
    "ricevitore_10['data_ora'] = ricevitore_10['data'].map(str) + ' ' + ricevitore_10['ora'].map(str)\n",
    "ricevitore_10['data_ora'] = pd.to_datetime(ricevitore_10['data_ora'], format = '%m/%d/%Y %H:%M:%S.%f')\n",
    "ricevitore_10 = ricevitore_10.iloc[:,[-1,2,3]]    \n",
    "\n",
    "\n",
    "delta_time = pd.Timedelta(hours = 1)\n",
    "mask_5 = ricevitore_10.data_ora >= parabola.iloc[0]['data_ora'] + delta_time\n",
    "mask_6 = ricevitore_10.data_ora <= parabola.iloc[-1]['data_ora'] + delta_time\n",
    "ricevitore_10 = ricevitore_10[mask_5 & mask_6]\n",
    "\n",
    "parabola['data_ora'] = parabola.data_ora + 2*delta_time\n",
    "ricevitore_10['data_ora'] = ricevitore_10.data_ora + delta_time"
   ]
  },
  {
   "cell_type": "code",
   "execution_count": 131,
   "metadata": {},
   "outputs": [
    {
     "data": {
      "image/png": "[encoded data removed]",
      "text/plain": [
       "<Figure size 432x288 with 1 Axes>"
      ]
     },
     "metadata": {
      "needs_background": "light"
     },
     "output_type": "display_data"
    }
   ],
   "source": [
    "fig, ax = plt.subplots()\n",
    "fig.autofmt_xdate()\n",
    "\n",
    "ax.plot(ricevitore_10['data_ora'],ricevitore_10['rad'], label='temp')\n",
    "ax.xaxis.set_major_formatter(DateFormatter('%H:%M'))\n",
    "ax.xaxis.set_major_locator(MinuteLocator(interval = 15))\n",
    "ax.set_ylim((2000,6000))\n",
    "\n",
    "plt.title(title)\n",
    "plt.ylabel('Rad')\n",
    "plt.show()"
   ]
  },
  {
   "cell_type": "code",
   "execution_count": 132,
   "metadata": {},
   "outputs": [],
   "source": [
    "df = pd.DataFrame(columns=['data_ora','rad','temperatura','elevazione'])\n",
    "\n",
    "for i in range (20, 56, 5):\n",
    "    mask_11 = parabola.elevazione >= i - 0.1\n",
    "    mask_12 = parabola.elevazione <= i + 0.1\n",
    "    mask_13 = parabola.data_ora <= data_m \n",
    "    a = parabola[mask_11 & mask_12 & mask_13]\n",
    "    if a.empty == False:\n",
    "        mask_7 = ricevitore_10.data_ora >= a.iloc[0]['data_ora'] \n",
    "        mask_8 = ricevitore_10.data_ora <= a.iloc[-1]['data_ora'] \n",
    "        b = ricevitore_10[mask_7 & mask_8].assign(elevazione = i)\n",
    "        df = pd.concat([df,b])\n",
    "\n",
    "for j in range (50, 19, -5):\n",
    "    mask_14 = parabola.elevazione >= j - 0.1\n",
    "    mask_15 = parabola.elevazione <= j + 0.1\n",
    "    mask_16 = parabola.data_ora >= data_m \n",
    "    c = parabola[mask_14 & mask_15 & mask_16]\n",
    "    if c.empty == False:\n",
    "        mask_9 = ricevitore_10.data_ora >= c.iloc[0]['data_ora'] \n",
    "        mask_10 = ricevitore_10.data_ora <= c.iloc[-1]['data_ora'] \n",
    "        d = ricevitore_10[mask_9 & mask_10].assign(elevazione = j)\n",
    "        df = pd.concat([df,d])"
   ]
  },
  {
   "cell_type": "code",
   "execution_count": 133,
   "metadata": {},
   "outputs": [],
   "source": [
    "df.to_csv('dati35s.csv', index=False)"
   ]
  },
  {
   "cell_type": "markdown",
   "metadata": {},
   "source": [
    "# 40 salita"
   ]
  },
  {
   "cell_type": "code",
   "execution_count": 134,
   "metadata": {},
   "outputs": [],
   "source": [
    "azimuth_min =  84.9\n",
    "azimuth_max = 85.1\n",
    "\n",
    "data_i = pd.to_datetime('2023-01-19 01:31:30', format = '%Y-%m-%d %H:%M:%S')\n",
    "data_f = pd.to_datetime('2023-01-19 01:32:00', format = '%Y-%m-%d %H:%M:%S')\n",
    "data_m = pd.to_datetime('2023-01-19 03:56:00', format = '%Y-%m-%d %H:%M:%S')\n",
    "\n",
    "title = '19 gennaio 2023, elevazione 40 salita'\n",
    "\n",
    "file_parabola = '../../Dati/19 gennaio/2023_01_19.txt'\n",
    "file_ricevitore = '../../Dati/19 gennaio/2023-01-18_19.txt'\n",
    "\n",
    "parabola = pd.read_csv (file_parabola,\n",
    "                           sep=';',\n",
    "                           header=None,\n",
    "                           comment='#')\n",
    "\n",
    "ricevitore_10 = pd.read_csv (file_ricevitore,\n",
    "                                sep = ' ',\n",
    "                                header=None,\n",
    "                                skiprows=11,\n",
    "                                decimal='.',\n",
    "                             names=['data','ora','rad','temperatura'])\n",
    "\n",
    "parabola.rename(columns={0: 'day', 1: 'month', 2: 'year', 3: 'hour', 4: 'minute', 5: 'second', 9: 'azimuth', 10: 'elevazione'}, inplace = True)\n",
    "parabola['data_ora'] = pd.to_datetime(parabola[[\"day\", \"month\", \"year\", \"hour\", \"minute\", \"second\"]])\n",
    "parabola = parabola.loc[:,['data_ora','elevazione','azimuth']]\n",
    "\n",
    "mask_1 = parabola.azimuth <= azimuth_max\n",
    "mask_2 = parabola.azimuth >= azimuth_min\n",
    "mask_3 = parabola.data_ora >= data_i\n",
    "mask_4 = parabola.data_ora <= data_f\n",
    "parabola = parabola.loc[mask_1 & mask_2 & mask_3 & mask_4]\n",
    "parabola.reset_index(inplace=True, drop=True)\n",
    "\n",
    "while parabola.at[0,'elevazione'] > 40.1:\n",
    "    parabola = parabola.drop(labels=0, axis=0)\n",
    "    parabola.reset_index(inplace=True, drop=True)\n",
    "    \n",
    "\n",
    "ricevitore_10['data_ora'] = ricevitore_10['data'].map(str) + ' ' + ricevitore_10['ora'].map(str)\n",
    "ricevitore_10['data_ora'] = pd.to_datetime(ricevitore_10['data_ora'], format = '%m/%d/%Y %H:%M:%S.%f')\n",
    "ricevitore_10 = ricevitore_10.iloc[:,[-1,2,3]]    \n",
    "\n",
    "\n",
    "delta_time = pd.Timedelta(hours = 1)\n",
    "mask_5 = ricevitore_10.data_ora >= parabola.iloc[0]['data_ora'] + delta_time\n",
    "mask_6 = ricevitore_10.data_ora <= parabola.iloc[-1]['data_ora'] + delta_time\n",
    "ricevitore_10 = ricevitore_10[mask_5 & mask_6]\n",
    "\n",
    "parabola['data_ora'] = parabola.data_ora + 2*delta_time\n",
    "ricevitore_10['data_ora'] = ricevitore_10.data_ora + delta_time"
   ]
  },
  {
   "cell_type": "code",
   "execution_count": 135,
   "metadata": {},
   "outputs": [
    {
     "data": {
      "image/png": "[encoded data removed]",
      "text/plain": [
       "<Figure size 432x288 with 1 Axes>"
      ]
     },
     "metadata": {
      "needs_background": "light"
     },
     "output_type": "display_data"
    }
   ],
   "source": [
    "fig, ax = plt.subplots()\n",
    "fig.autofmt_xdate()\n",
    "\n",
    "ax.plot(ricevitore_10['data_ora'],ricevitore_10['rad'], label='temp')\n",
    "ax.xaxis.set_major_formatter(DateFormatter('%H:%M'))\n",
    "ax.xaxis.set_major_locator(MinuteLocator(interval = 15))\n",
    "ax.set_ylim((2000,6000))\n",
    "\n",
    "plt.title(title)\n",
    "plt.ylabel('Rad')\n",
    "plt.show()"
   ]
  },
  {
   "cell_type": "code",
   "execution_count": 136,
   "metadata": {},
   "outputs": [],
   "source": [
    "df = pd.DataFrame(columns=['data_ora','rad','temperatura','elevazione'])\n",
    "\n",
    "for i in range (20, 56, 5):\n",
    "    mask_11 = parabola.elevazione >= i - 0.1\n",
    "    mask_12 = parabola.elevazione <= i + 0.1\n",
    "    mask_13 = parabola.data_ora <= data_m \n",
    "    a = parabola[mask_11 & mask_12 & mask_13]\n",
    "    if a.empty == False:\n",
    "        mask_7 = ricevitore_10.data_ora >= a.iloc[0]['data_ora'] \n",
    "        mask_8 = ricevitore_10.data_ora <= a.iloc[-1]['data_ora'] \n",
    "        b = ricevitore_10[mask_7 & mask_8].assign(elevazione = i)\n",
    "        df = pd.concat([df,b])\n",
    "\n",
    "for j in range (50, 19, -5):\n",
    "    mask_14 = parabola.elevazione >= j - 0.1\n",
    "    mask_15 = parabola.elevazione <= j + 0.1\n",
    "    mask_16 = parabola.data_ora >= data_m \n",
    "    c = parabola[mask_14 & mask_15 & mask_16]\n",
    "    if c.empty == False:\n",
    "        mask_9 = ricevitore_10.data_ora >= c.iloc[0]['data_ora'] \n",
    "        mask_10 = ricevitore_10.data_ora <= c.iloc[-1]['data_ora'] \n",
    "        d = ricevitore_10[mask_9 & mask_10].assign(elevazione = j)\n",
    "        df = pd.concat([df,d])"
   ]
  },
  {
   "cell_type": "code",
   "execution_count": 137,
   "metadata": {},
   "outputs": [],
   "source": [
    "df.to_csv('dati40s.csv', index=False)"
   ]
  },
  {
   "cell_type": "markdown",
   "metadata": {},
   "source": [
    "# 45 salita"
   ]
  },
  {
   "cell_type": "code",
   "execution_count": 138,
   "metadata": {},
   "outputs": [],
   "source": [
    "azimuth_min =  84.9\n",
    "azimuth_max = 85.1\n",
    "\n",
    "data_i = pd.to_datetime('2023-01-19 01:37:30', format = '%Y-%m-%d %H:%M:%S')\n",
    "data_f = pd.to_datetime('2023-01-19 01:38:00', format = '%Y-%m-%d %H:%M:%S')\n",
    "data_m = pd.to_datetime('2023-01-19 03:56:00', format = '%Y-%m-%d %H:%M:%S')\n",
    "\n",
    "title = '19 gennaio 2023, elevazione 45 salita'\n",
    "\n",
    "file_parabola = '../../Dati/19 gennaio/2023_01_19.txt'\n",
    "file_ricevitore = '../../Dati/19 gennaio/2023-01-18_19.txt'\n",
    "\n",
    "parabola = pd.read_csv (file_parabola,\n",
    "                           sep=';',\n",
    "                           header=None,\n",
    "                           comment='#')\n",
    "\n",
    "ricevitore_10 = pd.read_csv (file_ricevitore,\n",
    "                                sep = ' ',\n",
    "                                header=None,\n",
    "                                skiprows=11,\n",
    "                                decimal='.',\n",
    "                             names=['data','ora','rad','temperatura'])\n",
    "\n",
    "parabola.rename(columns={0: 'day', 1: 'month', 2: 'year', 3: 'hour', 4: 'minute', 5: 'second', 9: 'azimuth', 10: 'elevazione'}, inplace = True)\n",
    "parabola['data_ora'] = pd.to_datetime(parabola[[\"day\", \"month\", \"year\", \"hour\", \"minute\", \"second\"]])\n",
    "parabola = parabola.loc[:,['data_ora','elevazione','azimuth']]\n",
    "\n",
    "mask_1 = parabola.azimuth <= azimuth_max\n",
    "mask_2 = parabola.azimuth >= azimuth_min\n",
    "mask_3 = parabola.data_ora >= data_i\n",
    "mask_4 = parabola.data_ora <= data_f\n",
    "parabola = parabola.loc[mask_1 & mask_2 & mask_3 & mask_4]\n",
    "parabola.reset_index(inplace=True, drop=True)\n",
    "\n",
    "while parabola.at[0,'elevazione'] > 45.1:\n",
    "    parabola = parabola.drop(labels=0, axis=0)\n",
    "    parabola.reset_index(inplace=True, drop=True)\n",
    "    \n",
    "\n",
    "ricevitore_10['data_ora'] = ricevitore_10['data'].map(str) + ' ' + ricevitore_10['ora'].map(str)\n",
    "ricevitore_10['data_ora'] = pd.to_datetime(ricevitore_10['data_ora'], format = '%m/%d/%Y %H:%M:%S.%f')\n",
    "ricevitore_10 = ricevitore_10.iloc[:,[-1,2,3]]    \n",
    "\n",
    "\n",
    "delta_time = pd.Timedelta(hours = 1)\n",
    "mask_5 = ricevitore_10.data_ora >= parabola.iloc[0]['data_ora'] + delta_time\n",
    "mask_6 = ricevitore_10.data_ora <= parabola.iloc[-1]['data_ora'] + delta_time\n",
    "ricevitore_10 = ricevitore_10[mask_5 & mask_6]\n",
    "\n",
    "parabola['data_ora'] = parabola.data_ora + 2*delta_time\n",
    "ricevitore_10['data_ora'] = ricevitore_10.data_ora + delta_time"
   ]
  },
  {
   "cell_type": "code",
   "execution_count": 139,
   "metadata": {},
   "outputs": [
    {
     "data": {
      "image/png": "[encoded data removed]",
      "text/plain": [
       "<Figure size 432x288 with 1 Axes>"
      ]
     },
     "metadata": {
      "needs_background": "light"
     },
     "output_type": "display_data"
    }
   ],
   "source": [
    "fig, ax = plt.subplots()\n",
    "fig.autofmt_xdate()\n",
    "\n",
    "ax.plot(ricevitore_10['data_ora'],ricevitore_10['rad'], label='temp')\n",
    "ax.xaxis.set_major_formatter(DateFormatter('%H:%M'))\n",
    "ax.xaxis.set_major_locator(MinuteLocator(interval = 15))\n",
    "ax.set_ylim((2000,6000))\n",
    "\n",
    "plt.title(title)\n",
    "plt.ylabel('Rad')\n",
    "plt.show()"
   ]
  },
  {
   "cell_type": "code",
   "execution_count": 140,
   "metadata": {},
   "outputs": [],
   "source": [
    "df = pd.DataFrame(columns=['data_ora','rad','temperatura','elevazione'])\n",
    "\n",
    "for i in range (20, 56, 5):\n",
    "    mask_11 = parabola.elevazione >= i - 0.1\n",
    "    mask_12 = parabola.elevazione <= i + 0.1\n",
    "    mask_13 = parabola.data_ora <= data_m \n",
    "    a = parabola[mask_11 & mask_12 & mask_13]\n",
    "    if a.empty == False:\n",
    "        mask_7 = ricevitore_10.data_ora >= a.iloc[0]['data_ora'] \n",
    "        mask_8 = ricevitore_10.data_ora <= a.iloc[-1]['data_ora'] \n",
    "        b = ricevitore_10[mask_7 & mask_8].assign(elevazione = i)\n",
    "        df = pd.concat([df,b])\n",
    "\n",
    "for j in range (50, 19, -5):\n",
    "    mask_14 = parabola.elevazione >= j - 0.1\n",
    "    mask_15 = parabola.elevazione <= j + 0.1\n",
    "    mask_16 = parabola.data_ora >= data_m \n",
    "    c = parabola[mask_14 & mask_15 & mask_16]\n",
    "    if c.empty == False:\n",
    "        mask_9 = ricevitore_10.data_ora >= c.iloc[0]['data_ora'] \n",
    "        mask_10 = ricevitore_10.data_ora <= c.iloc[-1]['data_ora'] \n",
    "        d = ricevitore_10[mask_9 & mask_10].assign(elevazione = j)\n",
    "        df = pd.concat([df,d])"
   ]
  },
  {
   "cell_type": "code",
   "execution_count": 141,
   "metadata": {},
   "outputs": [],
   "source": [
    "df.to_csv('dati45s.csv', index=False)"
   ]
  },
  {
   "cell_type": "markdown",
   "metadata": {},
   "source": [
    "# 50 salita"
   ]
  },
  {
   "cell_type": "code",
   "execution_count": 142,
   "metadata": {},
   "outputs": [],
   "source": [
    "azimuth_min =  84.9\n",
    "azimuth_max = 85.1\n",
    "\n",
    "data_i = pd.to_datetime('2023-01-19 01:45:30', format = '%Y-%m-%d %H:%M:%S')\n",
    "data_f = pd.to_datetime('2023-01-19 01:47:00', format = '%Y-%m-%d %H:%M:%S')\n",
    "data_m = pd.to_datetime('2023-01-19 03:56:00', format = '%Y-%m-%d %H:%M:%S')\n",
    "\n",
    "title = '19 gennaio 2023, elevazione 50 salita'\n",
    "\n",
    "file_parabola = '../../Dati/19 gennaio/2023_01_19.txt'\n",
    "file_ricevitore = '../../Dati/19 gennaio/2023-01-18_19.txt'\n",
    "\n",
    "parabola = pd.read_csv (file_parabola,\n",
    "                           sep=';',\n",
    "                           header=None,\n",
    "                           comment='#')\n",
    "\n",
    "ricevitore_10 = pd.read_csv (file_ricevitore,\n",
    "                                sep = ' ',\n",
    "                                header=None,\n",
    "                                skiprows=11,\n",
    "                                decimal='.',\n",
    "                             names=['data','ora','rad','temperatura'])\n",
    "\n",
    "parabola.rename(columns={0: 'day', 1: 'month', 2: 'year', 3: 'hour', 4: 'minute', 5: 'second', 9: 'azimuth', 10: 'elevazione'}, inplace = True)\n",
    "parabola['data_ora'] = pd.to_datetime(parabola[[\"day\", \"month\", \"year\", \"hour\", \"minute\", \"second\"]])\n",
    "parabola = parabola.loc[:,['data_ora','elevazione','azimuth']]\n",
    "\n",
    "mask_1 = parabola.azimuth <= azimuth_max\n",
    "mask_2 = parabola.azimuth >= azimuth_min\n",
    "mask_3 = parabola.data_ora >= data_i\n",
    "mask_4 = parabola.data_ora <= data_f\n",
    "parabola = parabola.loc[mask_1 & mask_2 & mask_3 & mask_4]\n",
    "parabola.reset_index(inplace=True, drop=True)\n",
    "\n",
    "while parabola.at[0,'elevazione'] > 50.1:\n",
    "    parabola = parabola.drop(labels=0, axis=0)\n",
    "    parabola.reset_index(inplace=True, drop=True)\n",
    "    \n",
    "\n",
    "ricevitore_10['data_ora'] = ricevitore_10['data'].map(str) + ' ' + ricevitore_10['ora'].map(str)\n",
    "ricevitore_10['data_ora'] = pd.to_datetime(ricevitore_10['data_ora'], format = '%m/%d/%Y %H:%M:%S.%f')\n",
    "ricevitore_10 = ricevitore_10.iloc[:,[-1,2,3]]    \n",
    "\n",
    "\n",
    "delta_time = pd.Timedelta(hours = 1)\n",
    "mask_5 = ricevitore_10.data_ora >= parabola.iloc[0]['data_ora'] + delta_time\n",
    "mask_6 = ricevitore_10.data_ora <= parabola.iloc[-1]['data_ora'] + delta_time\n",
    "ricevitore_10 = ricevitore_10[mask_5 & mask_6]\n",
    "\n",
    "parabola['data_ora'] = parabola.data_ora + 2*delta_time\n",
    "ricevitore_10['data_ora'] = ricevitore_10.data_ora + delta_time"
   ]
  },
  {
   "cell_type": "code",
   "execution_count": 143,
   "metadata": {},
   "outputs": [
    {
     "data": {
      "image/png": "[encoded data removed]",
      "text/plain": [
       "<Figure size 432x288 with 1 Axes>"
      ]
     },
     "metadata": {
      "needs_background": "light"
     },
     "output_type": "display_data"
    }
   ],
   "source": [
    "fig, ax = plt.subplots()\n",
    "fig.autofmt_xdate()\n",
    "\n",
    "ax.plot(ricevitore_10['data_ora'],ricevitore_10['rad'], label='temp')\n",
    "ax.xaxis.set_major_formatter(DateFormatter('%H:%M'))\n",
    "ax.xaxis.set_major_locator(MinuteLocator(interval = 15))\n",
    "ax.set_ylim((2000,6000))\n",
    "\n",
    "plt.title(title)\n",
    "plt.ylabel('Rad')\n",
    "plt.show()"
   ]
  },
  {
   "cell_type": "code",
   "execution_count": 144,
   "metadata": {},
   "outputs": [],
   "source": [
    "df = pd.DataFrame(columns=['data_ora','rad','temperatura','elevazione'])\n",
    "\n",
    "for i in range (20, 56, 5):\n",
    "    mask_11 = parabola.elevazione >= i - 0.1\n",
    "    mask_12 = parabola.elevazione <= i + 0.1\n",
    "    mask_13 = parabola.data_ora <= data_m \n",
    "    a = parabola[mask_11 & mask_12 & mask_13]\n",
    "    if a.empty == False:\n",
    "        mask_7 = ricevitore_10.data_ora >= a.iloc[0]['data_ora'] \n",
    "        mask_8 = ricevitore_10.data_ora <= a.iloc[-1]['data_ora'] \n",
    "        b = ricevitore_10[mask_7 & mask_8].assign(elevazione = i)\n",
    "        df = pd.concat([df,b])\n",
    "\n",
    "for j in range (50, 19, -5):\n",
    "    mask_14 = parabola.elevazione >= j - 0.1\n",
    "    mask_15 = parabola.elevazione <= j + 0.1\n",
    "    mask_16 = parabola.data_ora >= data_m \n",
    "    c = parabola[mask_14 & mask_15 & mask_16]\n",
    "    if c.empty == False:\n",
    "        mask_9 = ricevitore_10.data_ora >= c.iloc[0]['data_ora'] \n",
    "        mask_10 = ricevitore_10.data_ora <= c.iloc[-1]['data_ora'] \n",
    "        d = ricevitore_10[mask_9 & mask_10].assign(elevazione = j)\n",
    "        df = pd.concat([df,d])"
   ]
  },
  {
   "cell_type": "code",
   "execution_count": 145,
   "metadata": {},
   "outputs": [],
   "source": [
    "df.to_csv('dati50s.csv', index=False)"
   ]
  },
  {
   "cell_type": "markdown",
   "metadata": {},
   "source": [
    "# 55 elevazione"
   ]
  },
  {
   "cell_type": "code",
   "execution_count": 146,
   "metadata": {},
   "outputs": [],
   "source": [
    "azimuth_min =  84.9\n",
    "azimuth_max = 85.1\n",
    "\n",
    "data_i = pd.to_datetime('2023-01-19 01:55:00', format = '%Y-%m-%d %H:%M:%S')\n",
    "data_f = pd.to_datetime('2023-01-19 01:56:00', format = '%Y-%m-%d %H:%M:%S')\n",
    "data_m = pd.to_datetime('2023-01-19 03:56:00', format = '%Y-%m-%d %H:%M:%S')\n",
    "\n",
    "title = '19 gennaio 2023, elevazione 55'\n",
    "\n",
    "file_parabola = '../../Dati/19 gennaio/2023_01_19.txt'\n",
    "file_ricevitore = '../../Dati/19 gennaio/2023-01-18_19.txt'\n",
    "\n",
    "parabola = pd.read_csv (file_parabola,\n",
    "                           sep=';',\n",
    "                           header=None,\n",
    "                           comment='#')\n",
    "\n",
    "ricevitore_10 = pd.read_csv (file_ricevitore,\n",
    "                                sep = ' ',\n",
    "                                header=None,\n",
    "                                skiprows=11,\n",
    "                                decimal='.',\n",
    "                             names=['data','ora','rad','temperatura'])\n",
    "\n",
    "parabola.rename(columns={0: 'day', 1: 'month', 2: 'year', 3: 'hour', 4: 'minute', 5: 'second', 9: 'azimuth', 10: 'elevazione'}, inplace = True)\n",
    "parabola['data_ora'] = pd.to_datetime(parabola[[\"day\", \"month\", \"year\", \"hour\", \"minute\", \"second\"]])\n",
    "parabola = parabola.loc[:,['data_ora','elevazione','azimuth']]\n",
    "\n",
    "mask_1 = parabola.azimuth <= azimuth_max\n",
    "mask_2 = parabola.azimuth >= azimuth_min\n",
    "mask_3 = parabola.data_ora >= data_i\n",
    "mask_4 = parabola.data_ora <= data_f\n",
    "parabola = parabola.loc[mask_1 & mask_2 & mask_3 & mask_4]\n",
    "parabola.reset_index(inplace=True, drop=True)\n",
    "\n",
    "while parabola.at[0,'elevazione'] > 55.1:\n",
    "    parabola = parabola.drop(labels=0, axis=0)\n",
    "    parabola.reset_index(inplace=True, drop=True)\n",
    "    \n",
    "\n",
    "ricevitore_10['data_ora'] = ricevitore_10['data'].map(str) + ' ' + ricevitore_10['ora'].map(str)\n",
    "ricevitore_10['data_ora'] = pd.to_datetime(ricevitore_10['data_ora'], format = '%m/%d/%Y %H:%M:%S.%f')\n",
    "ricevitore_10 = ricevitore_10.iloc[:,[-1,2,3]]    \n",
    "\n",
    "\n",
    "delta_time = pd.Timedelta(hours = 1)\n",
    "mask_5 = ricevitore_10.data_ora >= parabola.iloc[0]['data_ora'] + delta_time\n",
    "mask_6 = ricevitore_10.data_ora <= parabola.iloc[-1]['data_ora'] + delta_time\n",
    "ricevitore_10 = ricevitore_10[mask_5 & mask_6]\n",
    "\n",
    "parabola['data_ora'] = parabola.data_ora + 2*delta_time\n",
    "ricevitore_10['data_ora'] = ricevitore_10.data_ora + delta_time"
   ]
  },
  {
   "cell_type": "code",
   "execution_count": 147,
   "metadata": {},
   "outputs": [
    {
     "data": {
      "image/png": "[encoded data removed]",
      "text/plain": [
       "<Figure size 432x288 with 1 Axes>"
      ]
     },
     "metadata": {
      "needs_background": "light"
     },
     "output_type": "display_data"
    }
   ],
   "source": [
    "fig, ax = plt.subplots()\n",
    "fig.autofmt_xdate()\n",
    "\n",
    "ax.plot(ricevitore_10['data_ora'],ricevitore_10['rad'], label='temp')\n",
    "ax.xaxis.set_major_formatter(DateFormatter('%H:%M'))\n",
    "ax.xaxis.set_major_locator(MinuteLocator(interval = 15))\n",
    "ax.set_ylim((2000,6000))\n",
    "\n",
    "plt.title(title)\n",
    "plt.ylabel('Rad')\n",
    "plt.show()"
   ]
  },
  {
   "cell_type": "code",
   "execution_count": 148,
   "metadata": {},
   "outputs": [],
   "source": [
    "df = pd.DataFrame(columns=['data_ora','rad','temperatura','elevazione'])\n",
    "\n",
    "for i in range (20, 56, 5):\n",
    "    mask_11 = parabola.elevazione >= i - 0.1\n",
    "    mask_12 = parabola.elevazione <= i + 0.1\n",
    "    mask_13 = parabola.data_ora <= data_m \n",
    "    a = parabola[mask_11 & mask_12 & mask_13]\n",
    "    if a.empty == False:\n",
    "        mask_7 = ricevitore_10.data_ora >= a.iloc[0]['data_ora'] \n",
    "        mask_8 = ricevitore_10.data_ora <= a.iloc[-1]['data_ora'] \n",
    "        b = ricevitore_10[mask_7 & mask_8].assign(elevazione = i)\n",
    "        df = pd.concat([df,b])\n",
    "\n",
    "for j in range (50, 19, -5):\n",
    "    mask_14 = parabola.elevazione >= j - 0.1\n",
    "    mask_15 = parabola.elevazione <= j + 0.1\n",
    "    mask_16 = parabola.data_ora >= data_m \n",
    "    c = parabola[mask_14 & mask_15 & mask_16]\n",
    "    if c.empty == False:\n",
    "        mask_9 = ricevitore_10.data_ora >= c.iloc[0]['data_ora'] \n",
    "        mask_10 = ricevitore_10.data_ora <= c.iloc[-1]['data_ora'] \n",
    "        d = ricevitore_10[mask_9 & mask_10].assign(elevazione = j)\n",
    "        df = pd.concat([df,d])"
   ]
  },
  {
   "cell_type": "code",
   "execution_count": 149,
   "metadata": {},
   "outputs": [],
   "source": [
    "df.to_csv('dati55s.csv', index=False)"
   ]
  },
  {
   "cell_type": "markdown",
   "metadata": {},
   "source": [
    "# 50 discesa"
   ]
  },
  {
   "cell_type": "code",
   "execution_count": 150,
   "metadata": {},
   "outputs": [],
   "source": [
    "azimuth_min =  84.9\n",
    "azimuth_max = 85.1\n",
    "\n",
    "data_i = pd.to_datetime('2023-01-19 02:01:40', format = '%Y-%m-%d %H:%M:%S')\n",
    "data_f = pd.to_datetime('2023-01-19 02:03:00', format = '%Y-%m-%d %H:%M:%S')\n",
    "data_m = pd.to_datetime('2023-01-19 03:56:00', format = '%Y-%m-%d %H:%M:%S')\n",
    "\n",
    "title = '19 gennaio 2023, elevazione 50 discesa'\n",
    "\n",
    "file_parabola = '../../Dati/19 gennaio/2023_01_19.txt'\n",
    "file_ricevitore = '../../Dati/19 gennaio/2023-01-18_19.txt'\n",
    "\n",
    "parabola = pd.read_csv (file_parabola,\n",
    "                           sep=';',\n",
    "                           header=None,\n",
    "                           comment='#')\n",
    "\n",
    "ricevitore_10 = pd.read_csv (file_ricevitore,\n",
    "                                sep = ' ',\n",
    "                                header=None,\n",
    "                                skiprows=11,\n",
    "                                decimal='.',\n",
    "                             names=['data','ora','rad','temperatura'])\n",
    "\n",
    "parabola.rename(columns={0: 'day', 1: 'month', 2: 'year', 3: 'hour', 4: 'minute', 5: 'second', 9: 'azimuth', 10: 'elevazione'}, inplace = True)\n",
    "parabola['data_ora'] = pd.to_datetime(parabola[[\"day\", \"month\", \"year\", \"hour\", \"minute\", \"second\"]])\n",
    "parabola = parabola.loc[:,['data_ora','elevazione','azimuth']]\n",
    "\n",
    "mask_1 = parabola.azimuth <= azimuth_max\n",
    "mask_2 = parabola.azimuth >= azimuth_min\n",
    "mask_3 = parabola.data_ora >= data_i\n",
    "mask_4 = parabola.data_ora <= data_f\n",
    "parabola = parabola.loc[mask_1 & mask_2 & mask_3 & mask_4]\n",
    "parabola.reset_index(inplace=True, drop=True)\n",
    "\n",
    "while parabola.at[0,'elevazione'] > 50.1:\n",
    "    parabola = parabola.drop(labels=0, axis=0)\n",
    "    parabola.reset_index(inplace=True, drop=True)\n",
    "    \n",
    "\n",
    "ricevitore_10['data_ora'] = ricevitore_10['data'].map(str) + ' ' + ricevitore_10['ora'].map(str)\n",
    "ricevitore_10['data_ora'] = pd.to_datetime(ricevitore_10['data_ora'], format = '%m/%d/%Y %H:%M:%S.%f')\n",
    "ricevitore_10 = ricevitore_10.iloc[:,[-1,2,3]]    \n",
    "\n",
    "\n",
    "delta_time = pd.Timedelta(hours = 1)\n",
    "mask_5 = ricevitore_10.data_ora >= parabola.iloc[0]['data_ora'] + delta_time\n",
    "mask_6 = ricevitore_10.data_ora <= parabola.iloc[-1]['data_ora'] + delta_time\n",
    "ricevitore_10 = ricevitore_10[mask_5 & mask_6]\n",
    "\n",
    "parabola['data_ora'] = parabola.data_ora + 2*delta_time\n",
    "ricevitore_10['data_ora'] = ricevitore_10.data_ora + delta_time"
   ]
  },
  {
   "cell_type": "code",
   "execution_count": 151,
   "metadata": {},
   "outputs": [
    {
     "data": {
      "image/png": "[encoded data removed]",
      "text/plain": [
       "<Figure size 432x288 with 1 Axes>"
      ]
     },
     "metadata": {
      "needs_background": "light"
     },
     "output_type": "display_data"
    }
   ],
   "source": [
    "fig, ax = plt.subplots()\n",
    "fig.autofmt_xdate()\n",
    "\n",
    "ax.plot(ricevitore_10['data_ora'],ricevitore_10['rad'], label='temp')\n",
    "ax.xaxis.set_major_formatter(DateFormatter('%H:%M'))\n",
    "ax.xaxis.set_major_locator(MinuteLocator(interval = 15))\n",
    "ax.set_ylim((2000,6000))\n",
    "\n",
    "plt.title(title)\n",
    "plt.ylabel('Rad')\n",
    "plt.show()"
   ]
  },
  {
   "cell_type": "code",
   "execution_count": 152,
   "metadata": {},
   "outputs": [],
   "source": [
    "df = pd.DataFrame(columns=['data_ora','rad','temperatura','elevazione'])\n",
    "\n",
    "for i in range (20, 56, 5):\n",
    "    mask_11 = parabola.elevazione >= i - 0.1\n",
    "    mask_12 = parabola.elevazione <= i + 0.1\n",
    "    mask_13 = parabola.data_ora <= data_m \n",
    "    a = parabola[mask_11 & mask_12 & mask_13]\n",
    "    if a.empty == False:\n",
    "        mask_7 = ricevitore_10.data_ora >= a.iloc[0]['data_ora'] \n",
    "        mask_8 = ricevitore_10.data_ora <= a.iloc[-1]['data_ora'] \n",
    "        b = ricevitore_10[mask_7 & mask_8].assign(elevazione = i)\n",
    "        df = pd.concat([df,b])\n",
    "\n",
    "for j in range (50, 19, -5):\n",
    "    mask_14 = parabola.elevazione >= j - 0.1\n",
    "    mask_15 = parabola.elevazione <= j + 0.1\n",
    "    mask_16 = parabola.data_ora >= data_m \n",
    "    c = parabola[mask_14 & mask_15 & mask_16]\n",
    "    if c.empty == False:\n",
    "        mask_9 = ricevitore_10.data_ora >= c.iloc[0]['data_ora'] \n",
    "        mask_10 = ricevitore_10.data_ora <= c.iloc[-1]['data_ora'] \n",
    "        d = ricevitore_10[mask_9 & mask_10].assign(elevazione = j)\n",
    "        df = pd.concat([df,d])"
   ]
  },
  {
   "cell_type": "code",
   "execution_count": 153,
   "metadata": {},
   "outputs": [],
   "source": [
    "df.to_csv('dati50d.csv', index=False)"
   ]
  },
  {
   "cell_type": "markdown",
   "metadata": {},
   "source": [
    "# 45 discesa"
   ]
  },
  {
   "cell_type": "code",
   "execution_count": 154,
   "metadata": {},
   "outputs": [],
   "source": [
    "azimuth_min =  84.9\n",
    "azimuth_max = 85.1\n",
    "\n",
    "data_i = pd.to_datetime('2023-01-19 02:08:00', format = '%Y-%m-%d %H:%M:%S')\n",
    "data_f = pd.to_datetime('2023-01-19 02:11:00', format = '%Y-%m-%d %H:%M:%S')\n",
    "data_m = pd.to_datetime('2023-01-19 03:56:00', format = '%Y-%m-%d %H:%M:%S')\n",
    "\n",
    "title = '19 gennaio 2023, elevazione 45 discesa'\n",
    "\n",
    "file_parabola = '../../Dati/19 gennaio/2023_01_19.txt'\n",
    "file_ricevitore = '../../Dati/19 gennaio/2023-01-18_19.txt'\n",
    "\n",
    "parabola = pd.read_csv (file_parabola,\n",
    "                           sep=';',\n",
    "                           header=None,\n",
    "                           comment='#')\n",
    "\n",
    "ricevitore_10 = pd.read_csv (file_ricevitore,\n",
    "                                sep = ' ',\n",
    "                                header=None,\n",
    "                                skiprows=11,\n",
    "                                decimal='.',\n",
    "                             names=['data','ora','rad','temperatura'])\n",
    "\n",
    "parabola.rename(columns={0: 'day', 1: 'month', 2: 'year', 3: 'hour', 4: 'minute', 5: 'second', 9: 'azimuth', 10: 'elevazione'}, inplace = True)\n",
    "parabola['data_ora'] = pd.to_datetime(parabola[[\"day\", \"month\", \"year\", \"hour\", \"minute\", \"second\"]])\n",
    "parabola = parabola.loc[:,['data_ora','elevazione','azimuth']]\n",
    "\n",
    "mask_1 = parabola.azimuth <= azimuth_max\n",
    "mask_2 = parabola.azimuth >= azimuth_min\n",
    "mask_3 = parabola.data_ora >= data_i\n",
    "mask_4 = parabola.data_ora <= data_f\n",
    "parabola = parabola.loc[mask_1 & mask_2 & mask_3 & mask_4]\n",
    "parabola.reset_index(inplace=True, drop=True)\n",
    "\n",
    "while parabola.at[0,'elevazione'] > 45.1:\n",
    "    parabola = parabola.drop(labels=0, axis=0)\n",
    "    parabola.reset_index(inplace=True, drop=True)\n",
    "    \n",
    "\n",
    "ricevitore_10['data_ora'] = ricevitore_10['data'].map(str) + ' ' + ricevitore_10['ora'].map(str)\n",
    "ricevitore_10['data_ora'] = pd.to_datetime(ricevitore_10['data_ora'], format = '%m/%d/%Y %H:%M:%S.%f')\n",
    "ricevitore_10 = ricevitore_10.iloc[:,[-1,2,3]]    \n",
    "\n",
    "\n",
    "delta_time = pd.Timedelta(hours = 1)\n",
    "mask_5 = ricevitore_10.data_ora >= parabola.iloc[0]['data_ora'] + delta_time\n",
    "mask_6 = ricevitore_10.data_ora <= parabola.iloc[-1]['data_ora'] + delta_time\n",
    "ricevitore_10 = ricevitore_10[mask_5 & mask_6]\n",
    "\n",
    "parabola['data_ora'] = parabola.data_ora + 2*delta_time\n",
    "ricevitore_10['data_ora'] = ricevitore_10.data_ora + delta_time"
   ]
  },
  {
   "cell_type": "code",
   "execution_count": 155,
   "metadata": {},
   "outputs": [
    {
     "data": {
      "image/png": "[encoded data removed]",
      "text/plain": [
       "<Figure size 432x288 with 1 Axes>"
      ]
     },
     "metadata": {
      "needs_background": "light"
     },
     "output_type": "display_data"
    }
   ],
   "source": [
    "fig, ax = plt.subplots()\n",
    "fig.autofmt_xdate()\n",
    "\n",
    "ax.plot(ricevitore_10['data_ora'],ricevitore_10['rad'], label='temp')\n",
    "ax.xaxis.set_major_formatter(DateFormatter('%H:%M'))\n",
    "ax.xaxis.set_major_locator(MinuteLocator(interval = 15))\n",
    "ax.set_ylim((2000,6000))\n",
    "\n",
    "plt.title(title)\n",
    "plt.ylabel('Rad')\n",
    "plt.show()"
   ]
  },
  {
   "cell_type": "code",
   "execution_count": 156,
   "metadata": {},
   "outputs": [],
   "source": [
    "df = pd.DataFrame(columns=['data_ora','rad','temperatura','elevazione'])\n",
    "\n",
    "for i in range (20, 56, 5):\n",
    "    mask_11 = parabola.elevazione >= i - 0.1\n",
    "    mask_12 = parabola.elevazione <= i + 0.1\n",
    "    mask_13 = parabola.data_ora <= data_m \n",
    "    a = parabola[mask_11 & mask_12 & mask_13]\n",
    "    if a.empty == False:\n",
    "        mask_7 = ricevitore_10.data_ora >= a.iloc[0]['data_ora'] \n",
    "        mask_8 = ricevitore_10.data_ora <= a.iloc[-1]['data_ora'] \n",
    "        b = ricevitore_10[mask_7 & mask_8].assign(elevazione = i)\n",
    "        df = pd.concat([df,b])\n",
    "\n",
    "for j in range (50, 19, -5):\n",
    "    mask_14 = parabola.elevazione >= j - 0.1\n",
    "    mask_15 = parabola.elevazione <= j + 0.1\n",
    "    mask_16 = parabola.data_ora >= data_m \n",
    "    c = parabola[mask_14 & mask_15 & mask_16]\n",
    "    if c.empty == False:\n",
    "        mask_9 = ricevitore_10.data_ora >= c.iloc[0]['data_ora'] \n",
    "        mask_10 = ricevitore_10.data_ora <= c.iloc[-1]['data_ora'] \n",
    "        d = ricevitore_10[mask_9 & mask_10].assign(elevazione = j)\n",
    "        df = pd.concat([df,d])"
   ]
  },
  {
   "cell_type": "code",
   "execution_count": 157,
   "metadata": {},
   "outputs": [],
   "source": [
    "df.to_csv('dati45d.csv', index=False)"
   ]
  },
  {
   "cell_type": "markdown",
   "metadata": {},
   "source": [
    "# 40 discesa"
   ]
  },
  {
   "cell_type": "code",
   "execution_count": 158,
   "metadata": {},
   "outputs": [],
   "source": [
    "azimuth_min =  84.9\n",
    "azimuth_max = 85.1\n",
    "\n",
    "data_i = pd.to_datetime('2023-01-19 02:16:00', format = '%Y-%m-%d %H:%M:%S')\n",
    "data_f = pd.to_datetime('2023-01-19 02:20:00', format = '%Y-%m-%d %H:%M:%S')\n",
    "data_m = pd.to_datetime('2023-01-19 03:56:00', format = '%Y-%m-%d %H:%M:%S')\n",
    "\n",
    "title = '19 gennaio 2023, elevazione 40 discesa'\n",
    "\n",
    "file_parabola = '../../Dati/19 gennaio/2023_01_19.txt'\n",
    "file_ricevitore = '../../Dati/19 gennaio/2023-01-18_19.txt'\n",
    "\n",
    "parabola = pd.read_csv (file_parabola,\n",
    "                           sep=';',\n",
    "                           header=None,\n",
    "                           comment='#')\n",
    "\n",
    "ricevitore_10 = pd.read_csv (file_ricevitore,\n",
    "                                sep = ' ',\n",
    "                                header=None,\n",
    "                                skiprows=11,\n",
    "                                decimal='.',\n",
    "                             names=['data','ora','rad','temperatura'])\n",
    "\n",
    "parabola.rename(columns={0: 'day', 1: 'month', 2: 'year', 3: 'hour', 4: 'minute', 5: 'second', 9: 'azimuth', 10: 'elevazione'}, inplace = True)\n",
    "parabola['data_ora'] = pd.to_datetime(parabola[[\"day\", \"month\", \"year\", \"hour\", \"minute\", \"second\"]])\n",
    "parabola = parabola.loc[:,['data_ora','elevazione','azimuth']]\n",
    "\n",
    "mask_1 = parabola.azimuth <= azimuth_max\n",
    "mask_2 = parabola.azimuth >= azimuth_min\n",
    "mask_3 = parabola.data_ora >= data_i\n",
    "mask_4 = parabola.data_ora <= data_f\n",
    "parabola = parabola.loc[mask_1 & mask_2 & mask_3 & mask_4]\n",
    "parabola.reset_index(inplace=True, drop=True)\n",
    "\n",
    "while parabola.at[0,'elevazione'] > 40.1:\n",
    "    parabola = parabola.drop(labels=0, axis=0)\n",
    "    parabola.reset_index(inplace=True, drop=True)\n",
    "    \n",
    "\n",
    "ricevitore_10['data_ora'] = ricevitore_10['data'].map(str) + ' ' + ricevitore_10['ora'].map(str)\n",
    "ricevitore_10['data_ora'] = pd.to_datetime(ricevitore_10['data_ora'], format = '%m/%d/%Y %H:%M:%S.%f')\n",
    "ricevitore_10 = ricevitore_10.iloc[:,[-1,2,3]]    \n",
    "\n",
    "\n",
    "delta_time = pd.Timedelta(hours = 1)\n",
    "mask_5 = ricevitore_10.data_ora >= parabola.iloc[0]['data_ora'] + delta_time\n",
    "mask_6 = ricevitore_10.data_ora <= parabola.iloc[-1]['data_ora'] + delta_time\n",
    "ricevitore_10 = ricevitore_10[mask_5 & mask_6]\n",
    "\n",
    "parabola['data_ora'] = parabola.data_ora + 2*delta_time\n",
    "ricevitore_10['data_ora'] = ricevitore_10.data_ora + delta_time"
   ]
  },
  {
   "cell_type": "code",
   "execution_count": 159,
   "metadata": {},
   "outputs": [
    {
     "data": {
      "image/png": "[encoded data removed]",
      "text/plain": [
       "<Figure size 432x288 with 1 Axes>"
      ]
     },
     "metadata": {
      "needs_background": "light"
     },
     "output_type": "display_data"
    }
   ],
   "source": [
    "fig, ax = plt.subplots()\n",
    "fig.autofmt_xdate()\n",
    "\n",
    "ax.plot(ricevitore_10['data_ora'],ricevitore_10['rad'], label='temp')\n",
    "ax.xaxis.set_major_formatter(DateFormatter('%H:%M'))\n",
    "ax.xaxis.set_major_locator(MinuteLocator(interval = 15))\n",
    "ax.set_ylim((2000,6000))\n",
    "\n",
    "plt.title(title)\n",
    "plt.ylabel('Rad')\n",
    "plt.show()"
   ]
  },
  {
   "cell_type": "code",
   "execution_count": 160,
   "metadata": {},
   "outputs": [],
   "source": [
    "df = pd.DataFrame(columns=['data_ora','rad','temperatura','elevazione'])\n",
    "\n",
    "for i in range (20, 56, 5):\n",
    "    mask_11 = parabola.elevazione >= i - 0.1\n",
    "    mask_12 = parabola.elevazione <= i + 0.1\n",
    "    mask_13 = parabola.data_ora <= data_m \n",
    "    a = parabola[mask_11 & mask_12 & mask_13]\n",
    "    if a.empty == False:\n",
    "        mask_7 = ricevitore_10.data_ora >= a.iloc[0]['data_ora'] \n",
    "        mask_8 = ricevitore_10.data_ora <= a.iloc[-1]['data_ora'] \n",
    "        b = ricevitore_10[mask_7 & mask_8].assign(elevazione = i)\n",
    "        df = pd.concat([df,b])\n",
    "\n",
    "for j in range (50, 19, -5):\n",
    "    mask_14 = parabola.elevazione >= j - 0.1\n",
    "    mask_15 = parabola.elevazione <= j + 0.1\n",
    "    mask_16 = parabola.data_ora >= data_m \n",
    "    c = parabola[mask_14 & mask_15 & mask_16]\n",
    "    if c.empty == False:\n",
    "        mask_9 = ricevitore_10.data_ora >= c.iloc[0]['data_ora'] \n",
    "        mask_10 = ricevitore_10.data_ora <= c.iloc[-1]['data_ora'] \n",
    "        d = ricevitore_10[mask_9 & mask_10].assign(elevazione = j)\n",
    "        df = pd.concat([df,d])"
   ]
  },
  {
   "cell_type": "code",
   "execution_count": 161,
   "metadata": {},
   "outputs": [],
   "source": [
    "df.to_csv('dati40d.csv', index=False)"
   ]
  },
  {
   "cell_type": "markdown",
   "metadata": {},
   "source": [
    "# 35 discesa"
   ]
  },
  {
   "cell_type": "code",
   "execution_count": 162,
   "metadata": {},
   "outputs": [],
   "source": [
    "azimuth_min =  84.9\n",
    "azimuth_max = 85.1\n",
    "\n",
    "data_i = pd.to_datetime('2023-01-19 02:26:00', format = '%Y-%m-%d %H:%M:%S')\n",
    "data_f = pd.to_datetime('2023-01-19 02:27:00', format = '%Y-%m-%d %H:%M:%S')\n",
    "data_m = pd.to_datetime('2023-01-19 03:56:00', format = '%Y-%m-%d %H:%M:%S')\n",
    "\n",
    "title = '19 gennaio 2023, elevazione 35 discesa'\n",
    "\n",
    "file_parabola = '../../Dati/19 gennaio/2023_01_19.txt'\n",
    "file_ricevitore = '../../Dati/19 gennaio/2023-01-18_19.txt'\n",
    "\n",
    "parabola = pd.read_csv (file_parabola,\n",
    "                           sep=';',\n",
    "                           header=None,\n",
    "                           comment='#')\n",
    "\n",
    "ricevitore_10 = pd.read_csv (file_ricevitore,\n",
    "                                sep = ' ',\n",
    "                                header=None,\n",
    "                                skiprows=11,\n",
    "                                decimal='.',\n",
    "                             names=['data','ora','rad','temperatura'])\n",
    "\n",
    "parabola.rename(columns={0: 'day', 1: 'month', 2: 'year', 3: 'hour', 4: 'minute', 5: 'second', 9: 'azimuth', 10: 'elevazione'}, inplace = True)\n",
    "parabola['data_ora'] = pd.to_datetime(parabola[[\"day\", \"month\", \"year\", \"hour\", \"minute\", \"second\"]])\n",
    "parabola = parabola.loc[:,['data_ora','elevazione','azimuth']]\n",
    "\n",
    "mask_1 = parabola.azimuth <= azimuth_max\n",
    "mask_2 = parabola.azimuth >= azimuth_min\n",
    "mask_3 = parabola.data_ora >= data_i\n",
    "mask_4 = parabola.data_ora <= data_f\n",
    "parabola = parabola.loc[mask_1 & mask_2 & mask_3 & mask_4]\n",
    "parabola.reset_index(inplace=True, drop=True)\n",
    "\n",
    "while parabola.at[0,'elevazione'] > 35.1:\n",
    "    parabola = parabola.drop(labels=0, axis=0)\n",
    "    parabola.reset_index(inplace=True, drop=True)\n",
    "    \n",
    "\n",
    "ricevitore_10['data_ora'] = ricevitore_10['data'].map(str) + ' ' + ricevitore_10['ora'].map(str)\n",
    "ricevitore_10['data_ora'] = pd.to_datetime(ricevitore_10['data_ora'], format = '%m/%d/%Y %H:%M:%S.%f')\n",
    "ricevitore_10 = ricevitore_10.iloc[:,[-1,2,3]]    \n",
    "\n",
    "\n",
    "delta_time = pd.Timedelta(hours = 1)\n",
    "mask_5 = ricevitore_10.data_ora >= parabola.iloc[0]['data_ora'] + delta_time\n",
    "mask_6 = ricevitore_10.data_ora <= parabola.iloc[-1]['data_ora'] + delta_time\n",
    "ricevitore_10 = ricevitore_10[mask_5 & mask_6]\n",
    "\n",
    "parabola['data_ora'] = parabola.data_ora + 2*delta_time\n",
    "ricevitore_10['data_ora'] = ricevitore_10.data_ora + delta_time"
   ]
  },
  {
   "cell_type": "code",
   "execution_count": 163,
   "metadata": {},
   "outputs": [
    {
     "data": {
      "image/png": "[encoded data removed]",
      "text/plain": [
       "<Figure size 432x288 with 1 Axes>"
      ]
     },
     "metadata": {
      "needs_background": "light"
     },
     "output_type": "display_data"
    }
   ],
   "source": [
    "fig, ax = plt.subplots()\n",
    "fig.autofmt_xdate()\n",
    "\n",
    "ax.plot(ricevitore_10['data_ora'],ricevitore_10['rad'], label='temp')\n",
    "ax.xaxis.set_major_formatter(DateFormatter('%H:%M'))\n",
    "ax.xaxis.set_major_locator(MinuteLocator(interval = 15))\n",
    "ax.set_ylim((2000,6000))\n",
    "\n",
    "plt.title(title)\n",
    "plt.ylabel('Rad')\n",
    "plt.show()"
   ]
  },
  {
   "cell_type": "code",
   "execution_count": 164,
   "metadata": {},
   "outputs": [],
   "source": [
    "df = pd.DataFrame(columns=['data_ora','rad','temperatura','elevazione'])\n",
    "\n",
    "for i in range (20, 56, 5):\n",
    "    mask_11 = parabola.elevazione >= i - 0.1\n",
    "    mask_12 = parabola.elevazione <= i + 0.1\n",
    "    mask_13 = parabola.data_ora <= data_m \n",
    "    a = parabola[mask_11 & mask_12 & mask_13]\n",
    "    if a.empty == False:\n",
    "        mask_7 = ricevitore_10.data_ora >= a.iloc[0]['data_ora'] \n",
    "        mask_8 = ricevitore_10.data_ora <= a.iloc[-1]['data_ora'] \n",
    "        b = ricevitore_10[mask_7 & mask_8].assign(elevazione = i)\n",
    "        df = pd.concat([df,b])\n",
    "\n",
    "for j in range (50, 19, -5):\n",
    "    mask_14 = parabola.elevazione >= j - 0.1\n",
    "    mask_15 = parabola.elevazione <= j + 0.1\n",
    "    mask_16 = parabola.data_ora >= data_m \n",
    "    c = parabola[mask_14 & mask_15 & mask_16]\n",
    "    if c.empty == False:\n",
    "        mask_9 = ricevitore_10.data_ora >= c.iloc[0]['data_ora'] \n",
    "        mask_10 = ricevitore_10.data_ora <= c.iloc[-1]['data_ora'] \n",
    "        d = ricevitore_10[mask_9 & mask_10].assign(elevazione = j)\n",
    "        df = pd.concat([df,d])"
   ]
  },
  {
   "cell_type": "code",
   "execution_count": 165,
   "metadata": {},
   "outputs": [],
   "source": [
    "df.to_csv('dati35d.csv', index=False)"
   ]
  },
  {
   "cell_type": "markdown",
   "metadata": {},
   "source": [
    "# 30 discesa"
   ]
  },
  {
   "cell_type": "code",
   "execution_count": 166,
   "metadata": {},
   "outputs": [],
   "source": [
    "azimuth_min =  84.9\n",
    "azimuth_max = 85.1\n",
    "\n",
    "data_i = pd.to_datetime('2023-01-19 02:32:00', format = '%Y-%m-%d %H:%M:%S')\n",
    "data_f = pd.to_datetime('2023-01-19 02:36:00', format = '%Y-%m-%d %H:%M:%S')\n",
    "data_m = pd.to_datetime('2023-01-19 03:56:00', format = '%Y-%m-%d %H:%M:%S')\n",
    "\n",
    "title = '19 gennaio 2023, elevazione 30 discesa'\n",
    "\n",
    "file_parabola = '../../Dati/19 gennaio/2023_01_19.txt'\n",
    "file_ricevitore = '../../Dati/19 gennaio/2023-01-18_19.txt'\n",
    "\n",
    "parabola = pd.read_csv (file_parabola,\n",
    "                           sep=';',\n",
    "                           header=None,\n",
    "                           comment='#')\n",
    "\n",
    "ricevitore_10 = pd.read_csv (file_ricevitore,\n",
    "                                sep = ' ',\n",
    "                                header=None,\n",
    "                                skiprows=11,\n",
    "                                decimal='.',\n",
    "                             names=['data','ora','rad','temperatura'])\n",
    "\n",
    "parabola.rename(columns={0: 'day', 1: 'month', 2: 'year', 3: 'hour', 4: 'minute', 5: 'second', 9: 'azimuth', 10: 'elevazione'}, inplace = True)\n",
    "parabola['data_ora'] = pd.to_datetime(parabola[[\"day\", \"month\", \"year\", \"hour\", \"minute\", \"second\"]])\n",
    "parabola = parabola.loc[:,['data_ora','elevazione','azimuth']]\n",
    "\n",
    "mask_1 = parabola.azimuth <= azimuth_max\n",
    "mask_2 = parabola.azimuth >= azimuth_min\n",
    "mask_3 = parabola.data_ora >= data_i\n",
    "mask_4 = parabola.data_ora <= data_f\n",
    "parabola = parabola.loc[mask_1 & mask_2 & mask_3 & mask_4]\n",
    "parabola.reset_index(inplace=True, drop=True)\n",
    "\n",
    "while parabola.at[0,'elevazione'] > 30.1:\n",
    "    parabola = parabola.drop(labels=0, axis=0)\n",
    "    parabola.reset_index(inplace=True, drop=True)\n",
    "    \n",
    "\n",
    "ricevitore_10['data_ora'] = ricevitore_10['data'].map(str) + ' ' + ricevitore_10['ora'].map(str)\n",
    "ricevitore_10['data_ora'] = pd.to_datetime(ricevitore_10['data_ora'], format = '%m/%d/%Y %H:%M:%S.%f')\n",
    "ricevitore_10 = ricevitore_10.iloc[:,[-1,2,3]]    \n",
    "\n",
    "\n",
    "delta_time = pd.Timedelta(hours = 1)\n",
    "mask_5 = ricevitore_10.data_ora >= parabola.iloc[0]['data_ora'] + delta_time\n",
    "mask_6 = ricevitore_10.data_ora <= parabola.iloc[-1]['data_ora'] + delta_time\n",
    "ricevitore_10 = ricevitore_10[mask_5 & mask_6]\n",
    "\n",
    "parabola['data_ora'] = parabola.data_ora + 2*delta_time\n",
    "ricevitore_10['data_ora'] = ricevitore_10.data_ora + delta_time"
   ]
  },
  {
   "cell_type": "code",
   "execution_count": 167,
   "metadata": {},
   "outputs": [
    {
     "data": {
      "image/png": "[encoded data removed]",
      "text/plain": [
       "<Figure size 432x288 with 1 Axes>"
      ]
     },
     "metadata": {
      "needs_background": "light"
     },
     "output_type": "display_data"
    }
   ],
   "source": [
    "fig, ax = plt.subplots()\n",
    "fig.autofmt_xdate()\n",
    "\n",
    "ax.plot(ricevitore_10['data_ora'],ricevitore_10['rad'], label='temp')\n",
    "ax.xaxis.set_major_formatter(DateFormatter('%H:%M'))\n",
    "ax.xaxis.set_major_locator(MinuteLocator(interval = 15))\n",
    "ax.set_ylim((2000,6000))\n",
    "\n",
    "plt.title(title)\n",
    "plt.ylabel('Rad')\n",
    "plt.show()"
   ]
  },
  {
   "cell_type": "code",
   "execution_count": 168,
   "metadata": {},
   "outputs": [],
   "source": [
    "df = pd.DataFrame(columns=['data_ora','rad','temperatura','elevazione'])\n",
    "\n",
    "for i in range (20, 56, 5):\n",
    "    mask_11 = parabola.elevazione >= i - 0.1\n",
    "    mask_12 = parabola.elevazione <= i + 0.1\n",
    "    mask_13 = parabola.data_ora <= data_m \n",
    "    a = parabola[mask_11 & mask_12 & mask_13]\n",
    "    if a.empty == False:\n",
    "        mask_7 = ricevitore_10.data_ora >= a.iloc[0]['data_ora'] \n",
    "        mask_8 = ricevitore_10.data_ora <= a.iloc[-1]['data_ora'] \n",
    "        b = ricevitore_10[mask_7 & mask_8].assign(elevazione = i)\n",
    "        df = pd.concat([df,b])\n",
    "\n",
    "for j in range (50, 19, -5):\n",
    "    mask_14 = parabola.elevazione >= j - 0.1\n",
    "    mask_15 = parabola.elevazione <= j + 0.1\n",
    "    mask_16 = parabola.data_ora >= data_m \n",
    "    c = parabola[mask_14 & mask_15 & mask_16]\n",
    "    if c.empty == False:\n",
    "        mask_9 = ricevitore_10.data_ora >= c.iloc[0]['data_ora'] \n",
    "        mask_10 = ricevitore_10.data_ora <= c.iloc[-1]['data_ora'] \n",
    "        d = ricevitore_10[mask_9 & mask_10].assign(elevazione = j)\n",
    "        df = pd.concat([df,d])"
   ]
  },
  {
   "cell_type": "code",
   "execution_count": 169,
   "metadata": {},
   "outputs": [],
   "source": [
    "df.to_csv('dati30d.csv', index=False)"
   ]
  },
  {
   "cell_type": "markdown",
   "metadata": {},
   "source": [
    "# 25 discesa"
   ]
  },
  {
   "cell_type": "code",
   "execution_count": 170,
   "metadata": {},
   "outputs": [],
   "source": [
    "azimuth_min =  84.9\n",
    "azimuth_max = 85.1\n",
    "\n",
    "data_i = pd.to_datetime('2023-01-19 02:40:00', format = '%Y-%m-%d %H:%M:%S')\n",
    "data_f = pd.to_datetime('2023-01-19 02:44:00', format = '%Y-%m-%d %H:%M:%S')\n",
    "data_m = pd.to_datetime('2023-01-19 03:56:00', format = '%Y-%m-%d %H:%M:%S')\n",
    "\n",
    "title = '19 gennaio 2023, elevazione 25 discesa'\n",
    "\n",
    "file_parabola = '../../Dati/19 gennaio/2023_01_19.txt'\n",
    "file_ricevitore = '../../Dati/19 gennaio/2023-01-18_19.txt'\n",
    "\n",
    "parabola = pd.read_csv (file_parabola,\n",
    "                           sep=';',\n",
    "                           header=None,\n",
    "                           comment='#')\n",
    "\n",
    "ricevitore_10 = pd.read_csv (file_ricevitore,\n",
    "                                sep = ' ',\n",
    "                                header=None,\n",
    "                                skiprows=11,\n",
    "                                decimal='.',\n",
    "                             names=['data','ora','rad','temperatura'])\n",
    "\n",
    "parabola.rename(columns={0: 'day', 1: 'month', 2: 'year', 3: 'hour', 4: 'minute', 5: 'second', 9: 'azimuth', 10: 'elevazione'}, inplace = True)\n",
    "parabola['data_ora'] = pd.to_datetime(parabola[[\"day\", \"month\", \"year\", \"hour\", \"minute\", \"second\"]])\n",
    "parabola = parabola.loc[:,['data_ora','elevazione','azimuth']]\n",
    "\n",
    "mask_1 = parabola.azimuth <= azimuth_max\n",
    "mask_2 = parabola.azimuth >= azimuth_min\n",
    "mask_3 = parabola.data_ora >= data_i\n",
    "mask_4 = parabola.data_ora <= data_f\n",
    "parabola = parabola.loc[mask_1 & mask_2 & mask_3 & mask_4]\n",
    "parabola.reset_index(inplace=True, drop=True)\n",
    "\n",
    "while parabola.at[0,'elevazione'] > 25.1:\n",
    "    parabola = parabola.drop(labels=0, axis=0)\n",
    "    parabola.reset_index(inplace=True, drop=True)\n",
    "    \n",
    "\n",
    "ricevitore_10['data_ora'] = ricevitore_10['data'].map(str) + ' ' + ricevitore_10['ora'].map(str)\n",
    "ricevitore_10['data_ora'] = pd.to_datetime(ricevitore_10['data_ora'], format = '%m/%d/%Y %H:%M:%S.%f')\n",
    "ricevitore_10 = ricevitore_10.iloc[:,[-1,2,3]]    \n",
    "\n",
    "\n",
    "delta_time = pd.Timedelta(hours = 1)\n",
    "mask_5 = ricevitore_10.data_ora >= parabola.iloc[0]['data_ora'] + delta_time\n",
    "mask_6 = ricevitore_10.data_ora <= parabola.iloc[-1]['data_ora'] + delta_time\n",
    "ricevitore_10 = ricevitore_10[mask_5 & mask_6]\n",
    "\n",
    "parabola['data_ora'] = parabola.data_ora + 2*delta_time\n",
    "ricevitore_10['data_ora'] = ricevitore_10.data_ora + delta_time"
   ]
  },
  {
   "cell_type": "code",
   "execution_count": 171,
   "metadata": {},
   "outputs": [
    {
     "data": {
      "image/png": "[encoded data removed]",
      "text/plain": [
       "<Figure size 432x288 with 1 Axes>"
      ]
     },
     "metadata": {
      "needs_background": "light"
     },
     "output_type": "display_data"
    }
   ],
   "source": [
    "fig, ax = plt.subplots()\n",
    "fig.autofmt_xdate()\n",
    "\n",
    "ax.plot(ricevitore_10['data_ora'],ricevitore_10['rad'], label='temp')\n",
    "ax.xaxis.set_major_formatter(DateFormatter('%H:%M'))\n",
    "ax.xaxis.set_major_locator(MinuteLocator(interval = 15))\n",
    "ax.set_ylim((2000,6000))\n",
    "\n",
    "plt.title(title)\n",
    "plt.ylabel('Rad')\n",
    "plt.show()"
   ]
  },
  {
   "cell_type": "code",
   "execution_count": 172,
   "metadata": {},
   "outputs": [],
   "source": [
    "df = pd.DataFrame(columns=['data_ora','rad','temperatura','elevazione'])\n",
    "\n",
    "for i in range (20, 56, 5):\n",
    "    mask_11 = parabola.elevazione >= i - 0.1\n",
    "    mask_12 = parabola.elevazione <= i + 0.1\n",
    "    mask_13 = parabola.data_ora <= data_m \n",
    "    a = parabola[mask_11 & mask_12 & mask_13]\n",
    "    if a.empty == False:\n",
    "        mask_7 = ricevitore_10.data_ora >= a.iloc[0]['data_ora'] \n",
    "        mask_8 = ricevitore_10.data_ora <= a.iloc[-1]['data_ora'] \n",
    "        b = ricevitore_10[mask_7 & mask_8].assign(elevazione = i)\n",
    "        df = pd.concat([df,b])\n",
    "\n",
    "for j in range (50, 19, -5):\n",
    "    mask_14 = parabola.elevazione >= j - 0.1\n",
    "    mask_15 = parabola.elevazione <= j + 0.1\n",
    "    mask_16 = parabola.data_ora >= data_m \n",
    "    c = parabola[mask_14 & mask_15 & mask_16]\n",
    "    if c.empty == False:\n",
    "        mask_9 = ricevitore_10.data_ora >= c.iloc[0]['data_ora'] \n",
    "        mask_10 = ricevitore_10.data_ora <= c.iloc[-1]['data_ora'] \n",
    "        d = ricevitore_10[mask_9 & mask_10].assign(elevazione = j)\n",
    "        df = pd.concat([df,d])"
   ]
  },
  {
   "cell_type": "code",
   "execution_count": 173,
   "metadata": {},
   "outputs": [],
   "source": [
    "df.to_csv('dati25d.csv', index=False)"
   ]
  },
  {
   "cell_type": "markdown",
   "metadata": {},
   "source": [
    "# 20 discesa"
   ]
  },
  {
   "cell_type": "code",
   "execution_count": 174,
   "metadata": {},
   "outputs": [],
   "source": [
    "azimuth_min =  84.9\n",
    "azimuth_max = 85.1\n",
    "\n",
    "data_i = pd.to_datetime('2023-01-19 02:51:00', format = '%Y-%m-%d %H:%M:%S')\n",
    "data_f = pd.to_datetime('2023-01-19 02:52:00', format = '%Y-%m-%d %H:%M:%S')\n",
    "data_m = pd.to_datetime('2023-01-19 03:56:00', format = '%Y-%m-%d %H:%M:%S')\n",
    "\n",
    "title = '19 gennaio 2023, elevazione 20 discesa'\n",
    "\n",
    "file_parabola = '../../Dati/19 gennaio/2023_01_19.txt'\n",
    "file_ricevitore = '../../Dati/19 gennaio/2023-01-18_19.txt'\n",
    "\n",
    "parabola = pd.read_csv (file_parabola,\n",
    "                           sep=';',\n",
    "                           header=None,\n",
    "                           comment='#')\n",
    "\n",
    "ricevitore_10 = pd.read_csv (file_ricevitore,\n",
    "                                sep = ' ',\n",
    "                                header=None,\n",
    "                                skiprows=11,\n",
    "                                decimal='.',\n",
    "                             names=['data','ora','rad','temperatura'])\n",
    "\n",
    "parabola.rename(columns={0: 'day', 1: 'month', 2: 'year', 3: 'hour', 4: 'minute', 5: 'second', 9: 'azimuth', 10: 'elevazione'}, inplace = True)\n",
    "parabola['data_ora'] = pd.to_datetime(parabola[[\"day\", \"month\", \"year\", \"hour\", \"minute\", \"second\"]])\n",
    "parabola = parabola.loc[:,['data_ora','elevazione','azimuth']]\n",
    "\n",
    "mask_1 = parabola.azimuth <= azimuth_max\n",
    "mask_2 = parabola.azimuth >= azimuth_min\n",
    "mask_3 = parabola.data_ora >= data_i\n",
    "mask_4 = parabola.data_ora <= data_f\n",
    "parabola = parabola.loc[mask_1 & mask_2 & mask_3 & mask_4]\n",
    "parabola.reset_index(inplace=True, drop=True)\n",
    "\n",
    "while parabola.at[0,'elevazione'] > 20.1:\n",
    "    parabola = parabola.drop(labels=0, axis=0)\n",
    "    parabola.reset_index(inplace=True, drop=True)\n",
    "    \n",
    "\n",
    "ricevitore_10['data_ora'] = ricevitore_10['data'].map(str) + ' ' + ricevitore_10['ora'].map(str)\n",
    "ricevitore_10['data_ora'] = pd.to_datetime(ricevitore_10['data_ora'], format = '%m/%d/%Y %H:%M:%S.%f')\n",
    "ricevitore_10 = ricevitore_10.iloc[:,[-1,2,3]]    \n",
    "\n",
    "\n",
    "delta_time = pd.Timedelta(hours = 1)\n",
    "mask_5 = ricevitore_10.data_ora >= parabola.iloc[0]['data_ora'] + delta_time\n",
    "mask_6 = ricevitore_10.data_ora <= parabola.iloc[-1]['data_ora'] + delta_time\n",
    "ricevitore_10 = ricevitore_10[mask_5 & mask_6]\n",
    "\n",
    "parabola['data_ora'] = parabola.data_ora + 2*delta_time\n",
    "ricevitore_10['data_ora'] = ricevitore_10.data_ora + delta_time"
   ]
  },
  {
   "cell_type": "code",
   "execution_count": 175,
   "metadata": {},
   "outputs": [
    {
     "data": {
      "image/png": "[encoded data removed]",
      "text/plain": [
       "<Figure size 432x288 with 1 Axes>"
      ]
     },
     "metadata": {
      "needs_background": "light"
     },
     "output_type": "display_data"
    }
   ],
   "source": [
    "fig, ax = plt.subplots()\n",
    "fig.autofmt_xdate()\n",
    "\n",
    "ax.plot(ricevitore_10['data_ora'],ricevitore_10['rad'], label='temp')\n",
    "ax.xaxis.set_major_formatter(DateFormatter('%H:%M'))\n",
    "ax.xaxis.set_major_locator(MinuteLocator(interval = 15))\n",
    "ax.set_ylim((2000,6000))\n",
    "\n",
    "plt.title(title)\n",
    "plt.ylabel('Rad')\n",
    "plt.show()"
   ]
  },
  {
   "cell_type": "code",
   "execution_count": 176,
   "metadata": {},
   "outputs": [],
   "source": [
    "df = pd.DataFrame(columns=['data_ora','rad','temperatura','elevazione'])\n",
    "\n",
    "for i in range (20, 56, 5):\n",
    "    mask_11 = parabola.elevazione >= i - 0.1\n",
    "    mask_12 = parabola.elevazione <= i + 0.1\n",
    "    mask_13 = parabola.data_ora <= data_m \n",
    "    a = parabola[mask_11 & mask_12 & mask_13]\n",
    "    if a.empty == False:\n",
    "        mask_7 = ricevitore_10.data_ora >= a.iloc[0]['data_ora'] \n",
    "        mask_8 = ricevitore_10.data_ora <= a.iloc[-1]['data_ora'] \n",
    "        b = ricevitore_10[mask_7 & mask_8].assign(elevazione = i)\n",
    "        df = pd.concat([df,b])\n",
    "\n",
    "for j in range (50, 19, -5):\n",
    "    mask_14 = parabola.elevazione >= j - 0.1\n",
    "    mask_15 = parabola.elevazione <= j + 0.1\n",
    "    mask_16 = parabola.data_ora >= data_m \n",
    "    c = parabola[mask_14 & mask_15 & mask_16]\n",
    "    if c.empty == False:\n",
    "        mask_9 = ricevitore_10.data_ora >= c.iloc[0]['data_ora'] \n",
    "        mask_10 = ricevitore_10.data_ora <= c.iloc[-1]['data_ora'] \n",
    "        d = ricevitore_10[mask_9 & mask_10].assign(elevazione = j)\n",
    "        df = pd.concat([df,d])"
   ]
  },
  {
   "cell_type": "code",
   "execution_count": 177,
   "metadata": {},
   "outputs": [],
   "source": [
    "df.to_csv('dati20d.csv', index=False)"
   ]
  }
 ],
 "metadata": {
  "kernelspec": {
   "display_name": "Python 3",
   "language": "python",
   "name": "python3"
  },
  "language_info": {
   "codemirror_mode": {
    "name": "ipython",
    "version": 3
   },
   "file_extension": ".py",
   "mimetype": "text/x-python",
   "name": "python",
   "nbconvert_exporter": "python",
   "pygments_lexer": "ipython3",
   "version": "3.7.6"
  }
 },
 "nbformat": 4,
 "nbformat_minor": 4
}
