{
 "cells": [
  {
   "cell_type": "markdown",
   "metadata": {},
   "source": [
    "19 gennaio 2023\n",
    "azimuth parabola: 85\n",
    "\n",
    "azimuth vero: 80\n",
    "\n",
    "ora inizio parabola: 00:00\n",
    "\n",
    "ora fine parabola: 02:56"
   ]
  },
  {
   "cell_type": "code",
   "execution_count": 68,
   "metadata": {},
   "outputs": [],
   "source": [
    "import numpy as np\n",
    "import matplotlib.pyplot as plt\n",
    "from matplotlib.dates import MinuteLocator, SecondLocator, DateFormatter\n",
    "import pandas as pd"
   ]
  },
  {
   "cell_type": "code",
   "execution_count": 80,
   "metadata": {},
   "outputs": [],
   "source": [
    "azimuth_min =  84.9\n",
    "azimuth_max = 85.1\n",
    "\n",
    "data_i = pd.to_datetime('2023-01-19 00:30:00', format = '%Y-%m-%d %H:%M:%S')\n",
    "data_f = pd.to_datetime('2023-01-19 00:36:00', format = '%Y-%m-%d %H:%M:%S')\n",
    "data_m = pd.to_datetime('2023-01-19 03:56:00', format = '%Y-%m-%d %H:%M:%S')\n",
    "\n",
    "title = '19 gennaio 2023, elevazione 20 salita'\n",
    "\n",
    "file_parabola = '../../Dati/19 gennaio/2023_01_19.txt'\n",
    "file_ricevitore = '../../Dati/19 gennaio/2023-01-18_19.txt'"
   ]
  },
  {
   "cell_type": "code",
   "execution_count": 81,
   "metadata": {},
   "outputs": [],
   "source": [
    "parabola = pd.read_csv (file_parabola,\n",
    "                           sep=';',\n",
    "                           header=None,\n",
    "                           comment='#')\n",
    "\n",
    "ricevitore_10 = pd.read_csv (file_ricevitore,\n",
    "                                sep = ' ',\n",
    "                                header=None,\n",
    "                                skiprows=11,\n",
    "                                decimal='.',\n",
    "                                names=['data','ora','rad','temperatura'])"
   ]
  },
  {
   "cell_type": "code",
   "execution_count": 82,
   "metadata": {},
   "outputs": [],
   "source": [
    "parabola.rename(columns={0: 'day', 1: 'month', 2: 'year', 3: 'hour', 4: 'minute', 5: 'second', 9: 'azimuth', 10: 'elevazione'}, inplace = True)\n",
    "parabola['data_ora'] = pd.to_datetime(parabola[[\"day\", \"month\", \"year\", \"hour\", \"minute\", \"second\"]])\n",
    "parabola = parabola.loc[:,['data_ora','elevazione','azimuth']]"
   ]
  },
  {
   "cell_type": "code",
   "execution_count": 83,
   "metadata": {},
   "outputs": [],
   "source": [
    "mask_1 = parabola.azimuth <= azimuth_max\n",
    "mask_2 = parabola.azimuth >= azimuth_min\n",
    "mask_3 = parabola.data_ora >= data_i\n",
    "mask_4 = parabola.data_ora <= data_f\n",
    "parabola = parabola.loc[mask_1 & mask_2 & mask_3 & mask_4]\n",
    "parabola.reset_index(inplace=True, drop=True)"
   ]
  },
  {
   "cell_type": "code",
   "execution_count": 84,
   "metadata": {},
   "outputs": [],
   "source": [
    "while parabola.at[0,'elevazione'] > 20.1:\n",
    "    parabola = parabola.drop(labels=0, axis=0)\n",
    "    parabola.reset_index(inplace=True, drop=True)"
   ]
  },
  {
   "cell_type": "code",
   "execution_count": 85,
   "metadata": {},
   "outputs": [],
   "source": [
    "ricevitore_10['data_ora'] = ricevitore_10['data'].map(str) + ' ' + ricevitore_10['ora'].map(str)\n",
    "ricevitore_10['data_ora'] = pd.to_datetime(ricevitore_10['data_ora'], format = '%m/%d/%Y %H:%M:%S.%f')\n",
    "ricevitore_10 = ricevitore_10.iloc[:,[-1,2,3]]"
   ]
  },
  {
   "cell_type": "code",
   "execution_count": 86,
   "metadata": {},
   "outputs": [],
   "source": [
    "delta_time = pd.Timedelta(hours = 1)\n",
    "mask_5 = ricevitore_10.data_ora >= parabola.iloc[0]['data_ora'] + delta_time\n",
    "mask_6 = ricevitore_10.data_ora <= parabola.iloc[-1]['data_ora'] + delta_time\n",
    "ricevitore_10 = ricevitore_10[mask_5 & mask_6]"
   ]
  },
  {
   "cell_type": "code",
   "execution_count": 87,
   "metadata": {},
   "outputs": [],
   "source": [
    "parabola['data_ora'] = parabola.data_ora + 2*delta_time\n",
    "ricevitore_10['data_ora'] = ricevitore_10.data_ora + delta_time"
   ]
  },
  {
   "cell_type": "code",
   "execution_count": 88,
   "metadata": {},
   "outputs": [
    {
     "data": {
      "image/png": "[encoded data removed]",
      "text/plain": [
       "<Figure size 432x288 with 1 Axes>"
      ]
     },
     "metadata": {
      "needs_background": "light"
     },
     "output_type": "display_data"
    }
   ],
   "source": [
    "fig, ax = plt.subplots()\n",
    "fig.autofmt_xdate()\n",
    "\n",
    "ax.plot(ricevitore_10['data_ora'],ricevitore_10['rad'], label='temp')\n",
    "ax.xaxis.set_major_formatter(DateFormatter('%H:%M'))\n",
    "ax.xaxis.set_major_locator(MinuteLocator(interval = 15))\n",
    "ax.set_ylim((2000,6000))\n",
    "\n",
    "plt.title(title)\n",
    "plt.ylabel('Rad')\n",
    "plt.show()"
   ]
  },
  {
   "cell_type": "code",
   "execution_count": 89,
   "metadata": {},
   "outputs": [],
   "source": [
    "df = pd.DataFrame(columns=['data_ora','rad','temperatura','elevazione'])\n",
    "\n",
    "for i in range (20, 56, 5):\n",
    "    mask_11 = parabola.elevazione >= i - 0.1\n",
    "    mask_12 = parabola.elevazione <= i + 0.1\n",
    "    mask_13 = parabola.data_ora <= data_m \n",
    "    a = parabola[mask_11 & mask_12 & mask_13]\n",
    "    if a.empty == False:\n",
    "        mask_7 = ricevitore_10.data_ora >= a.iloc[0]['data_ora'] \n",
    "        mask_8 = ricevitore_10.data_ora <= a.iloc[-1]['data_ora'] \n",
    "        b = ricevitore_10[mask_7 & mask_8].assign(elevazione = i)\n",
    "        df = pd.concat([df,b])\n",
    "\n",
    "for j in range (50, 19, -5):\n",
    "    mask_14 = parabola.elevazione >= j - 0.1\n",
    "    mask_15 = parabola.elevazione <= j + 0.1\n",
    "    mask_16 = parabola.data_ora >= data_m \n",
    "    c = parabola[mask_14 & mask_15 & mask_16]\n",
    "    if c.empty == False:\n",
    "        mask_9 = ricevitore_10.data_ora >= c.iloc[0]['data_ora'] \n",
    "        mask_10 = ricevitore_10.data_ora <= c.iloc[-1]['data_ora'] \n",
    "        d = ricevitore_10[mask_9 & mask_10].assign(elevazione = j)\n",
    "        df = pd.concat([df,d])"
   ]
  },
  {
   "cell_type": "code",
   "execution_count": 112,
   "metadata": {},
   "outputs": [],
   "source": [
    "with open('dati20s.txt', 'w') as f:\n",
    "    file1 = df.to_string(index=False)\n",
    "    f.write(file1)\n"
   ]
  },
  {
   "cell_type": "code",
   "execution_count": 101,
   "metadata": {},
   "outputs": [],
   "source": [
    "azimuth_min =  84.9\n",
    "azimuth_max = 85.1\n",
    "\n",
    "data_i = pd.to_datetime('2023-01-19 01:06:00', format = '%Y-%m-%d %H:%M:%S')\n",
    "data_f = pd.to_datetime('2023-01-19 01:08:00', format = '%Y-%m-%d %H:%M:%S')\n",
    "data_m = pd.to_datetime('2023-01-19 03:56:00', format = '%Y-%m-%d %H:%M:%S')\n",
    "\n",
    "title = '19 gennaio 2023, elevazione 25 salita'\n",
    "\n",
    "file_parabola = '../../Dati/19 gennaio/2023_01_19.txt'\n",
    "file_ricevitore = '../../Dati/19 gennaio/2023-01-18_19.txt'"
   ]
  },
  {
   "cell_type": "code",
   "execution_count": 102,
   "metadata": {},
   "outputs": [],
   "source": [
    "parabola = pd.read_csv (file_parabola,\n",
    "                           sep=';',\n",
    "                           header=None,\n",
    "                           comment='#')\n",
    "\n",
    "ricevitore_10 = pd.read_csv (file_ricevitore,\n",
    "                                sep = ' ',\n",
    "                                header=None,\n",
    "                                skiprows=11,\n",
    "                                decimal='.',\n",
    "                                names=['data','ora','rad','temperatura'])"
   ]
  },
  {
   "cell_type": "code",
   "execution_count": 103,
   "metadata": {},
   "outputs": [],
   "source": [
    "parabola.rename(columns={0: 'day', 1: 'month', 2: 'year', 3: 'hour', 4: 'minute', 5: 'second', 9: 'azimuth', 10: 'elevazione'}, inplace = True)\n",
    "parabola['data_ora'] = pd.to_datetime(parabola[[\"day\", \"month\", \"year\", \"hour\", \"minute\", \"second\"]])\n",
    "parabola = parabola.loc[:,['data_ora','elevazione','azimuth']]\n",
    "\n",
    "mask_1 = parabola.azimuth <= azimuth_max\n",
    "mask_2 = parabola.azimuth >= azimuth_min\n",
    "mask_3 = parabola.data_ora >= data_i\n",
    "mask_4 = parabola.data_ora <= data_f\n",
    "parabola = parabola.loc[mask_1 & mask_2 & mask_3 & mask_4]\n",
    "parabola.reset_index(inplace=True, drop=True)\n"
   ]
  },
  {
   "cell_type": "code",
   "execution_count": 104,
   "metadata": {},
   "outputs": [],
   "source": [
    "while parabola.at[0,'elevazione'] > 25.1:\n",
    "    parabola = parabola.drop(labels=0, axis=0)\n",
    "    parabola.reset_index(inplace=True, drop=True)"
   ]
  },
  {
   "cell_type": "code",
   "execution_count": 105,
   "metadata": {},
   "outputs": [],
   "source": [
    "ricevitore_10['data_ora'] = ricevitore_10['data'].map(str) + ' ' + ricevitore_10['ora'].map(str)\n",
    "ricevitore_10['data_ora'] = pd.to_datetime(ricevitore_10['data_ora'], format = '%m/%d/%Y %H:%M:%S.%f')\n",
    "ricevitore_10 = ricevitore_10.iloc[:,[-1,2,3]]"
   ]
  },
  {
   "cell_type": "code",
   "execution_count": 106,
   "metadata": {},
   "outputs": [],
   "source": [
    "delta_time = pd.Timedelta(hours = 1)\n",
    "mask_5 = ricevitore_10.data_ora >= parabola.iloc[0]['data_ora'] + delta_time\n",
    "mask_6 = ricevitore_10.data_ora <= parabola.iloc[-1]['data_ora'] + delta_time\n",
    "ricevitore_10 = ricevitore_10[mask_5 & mask_6]"
   ]
  },
  {
   "cell_type": "code",
   "execution_count": 107,
   "metadata": {},
   "outputs": [],
   "source": [
    "parabola['data_ora'] = parabola.data_ora + 2*delta_time\n",
    "ricevitore_10['data_ora'] = ricevitore_10.data_ora + delta_time"
   ]
  },
  {
   "cell_type": "code",
   "execution_count": 108,
   "metadata": {},
   "outputs": [
    {
     "data": {
      "image/png": "[encoded data removed]",
      "text/plain": [
       "<Figure size 432x288 with 1 Axes>"
      ]
     },
     "metadata": {
      "needs_background": "light"
     },
     "output_type": "display_data"
    }
   ],
   "source": [
    "fig, ax = plt.subplots()\n",
    "fig.autofmt_xdate()\n",
    "\n",
    "ax.plot(ricevitore_10['data_ora'],ricevitore_10['rad'], label='temp')\n",
    "ax.xaxis.set_major_formatter(DateFormatter('%H:%M'))\n",
    "ax.xaxis.set_major_locator(MinuteLocator(interval = 15))\n",
    "ax.set_ylim((2000,6000))\n",
    "\n",
    "plt.title(title)\n",
    "plt.ylabel('Rad')\n",
    "plt.show()"
   ]
  },
  {
   "cell_type": "code",
   "execution_count": 109,
   "metadata": {},
   "outputs": [],
   "source": [
    "df = pd.DataFrame(columns=['data_ora','rad','temperatura','elevazione'])\n",
    "\n",
    "for i in range (20, 56, 5):\n",
    "    mask_11 = parabola.elevazione >= i - 0.1\n",
    "    mask_12 = parabola.elevazione <= i + 0.1\n",
    "    mask_13 = parabola.data_ora <= data_m \n",
    "    a = parabola[mask_11 & mask_12 & mask_13]\n",
    "    if a.empty == False:\n",
    "        mask_7 = ricevitore_10.data_ora >= a.iloc[0]['data_ora'] \n",
    "        mask_8 = ricevitore_10.data_ora <= a.iloc[-1]['data_ora'] \n",
    "        b = ricevitore_10[mask_7 & mask_8].assign(elevazione = i)\n",
    "        df = pd.concat([df,b])\n",
    "\n",
    "for j in range (50, 19, -5):\n",
    "    mask_14 = parabola.elevazione >= j - 0.1\n",
    "    mask_15 = parabola.elevazione <= j + 0.1\n",
    "    mask_16 = parabola.data_ora >= data_m \n",
    "    c = parabola[mask_14 & mask_15 & mask_16]\n",
    "    if c.empty == False:\n",
    "        mask_9 = ricevitore_10.data_ora >= c.iloc[0]['data_ora'] \n",
    "        mask_10 = ricevitore_10.data_ora <= c.iloc[-1]['data_ora'] \n",
    "        d = ricevitore_10[mask_9 & mask_10].assign(elevazione = j)\n",
    "        df = pd.concat([df,d])"
   ]
  },
  {
   "cell_type": "code",
   "execution_count": 113,
   "metadata": {},
   "outputs": [],
   "source": [
    "with open('dati25s.txt', 'w') as f:\n",
    "    file2 = df.to_string(index=False)\n",
    "    f.write(file2)\n"
   ]
  },
  {
   "cell_type": "code",
   "execution_count": 117,
   "metadata": {},
   "outputs": [],
   "source": [
    "azimuth_min =  84.9\n",
    "azimuth_max = 85.1\n",
    "\n",
    "data_i = pd.to_datetime('2023-01-19 01:12:30', format = '%Y-%m-%d %H:%M:%S')\n",
    "data_f = pd.to_datetime('2023-01-19 01:14:00', format = '%Y-%m-%d %H:%M:%S')\n",
    "data_m = pd.to_datetime('2023-01-19 03:56:00', format = '%Y-%m-%d %H:%M:%S')\n",
    "\n",
    "title = '19 gennaio 2023, elevazione 30 salita'\n",
    "\n",
    "file_parabola = '../../Dati/19 gennaio/2023_01_19.txt'\n",
    "file_ricevitore = '../../Dati/19 gennaio/2023-01-18_19.txt'\n",
    "\n",
    "parabola = pd.read_csv (file_parabola,\n",
    "                           sep=';',\n",
    "                           header=None,\n",
    "                           comment='#')\n",
    "\n",
    "ricevitore_10 = pd.read_csv (file_ricevitore,\n",
    "                                sep = ' ',\n",
    "                                header=None,\n",
    "                                skiprows=11,\n",
    "                                decimal='.',\n",
    "                             names=['data','ora','rad','temperatura'])\n",
    "\n",
    "parabola.rename(columns={0: 'day', 1: 'month', 2: 'year', 3: 'hour', 4: 'minute', 5: 'second', 9: 'azimuth', 10: 'elevazione'}, inplace = True)\n",
    "parabola['data_ora'] = pd.to_datetime(parabola[[\"day\", \"month\", \"year\", \"hour\", \"minute\", \"second\"]])\n",
    "parabola = parabola.loc[:,['data_ora','elevazione','azimuth']]\n",
    "\n",
    "mask_1 = parabola.azimuth <= azimuth_max\n",
    "mask_2 = parabola.azimuth >= azimuth_min\n",
    "mask_3 = parabola.data_ora >= data_i\n",
    "mask_4 = parabola.data_ora <= data_f\n",
    "parabola = parabola.loc[mask_1 & mask_2 & mask_3 & mask_4]\n",
    "parabola.reset_index(inplace=True, drop=True)\n",
    "\n",
    "while parabola.at[0,'elevazione'] > 30.1:\n",
    "    parabola = parabola.drop(labels=0, axis=0)\n",
    "    parabola.reset_index(inplace=True, drop=True)\n",
    "    \n",
    "\n",
    "ricevitore_10['data_ora'] = ricevitore_10['data'].map(str) + ' ' + ricevitore_10['ora'].map(str)\n",
    "ricevitore_10['data_ora'] = pd.to_datetime(ricevitore_10['data_ora'], format = '%m/%d/%Y %H:%M:%S.%f')\n",
    "ricevitore_10 = ricevitore_10.iloc[:,[-1,2,3]]    \n",
    "\n",
    "\n",
    "delta_time = pd.Timedelta(hours = 1)\n",
    "mask_5 = ricevitore_10.data_ora >= parabola.iloc[0]['data_ora'] + delta_time\n",
    "mask_6 = ricevitore_10.data_ora <= parabola.iloc[-1]['data_ora'] + delta_time\n",
    "ricevitore_10 = ricevitore_10[mask_5 & mask_6]\n",
    "\n",
    "parabola['data_ora'] = parabola.data_ora + 2*delta_time\n",
    "ricevitore_10['data_ora'] = ricevitore_10.data_ora + delta_time"
   ]
  },
  {
   "cell_type": "code",
   "execution_count": 118,
   "metadata": {},
   "outputs": [
    {
     "data": {
      "image/png": "[encoded data removed]",
      "text/plain": [
       "<Figure size 432x288 with 1 Axes>"
      ]
     },
     "metadata": {
      "needs_background": "light"
     },
     "output_type": "display_data"
    }
   ],
   "source": [
    "fig, ax = plt.subplots()\n",
    "fig.autofmt_xdate()\n",
    "\n",
    "ax.plot(ricevitore_10['data_ora'],ricevitore_10['rad'], label='temp')\n",
    "ax.xaxis.set_major_formatter(DateFormatter('%H:%M'))\n",
    "ax.xaxis.set_major_locator(MinuteLocator(interval = 15))\n",
    "ax.set_ylim((2000,6000))\n",
    "\n",
    "plt.title(title)\n",
    "plt.ylabel('Rad')\n",
    "plt.show()"
   ]
  },
  {
   "cell_type": "code",
   "execution_count": 119,
   "metadata": {},
   "outputs": [],
   "source": [
    "df = pd.DataFrame(columns=['data_ora','rad','temperatura','elevazione'])\n",
    "\n",
    "for i in range (20, 56, 5):\n",
    "    mask_11 = parabola.elevazione >= i - 0.1\n",
    "    mask_12 = parabola.elevazione <= i + 0.1\n",
    "    mask_13 = parabola.data_ora <= data_m \n",
    "    a = parabola[mask_11 & mask_12 & mask_13]\n",
    "    if a.empty == False:\n",
    "        mask_7 = ricevitore_10.data_ora >= a.iloc[0]['data_ora'] \n",
    "        mask_8 = ricevitore_10.data_ora <= a.iloc[-1]['data_ora'] \n",
    "        b = ricevitore_10[mask_7 & mask_8].assign(elevazione = i)\n",
    "        df = pd.concat([df,b])\n",
    "\n",
    "for j in range (50, 19, -5):\n",
    "    mask_14 = parabola.elevazione >= j - 0.1\n",
    "    mask_15 = parabola.elevazione <= j + 0.1\n",
    "    mask_16 = parabola.data_ora >= data_m \n",
    "    c = parabola[mask_14 & mask_15 & mask_16]\n",
    "    if c.empty == False:\n",
    "        mask_9 = ricevitore_10.data_ora >= c.iloc[0]['data_ora'] \n",
    "        mask_10 = ricevitore_10.data_ora <= c.iloc[-1]['data_ora'] \n",
    "        d = ricevitore_10[mask_9 & mask_10].assign(elevazione = j)\n",
    "        df = pd.concat([df,d])"
   ]
  },
  {
   "cell_type": "code",
   "execution_count": 120,
   "metadata": {},
   "outputs": [],
   "source": [
    "with open('dati30s.txt', 'w') as f:\n",
    "    file3 = df.to_string(index=False)\n",
    "    f.write(file3)\n"
   ]
  },
  {
   "cell_type": "code",
   "execution_count": 121,
   "metadata": {},
   "outputs": [],
   "source": [
    "azimuth_min =  84.9\n",
    "azimuth_max = 85.1\n",
    "\n",
    "data_i = pd.to_datetime('2023-01-19 01:22:30', format = '%Y-%m-%d %H:%M:%S')\n",
    "data_f = pd.to_datetime('2023-01-19 01:23:00', format = '%Y-%m-%d %H:%M:%S')\n",
    "data_m = pd.to_datetime('2023-01-19 03:56:00', format = '%Y-%m-%d %H:%M:%S')\n",
    "\n",
    "title = '19 gennaio 2023, elevazione 35 salita'\n",
    "\n",
    "file_parabola = '../../Dati/19 gennaio/2023_01_19.txt'\n",
    "file_ricevitore = '../../Dati/19 gennaio/2023-01-18_19.txt'\n",
    "\n",
    "parabola = pd.read_csv (file_parabola,\n",
    "                           sep=';',\n",
    "                           header=None,\n",
    "                           comment='#')\n",
    "\n",
    "ricevitore_10 = pd.read_csv (file_ricevitore,\n",
    "                                sep = ' ',\n",
    "                                header=None,\n",
    "                                skiprows=11,\n",
    "                                decimal='.',\n",
    "                             names=['data','ora','rad','temperatura'])\n",
    "\n",
    "parabola.rename(columns={0: 'day', 1: 'month', 2: 'year', 3: 'hour', 4: 'minute', 5: 'second', 9: 'azimuth', 10: 'elevazione'}, inplace = True)\n",
    "parabola['data_ora'] = pd.to_datetime(parabola[[\"day\", \"month\", \"year\", \"hour\", \"minute\", \"second\"]])\n",
    "parabola = parabola.loc[:,['data_ora','elevazione','azimuth']]\n",
    "\n",
    "mask_1 = parabola.azimuth <= azimuth_max\n",
    "mask_2 = parabola.azimuth >= azimuth_min\n",
    "mask_3 = parabola.data_ora >= data_i\n",
    "mask_4 = parabola.data_ora <= data_f\n",
    "parabola = parabola.loc[mask_1 & mask_2 & mask_3 & mask_4]\n",
    "parabola.reset_index(inplace=True, drop=True)\n",
    "\n",
    "while parabola.at[0,'elevazione'] > 35.1:\n",
    "    parabola = parabola.drop(labels=0, axis=0)\n",
    "    parabola.reset_index(inplace=True, drop=True)\n",
    "    \n",
    "\n",
    "ricevitore_10['data_ora'] = ricevitore_10['data'].map(str) + ' ' + ricevitore_10['ora'].map(str)\n",
    "ricevitore_10['data_ora'] = pd.to_datetime(ricevitore_10['data_ora'], format = '%m/%d/%Y %H:%M:%S.%f')\n",
    "ricevitore_10 = ricevitore_10.iloc[:,[-1,2,3]]    \n",
    "\n",
    "\n",
    "delta_time = pd.Timedelta(hours = 1)\n",
    "mask_5 = ricevitore_10.data_ora >= parabola.iloc[0]['data_ora'] + delta_time\n",
    "mask_6 = ricevitore_10.data_ora <= parabola.iloc[-1]['data_ora'] + delta_time\n",
    "ricevitore_10 = ricevitore_10[mask_5 & mask_6]\n",
    "\n",
    "parabola['data_ora'] = parabola.data_ora + 2*delta_time\n",
    "ricevitore_10['data_ora'] = ricevitore_10.data_ora + delta_time"
   ]
  },
  {
   "cell_type": "code",
   "execution_count": 122,
   "metadata": {},
   "outputs": [
    {
     "data": {
      "image/png": "[encoded data removed]",
      "text/plain": [
       "<Figure size 432x288 with 1 Axes>"
      ]
     },
     "metadata": {
      "needs_background": "light"
     },
     "output_type": "display_data"
    }
   ],
   "source": [
    "fig, ax = plt.subplots()\n",
    "fig.autofmt_xdate()\n",
    "\n",
    "ax.plot(ricevitore_10['data_ora'],ricevitore_10['rad'], label='temp')\n",
    "ax.xaxis.set_major_formatter(DateFormatter('%H:%M'))\n",
    "ax.xaxis.set_major_locator(MinuteLocator(interval = 15))\n",
    "ax.set_ylim((2000,6000))\n",
    "\n",
    "plt.title(title)\n",
    "plt.ylabel('Rad')\n",
    "plt.show()"
   ]
  },
  {
   "cell_type": "code",
   "execution_count": null,
   "metadata": {},
   "outputs": [],
   "source": [
    "df = pd.DataFrame(columns=['data_ora','rad','temperatura','elevazione'])\n",
    "\n",
    "for i in range (20, 56, 5):\n",
    "    mask_11 = parabola.elevazione >= i - 0.1\n",
    "    mask_12 = parabola.elevazione <= i + 0.1\n",
    "    mask_13 = parabola.data_ora <= data_m \n",
    "    a = parabola[mask_11 & mask_12 & mask_13]\n",
    "    if a.empty == False:\n",
    "        mask_7 = ricevitore_10.data_ora >= a.iloc[0]['data_ora'] \n",
    "        mask_8 = ricevitore_10.data_ora <= a.iloc[-1]['data_ora'] \n",
    "        b = ricevitore_10[mask_7 & mask_8].assign(elevazione = i)\n",
    "        df = pd.concat([df,b])\n",
    "\n",
    "for j in range (50, 19, -5):\n",
    "    mask_14 = parabola.elevazione >= j - 0.1\n",
    "    mask_15 = parabola.elevazione <= j + 0.1\n",
    "    mask_16 = parabola.data_ora >= data_m \n",
    "    c = parabola[mask_14 & mask_15 & mask_16]\n",
    "    if c.empty == False:\n",
    "        mask_9 = ricevitore_10.data_ora >= c.iloc[0]['data_ora'] \n",
    "        mask_10 = ricevitore_10.data_ora <= c.iloc[-1]['data_ora'] \n",
    "        d = ricevitore_10[mask_9 & mask_10].assign(elevazione = j)\n",
    "        df = pd.concat([df,d])"
   ]
  },
  {
   "cell_type": "code",
   "execution_count": null,
   "metadata": {},
   "outputs": [],
   "source": [
    "with open('dati35s.txt', 'w') as f:\n",
    "    file4 = df.to_string(index=False)\n",
    "    f.write(file4)\n"
   ]
  },
  {
   "cell_type": "code",
   "execution_count": 123,
   "metadata": {},
   "outputs": [],
   "source": [
    "azimuth_min =  84.9\n",
    "azimuth_max = 85.1\n",
    "\n",
    "data_i = pd.to_datetime('2023-01-19 01:31:30', format = '%Y-%m-%d %H:%M:%S')\n",
    "data_f = pd.to_datetime('2023-01-19 01:32:00', format = '%Y-%m-%d %H:%M:%S')\n",
    "data_m = pd.to_datetime('2023-01-19 03:56:00', format = '%Y-%m-%d %H:%M:%S')\n",
    "\n",
    "title = '19 gennaio 2023, elevazione 40 salita'\n",
    "\n",
    "file_parabola = '../../Dati/19 gennaio/2023_01_19.txt'\n",
    "file_ricevitore = '../../Dati/19 gennaio/2023-01-18_19.txt'\n",
    "\n",
    "parabola = pd.read_csv (file_parabola,\n",
    "                           sep=';',\n",
    "                           header=None,\n",
    "                           comment='#')\n",
    "\n",
    "ricevitore_10 = pd.read_csv (file_ricevitore,\n",
    "                                sep = ' ',\n",
    "                                header=None,\n",
    "                                skiprows=11,\n",
    "                                decimal='.',\n",
    "                             names=['data','ora','rad','temperatura'])\n",
    "\n",
    "parabola.rename(columns={0: 'day', 1: 'month', 2: 'year', 3: 'hour', 4: 'minute', 5: 'second', 9: 'azimuth', 10: 'elevazione'}, inplace = True)\n",
    "parabola['data_ora'] = pd.to_datetime(parabola[[\"day\", \"month\", \"year\", \"hour\", \"minute\", \"second\"]])\n",
    "parabola = parabola.loc[:,['data_ora','elevazione','azimuth']]\n",
    "\n",
    "mask_1 = parabola.azimuth <= azimuth_max\n",
    "mask_2 = parabola.azimuth >= azimuth_min\n",
    "mask_3 = parabola.data_ora >= data_i\n",
    "mask_4 = parabola.data_ora <= data_f\n",
    "parabola = parabola.loc[mask_1 & mask_2 & mask_3 & mask_4]\n",
    "parabola.reset_index(inplace=True, drop=True)\n",
    "\n",
    "while parabola.at[0,'elevazione'] > 40.1:\n",
    "    parabola = parabola.drop(labels=0, axis=0)\n",
    "    parabola.reset_index(inplace=True, drop=True)\n",
    "    \n",
    "\n",
    "ricevitore_10['data_ora'] = ricevitore_10['data'].map(str) + ' ' + ricevitore_10['ora'].map(str)\n",
    "ricevitore_10['data_ora'] = pd.to_datetime(ricevitore_10['data_ora'], format = '%m/%d/%Y %H:%M:%S.%f')\n",
    "ricevitore_10 = ricevitore_10.iloc[:,[-1,2,3]]    \n",
    "\n",
    "\n",
    "delta_time = pd.Timedelta(hours = 1)\n",
    "mask_5 = ricevitore_10.data_ora >= parabola.iloc[0]['data_ora'] + delta_time\n",
    "mask_6 = ricevitore_10.data_ora <= parabola.iloc[-1]['data_ora'] + delta_time\n",
    "ricevitore_10 = ricevitore_10[mask_5 & mask_6]\n",
    "\n",
    "parabola['data_ora'] = parabola.data_ora + 2*delta_time\n",
    "ricevitore_10['data_ora'] = ricevitore_10.data_ora + delta_time"
   ]
  },
  {
   "cell_type": "code",
   "execution_count": 124,
   "metadata": {},
   "outputs": [
    {
     "data": {
      "image/png": "[encoded data removed]",
      "text/plain": [
       "<Figure size 432x288 with 1 Axes>"
      ]
     },
     "metadata": {
      "needs_background": "light"
     },
     "output_type": "display_data"
    }
   ],
   "source": [
    "fig, ax = plt.subplots()\n",
    "fig.autofmt_xdate()\n",
    "\n",
    "ax.plot(ricevitore_10['data_ora'],ricevitore_10['rad'], label='temp')\n",
    "ax.xaxis.set_major_formatter(DateFormatter('%H:%M'))\n",
    "ax.xaxis.set_major_locator(MinuteLocator(interval = 15))\n",
    "ax.set_ylim((2000,6000))\n",
    "\n",
    "plt.title(title)\n",
    "plt.ylabel('Rad')\n",
    "plt.show()"
   ]
  },
  {
   "cell_type": "code",
   "execution_count": 127,
   "metadata": {},
   "outputs": [],
   "source": [
    "df = pd.DataFrame(columns=['data_ora','rad','temperatura','elevazione'])\n",
    "\n",
    "for i in range (20, 56, 5):\n",
    "    mask_11 = parabola.elevazione >= i - 0.1\n",
    "    mask_12 = parabola.elevazione <= i + 0.1\n",
    "    mask_13 = parabola.data_ora <= data_m \n",
    "    a = parabola[mask_11 & mask_12 & mask_13]\n",
    "    if a.empty == False:\n",
    "        mask_7 = ricevitore_10.data_ora >= a.iloc[0]['data_ora'] \n",
    "        mask_8 = ricevitore_10.data_ora <= a.iloc[-1]['data_ora'] \n",
    "        b = ricevitore_10[mask_7 & mask_8].assign(elevazione = i)\n",
    "        df = pd.concat([df,b])\n",
    "\n",
    "for j in range (50, 19, -5):\n",
    "    mask_14 = parabola.elevazione >= j - 0.1\n",
    "    mask_15 = parabola.elevazione <= j + 0.1\n",
    "    mask_16 = parabola.data_ora >= data_m \n",
    "    c = parabola[mask_14 & mask_15 & mask_16]\n",
    "    if c.empty == False:\n",
    "        mask_9 = ricevitore_10.data_ora >= c.iloc[0]['data_ora'] \n",
    "        mask_10 = ricevitore_10.data_ora <= c.iloc[-1]['data_ora'] \n",
    "        d = ricevitore_10[mask_9 & mask_10].assign(elevazione = j)\n",
    "        df = pd.concat([df,d])"
   ]
  },
  {
   "cell_type": "code",
   "execution_count": 129,
   "metadata": {},
   "outputs": [],
   "source": [
    "with open('dati40s.txt', 'w') as f:\n",
    "    file5 = df.to_string(index=False)\n",
    "    f.write(file5)\n",
    "       "
   ]
  },
  {
   "cell_type": "code",
   "execution_count": null,
   "metadata": {},
   "outputs": [],
   "source": [
    "azimuth_min =  84.9\n",
    "azimuth_max = 85.1\n",
    "\n",
    "data_i = pd.to_datetime('2023-01-19 01:37:30', format = '%Y-%m-%d %H:%M:%S')\n",
    "data_f = pd.to_datetime('2023-01-19 01:38:00', format = '%Y-%m-%d %H:%M:%S')\n",
    "data_m = pd.to_datetime('2023-01-19 03:56:00', format = '%Y-%m-%d %H:%M:%S')\n",
    "\n",
    "title = '19 gennaio 2023, elevazione 45 salita'\n",
    "\n",
    "file_parabola = '../../Dati/19 gennaio/2023_01_19.txt'\n",
    "file_ricevitore = '../../Dati/19 gennaio/2023-01-18_19.txt'\n",
    "\n",
    "parabola = pd.read_csv (file_parabola,\n",
    "                           sep=';',\n",
    "                           header=None,\n",
    "                           comment='#')\n",
    "\n",
    "ricevitore_10 = pd.read_csv (file_ricevitore,\n",
    "                                sep = ' ',\n",
    "                                header=None,\n",
    "                                skiprows=11,\n",
    "                                decimal='.',\n",
    "                             names=['data','ora','rad','temperatura'])\n",
    "\n",
    "parabola.rename(columns={0: 'day', 1: 'month', 2: 'year', 3: 'hour', 4: 'minute', 5: 'second', 9: 'azimuth', 10: 'elevazione'}, inplace = True)\n",
    "parabola['data_ora'] = pd.to_datetime(parabola[[\"day\", \"month\", \"year\", \"hour\", \"minute\", \"second\"]])\n",
    "parabola = parabola.loc[:,['data_ora','elevazione','azimuth']]\n",
    "\n",
    "mask_1 = parabola.azimuth <= azimuth_max\n",
    "mask_2 = parabola.azimuth >= azimuth_min\n",
    "mask_3 = parabola.data_ora >= data_i\n",
    "mask_4 = parabola.data_ora <= data_f\n",
    "parabola = parabola.loc[mask_1 & mask_2 & mask_3 & mask_4]\n",
    "parabola.reset_index(inplace=True, drop=True)\n",
    "\n",
    "while parabola.at[0,'elevazione'] > 45.1:\n",
    "    parabola = parabola.drop(labels=0, axis=0)\n",
    "    parabola.reset_index(inplace=True, drop=True)\n",
    "    \n",
    "\n",
    "ricevitore_10['data_ora'] = ricevitore_10['data'].map(str) + ' ' + ricevitore_10['ora'].map(str)\n",
    "ricevitore_10['data_ora'] = pd.to_datetime(ricevitore_10['data_ora'], format = '%m/%d/%Y %H:%M:%S.%f')\n",
    "ricevitore_10 = ricevitore_10.iloc[:,[-1,2,3]]    \n",
    "\n",
    "\n",
    "delta_time = pd.Timedelta(hours = 1)\n",
    "mask_5 = ricevitore_10.data_ora >= parabola.iloc[0]['data_ora'] + delta_time\n",
    "mask_6 = ricevitore_10.data_ora <= parabola.iloc[-1]['data_ora'] + delta_time\n",
    "ricevitore_10 = ricevitore_10[mask_5 & mask_6]\n",
    "\n",
    "parabola['data_ora'] = parabola.data_ora + 2*delta_time\n",
    "ricevitore_10['data_ora'] = ricevitore_10.data_ora + delta_time"
   ]
  },
  {
   "cell_type": "code",
   "execution_count": null,
   "metadata": {},
   "outputs": [],
   "source": [
    "fig, ax = plt.subplots()\n",
    "fig.autofmt_xdate()\n",
    "\n",
    "ax.plot(ricevitore_10['data_ora'],ricevitore_10['rad'], label='temp')\n",
    "ax.xaxis.set_major_formatter(DateFormatter('%H:%M'))\n",
    "ax.xaxis.set_major_locator(MinuteLocator(interval = 15))\n",
    "ax.set_ylim((2000,6000))\n",
    "\n",
    "plt.title(title)\n",
    "plt.ylabel('Rad')\n",
    "plt.show()"
   ]
  },
  {
   "cell_type": "code",
   "execution_count": null,
   "metadata": {},
   "outputs": [],
   "source": [
    "df = pd.DataFrame(columns=['data_ora','rad','temperatura','elevazione'])\n",
    "\n",
    "for i in range (20, 56, 5):\n",
    "    mask_11 = parabola.elevazione >= i - 0.1\n",
    "    mask_12 = parabola.elevazione <= i + 0.1\n",
    "    mask_13 = parabola.data_ora <= data_m \n",
    "    a = parabola[mask_11 & mask_12 & mask_13]\n",
    "    if a.empty == False:\n",
    "        mask_7 = ricevitore_10.data_ora >= a.iloc[0]['data_ora'] \n",
    "        mask_8 = ricevitore_10.data_ora <= a.iloc[-1]['data_ora'] \n",
    "        b = ricevitore_10[mask_7 & mask_8].assign(elevazione = i)\n",
    "        df = pd.concat([df,b])\n",
    "\n",
    "for j in range (50, 19, -5):\n",
    "    mask_14 = parabola.elevazione >= j - 0.1\n",
    "    mask_15 = parabola.elevazione <= j + 0.1\n",
    "    mask_16 = parabola.data_ora >= data_m \n",
    "    c = parabola[mask_14 & mask_15 & mask_16]\n",
    "    if c.empty == False:\n",
    "        mask_9 = ricevitore_10.data_ora >= c.iloc[0]['data_ora'] \n",
    "        mask_10 = ricevitore_10.data_ora <= c.iloc[-1]['data_ora'] \n",
    "        d = ricevitore_10[mask_9 & mask_10].assign(elevazione = j)\n",
    "        df = pd.concat([df,d])"
   ]
  },
  {
   "cell_type": "code",
   "execution_count": 130,
   "metadata": {},
   "outputs": [],
   "source": [
    "with open('dati45s.txt', 'w') as f:\n",
    "    file6 = df.to_string(index=False)\n",
    "    f.write(file6)"
   ]
  },
  {
   "cell_type": "code",
   "execution_count": null,
   "metadata": {},
   "outputs": [],
   "source": []
  },
  {
   "cell_type": "code",
   "execution_count": null,
   "metadata": {},
   "outputs": [],
   "source": []
  },
  {
   "cell_type": "code",
   "execution_count": null,
   "metadata": {},
   "outputs": [],
   "source": []
  },
  {
   "cell_type": "code",
   "execution_count": null,
   "metadata": {},
   "outputs": [],
   "source": []
  },
  {
   "cell_type": "code",
   "execution_count": null,
   "metadata": {},
   "outputs": [],
   "source": []
  },
  {
   "cell_type": "code",
   "execution_count": null,
   "metadata": {},
   "outputs": [],
   "source": []
  }
 ],
 "metadata": {
  "kernelspec": {
   "display_name": "Python 3",
   "language": "python",
   "name": "python3"
  },
  "language_info": {
   "codemirror_mode": {
    "name": "ipython",
    "version": 3
   },
   "file_extension": ".py",
   "mimetype": "text/x-python",
   "name": "python",
   "nbconvert_exporter": "python",
   "pygments_lexer": "ipython3",
   "version": "3.7.6"
  }
 },
 "nbformat": 4,
 "nbformat_minor": 4
}
