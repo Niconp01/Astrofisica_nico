{
 "cells": [
  {
   "cell_type": "markdown",
   "metadata": {},
   "source": [
    "20 gennaio 2023\n",
    "\n",
    "azimuth parabola: 80\n",
    "\n",
    "azimuth vero: 75\n",
    "\n",
    "ora inizio parabola: 00:00\n",
    "\n",
    "ora fine parabola: 02:52\n",
    "        "
   ]
  },
  {
   "cell_type": "code",
   "execution_count": 2,
   "metadata": {},
   "outputs": [],
   "source": [
    "import numpy as np\n",
    "import matplotlib.pyplot as plt\n",
    "from matplotlib.dates import MinuteLocator, SecondLocator, DateFormatter\n",
    "import pandas as pd\n"
   ]
  },
  {
   "cell_type": "code",
   "execution_count": 3,
   "metadata": {},
   "outputs": [],
   "source": [
    "azimuth_min =  79.9\n",
    "azimuth_max = 80.1\n",
    "\n",
    "data_i = pd.to_datetime('2023-01-20 00:00:00', format = '%Y-%m-%d %H:%M:%S')\n",
    "data_f = pd.to_datetime('2023-01-20 02:52:00', format = '%Y-%m-%d %H:%M:%S')\n",
    "data_m = pd.to_datetime('2023-01-20 03:56:00', format = '%Y-%m-%d %H:%M:%S')\n",
    "\n",
    "title = '20 gennaio 2023, azimuth: 75'\n",
    "\n",
    "\n",
    "file_parabola = 'dati/2023_01_20.txt'\n",
    "file_ricevitore = 'dati/2023-01-19_20.txt'"
   ]
  },
  {
   "cell_type": "code",
   "execution_count": 4,
   "metadata": {},
   "outputs": [],
   "source": [
    "parabola = pd.read_csv (file_parabola,\n",
    "                           sep=';',\n",
    "                           header=None,\n",
    "                           comment='#')\n",
    "\n",
    "ricevitore_10 = pd.read_csv (file_ricevitore,\n",
    "                                sep = ' ',\n",
    "                                header=None,\n",
    "                                skiprows=11,\n",
    "                                decimal='.',\n",
    "                                names=['data','ora','rad','temperatura'])"
   ]
  },
  {
   "cell_type": "code",
   "execution_count": 5,
   "metadata": {},
   "outputs": [],
   "source": [
    "parabola.rename(columns={0: 'day', 1: 'month', 2: 'year', 3: 'hour', 4: 'minute', 5: 'second', 9: 'azimuth', 10: 'elevazione'}, inplace = True)\n",
    "parabola['data_ora'] = pd.to_datetime(parabola[[\"day\", \"month\", \"year\", \"hour\", \"minute\", \"second\"]])\n",
    "parabola = parabola.loc[:,['data_ora','elevazione','azimuth']]"
   ]
  },
  {
   "cell_type": "code",
   "execution_count": 6,
   "metadata": {},
   "outputs": [],
   "source": [
    "mask_1 = parabola.azimuth <= azimuth_max\n",
    "mask_2 = parabola.azimuth >= azimuth_min\n",
    "mask_3 = parabola.data_ora >= data_i\n",
    "mask_4 = parabola.data_ora <= data_f\n",
    "parabola = parabola.loc[mask_1 & mask_2 & mask_3 & mask_4]\n",
    "parabola.reset_index(inplace=True, drop=True)"
   ]
  },
  {
   "cell_type": "code",
   "execution_count": 7,
   "metadata": {},
   "outputs": [],
   "source": [
    "while parabola.at[0,'elevazione'] > 20.1:\n",
    "    parabola = parabola.drop(labels=0, axis=0)\n",
    "    parabola.reset_index(inplace=True, drop=True)"
   ]
  },
  {
   "cell_type": "code",
   "execution_count": 8,
   "metadata": {},
   "outputs": [],
   "source": [
    "ricevitore_10['data_ora'] = ricevitore_10['data'].map(str) + ' ' + ricevitore_10['ora'].map(str)\n",
    "ricevitore_10['data_ora'] = pd.to_datetime(ricevitore_10['data_ora'], format = '%m/%d/%Y %H:%M:%S.%f')\n",
    "ricevitore_10 = ricevitore_10.iloc[:,[-1,2,3]]"
   ]
  },
  {
   "cell_type": "code",
   "execution_count": 9,
   "metadata": {},
   "outputs": [],
   "source": [
    "delta_time = pd.Timedelta(hours = 1)\n",
    "mask_5 = ricevitore_10.data_ora >= parabola.iloc[0]['data_ora'] + delta_time\n",
    "mask_6 = ricevitore_10.data_ora <= parabola.iloc[-1]['data_ora'] + delta_time\n",
    "ricevitore_10 = ricevitore_10[mask_5 & mask_6]"
   ]
  },
  {
   "cell_type": "code",
   "execution_count": 10,
   "metadata": {},
   "outputs": [],
   "source": [
    "parabola['data_ora'] = parabola.data_ora + 2*delta_time\n",
    "ricevitore_10['data_ora'] = ricevitore_10.data_ora + delta_time"
   ]
  },
  {
   "cell_type": "code",
   "execution_count": 11,
   "metadata": {},
   "outputs": [],
   "source": [
    "with open('dati/corretti/parabola.txt', 'w') as f: \n",
    "    f.write(parabola.to_string(index=False))\n",
    "\n",
    "with open('dati/corretti/ricevitore.txt', 'w') as f: \n",
    "    f.write(ricevitore_10.to_string(index=False))"
   ]
  },
  {
   "cell_type": "code",
   "execution_count": 12,
   "metadata": {},
   "outputs": [
    {
     "data": {
      "image/png": "[encoded data removed]",
      "text/plain": [
       "<Figure size 432x288 with 1 Axes>"
      ]
     },
     "metadata": {
      "needs_background": "light"
     },
     "output_type": "display_data"
    }
   ],
   "source": [
    "fig, ax = plt.subplots()\n",
    "fig.autofmt_xdate()\n",
    "\n",
    "ax.plot(ricevitore_10['data_ora'],ricevitore_10['rad'], label='temp')\n",
    "ax.xaxis.set_major_formatter(DateFormatter('%H:%M'))\n",
    "ax.xaxis.set_major_locator(MinuteLocator(interval = 15))\n",
    "\n",
    "plt.title(title)\n",
    "plt.ylabel('Rad')\n",
    "plt.show()"
   ]
  },
  {
   "cell_type": "code",
   "execution_count": null,
   "metadata": {},
   "outputs": [],
   "source": []
  },
  {
   "cell_type": "code",
   "execution_count": null,
   "metadata": {},
   "outputs": [],
   "source": []
  },
  {
   "cell_type": "code",
   "execution_count": null,
   "metadata": {},
   "outputs": [],
   "source": []
  },
  {
   "cell_type": "code",
   "execution_count": null,
   "metadata": {},
   "outputs": [],
   "source": []
  }
 ],
 "metadata": {
  "kernelspec": {
   "display_name": "Python 3",
   "language": "python",
   "name": "python3"
  },
  "language_info": {
   "codemirror_mode": {
    "name": "ipython",
    "version": 3
   },
   "file_extension": ".py",
   "mimetype": "text/x-python",
   "name": "python",
   "nbconvert_exporter": "python",
   "pygments_lexer": "ipython3",
   "version": "3.7.6"
  }
 },
 "nbformat": 4,
 "nbformat_minor": 4
}
