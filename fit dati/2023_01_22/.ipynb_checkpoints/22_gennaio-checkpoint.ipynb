{
 "cells": [
  {
   "cell_type": "markdown",
   "metadata": {},
   "source": [
    "# 22 gennaio 2023\n",
    "\n",
    "azimuth parabola: 90\n",
    "\n",
    "azimuth vero: 85\n",
    "\n",
    "ora inizio parabola: 00:00\n",
    "\n",
    "ora fine parabola: 02:00"
   ]
  },
  {
   "cell_type": "code",
   "execution_count": 1,
   "metadata": {},
   "outputs": [],
   "source": [
    "import numpy as np\n",
    "import matplotlib.pyplot as plt\n",
    "from matplotlib.dates import MinuteLocator, SecondLocator, DateFormatter\n",
    "import pandas as pd"
   ]
  },
  {
   "cell_type": "code",
   "execution_count": 2,
   "metadata": {},
   "outputs": [],
   "source": [
    "azimuth_min =  89.9\n",
    "azimuth_max = 90.1\n",
    "\n",
    "data_i = pd.to_datetime('2023-01-22 00:00:00', format = '%Y-%m-%d %H:%M:%S')\n",
    "data_f = pd.to_datetime('2023-01-22 02:52:00', format = '%Y-%m-%d %H:%M:%S')\n",
    "data_m = pd.to_datetime('2023-01-22 03:56:00', format = '%Y-%m-%d %H:%M:%S')\n",
    "\n",
    "title = '22 gennaio 2023, azimuth: 85'\n",
    "##grafico = '../../grafici/azimuth_85'\n",
    "\n",
    "file_parabola = 'dati/2023_01_22.txt'\n",
    "file_ricevitore = 'dati/2023-01-21_22.txt'"
   ]
  },
  {
   "cell_type": "code",
   "execution_count": 3,
   "metadata": {},
   "outputs": [],
   "source": [
    "zero_base = 5664\n",
    "G = 59.45866297251595\n",
    "offset = 3.507669009169679*zero_base\n",
    "t_rif = 365.6738767503472"
   ]
  },
  {
   "cell_type": "code",
   "execution_count": 4,
   "metadata": {},
   "outputs": [],
   "source": [
    "parabola = pd.read_csv (file_parabola,\n",
    "                           sep=';',\n",
    "                           header=None,\n",
    "                           comment='#')\n",
    "\n",
    "ricevitore_10 = pd.read_csv (file_ricevitore,\n",
    "                                sep = ' ',\n",
    "                                header=None,\n",
    "                                skiprows=11,\n",
    "                                decimal='.',\n",
    "                                names=['data','ora','rad','temperatura'])\n",
    "\n",
    "ricevitore_10.rad = ((ricevitore_10.rad + offset)/G) - t_rif"
   ]
  },
  {
   "cell_type": "code",
   "execution_count": 5,
   "metadata": {},
   "outputs": [],
   "source": [
    "parabola.rename(columns={0: 'day', 1: 'month', 2: 'year', 3: 'hour', 4: 'minute', 5: 'second', 9: 'azimuth', 10: 'elevazione'}, inplace = True)\n",
    "parabola['data_ora'] = pd.to_datetime(parabola[[\"day\", \"month\", \"year\", \"hour\", \"minute\", \"second\"]])\n",
    "parabola = parabola.loc[:,['data_ora','elevazione','azimuth']]"
   ]
  },
  {
   "cell_type": "code",
   "execution_count": 6,
   "metadata": {},
   "outputs": [],
   "source": [
    "mask_1 = parabola.azimuth <= azimuth_max\n",
    "mask_2 = parabola.azimuth >= azimuth_min\n",
    "mask_3 = parabola.data_ora >= data_i\n",
    "mask_4 = parabola.data_ora <= data_f\n",
    "parabola = parabola.loc[mask_1 & mask_2 & mask_3 & mask_4]\n",
    "parabola.reset_index(inplace=True, drop=True)"
   ]
  },
  {
   "cell_type": "code",
   "execution_count": 7,
   "metadata": {},
   "outputs": [],
   "source": [
    "while parabola.at[0,'elevazione'] > 20.1:\n",
    "    parabola = parabola.drop(labels=0, axis=0)\n",
    "    parabola.reset_index(inplace=True, drop=True)"
   ]
  },
  {
   "cell_type": "code",
   "execution_count": 8,
   "metadata": {},
   "outputs": [],
   "source": [
    "ricevitore_10['data_ora'] = ricevitore_10['data'].map(str) + ' ' + ricevitore_10['ora'].map(str)\n",
    "ricevitore_10['data_ora'] = pd.to_datetime(ricevitore_10['data_ora'], format = '%m/%d/%Y %H:%M:%S.%f')\n",
    "ricevitore_10 = ricevitore_10.iloc[:,[-1,2,3]]"
   ]
  },
  {
   "cell_type": "code",
   "execution_count": 9,
   "metadata": {},
   "outputs": [],
   "source": [
    "delta_time = pd.Timedelta(hours = 1)\n",
    "mask_5 = ricevitore_10.data_ora >= parabola.iloc[0]['data_ora'] + delta_time\n",
    "mask_6 = ricevitore_10.data_ora <= parabola.iloc[-1]['data_ora'] + delta_time\n",
    "ricevitore_10 = ricevitore_10[mask_5 & mask_6]"
   ]
  },
  {
   "cell_type": "code",
   "execution_count": 10,
   "metadata": {},
   "outputs": [],
   "source": [
    "parabola['data_ora'] = parabola.data_ora + 2*delta_time\n",
    "ricevitore_10['data_ora'] = ricevitore_10.data_ora + delta_time"
   ]
  },
  {
   "cell_type": "code",
   "execution_count": null,
   "metadata": {},
   "outputs": [],
   "source": [
    "with open('dati/corretti/parabola.txt', 'w') as f: \n",
    "    f.write(parabola.to_string(index=False))\n",
    "\n",
    "with open('dati/corretti/ricevitore.txt', 'w') as f: \n",
    "    f.write(ricevitore_10.to_string(index=False))"
   ]
  },
  {
   "cell_type": "code",
   "execution_count": null,
   "metadata": {},
   "outputs": [],
   "source": [
    "fig, ax = plt.subplots()\n",
    "fig.autofmt_xdate()\n",
    "\n",
    "ax.plot(ricevitore_10['data_ora'],ricevitore_10['rad'], label='temp')\n",
    "ax.xaxis.set_major_formatter(DateFormatter('%H:%M'))\n",
    "ax.xaxis.set_major_locator(MinuteLocator(interval = 15))\n",
    "\n",
    "plt.title(title)\n",
    "plt.ylabel('Rad')\n",
    "plt.show()"
   ]
  },
  {
   "cell_type": "code",
   "execution_count": null,
   "metadata": {},
   "outputs": [],
   "source": [
    "df = pd.DataFrame(columns=['data_ora','rad','temperatura','elevazione'])\n",
    "\n",
    "for i in range (20, 56, 5):\n",
    "    mask_11 = parabola.elevazione >= i - 0.1\n",
    "    mask_12 = parabola.elevazione <= i + 0.1\n",
    "    mask_13 = parabola.data_ora <= data_m \n",
    "    a = parabola[mask_11 & mask_12 & mask_13]\n",
    "    if a.empty == False:\n",
    "        mask_7 = ricevitore_10.data_ora >= a.iloc[0]['data_ora'] \n",
    "        mask_8 = ricevitore_10.data_ora <= a.iloc[-1]['data_ora'] \n",
    "        b = ricevitore_10[mask_7 & mask_8].assign(elevazione = i)\n",
    "        df = pd.concat([df,b])\n",
    "\n",
    "for j in range (50, 19, -5):\n",
    "    mask_14 = parabola.elevazione >= j - 0.1\n",
    "    mask_15 = parabola.elevazione <= j + 0.1\n",
    "    mask_16 = parabola.data_ora >= data_m \n",
    "    c = parabola[mask_14 & mask_15 & mask_16]\n",
    "    if c.empty == False:\n",
    "        mask_9 = ricevitore_10.data_ora >= c.iloc[0]['data_ora'] \n",
    "        mask_10 = ricevitore_10.data_ora <= c.iloc[-1]['data_ora'] \n",
    "        d = ricevitore_10[mask_9 & mask_10].assign(elevazione = j)\n",
    "        df = pd.concat([df,d])"
   ]
  },
  {
   "cell_type": "code",
   "execution_count": null,
   "metadata": {},
   "outputs": [],
   "source": [
    "with open('dati/corretti/dati.txt', 'w') as f:\n",
    "    file = df.to_string(index=False)\n",
    "    f.write(file)"
   ]
  },
  {
   "cell_type": "code",
   "execution_count": null,
   "metadata": {},
   "outputs": [],
   "source": [
    "fig, ax = plt.subplots()\n",
    "fig.autofmt_xdate()\n",
    "\n",
    "ax.plot(df['data_ora'],df['rad'], 'b,', label='temp')\n",
    "ax.xaxis.set_major_formatter(DateFormatter('%H:%M'))\n",
    "ax.xaxis.set_major_locator(MinuteLocator(interval = 15))\n",
    "\n",
    "plt.title(title)\n",
    "plt.ylabel('Rad')\n",
    "plt.savefig(grafico, dpi=300)\n",
    "plt.show()"
   ]
  },
  {
   "cell_type": "code",
   "execution_count": null,
   "metadata": {},
   "outputs": [],
   "source": [
    "for i in range (20,56,5):\n",
    "    mask_a = df.data_ora <= data_m\n",
    "    mask_b = df.data_ora >= data_m\n",
    "    mask_c = df.elevazione == i\n",
    "\n",
    "    if i != 55:\n",
    "        fig, axs = plt.subplots(1,2, sharey=True)\n",
    "        fig.suptitle('Rad ad elevazione' + str(i))\n",
    "        fig.autofmt_xdate()\n",
    "        fig.set_size_inches(12, 3)\n",
    "\n",
    "        axs[0].plot(df['data_ora'][mask_a & mask_c],df['rad'][mask_a & mask_c], 'b', label='temp')\n",
    "        if i == 20:\n",
    "            axs[0].xaxis.set_major_locator(MinuteLocator(interval = 4))\n",
    "            axs[0].xaxis.set_major_formatter(DateFormatter('%H:%M'))\n",
    "        else:\n",
    "            axs[0].xaxis.set_major_locator(SecondLocator(interval = 20))\n",
    "            axs[0].xaxis.set_major_formatter(DateFormatter('%H:%M:%S'))\n",
    "\n",
    "        axs[1].plot(df['data_ora'][mask_b & mask_c],df['rad'][mask_b & mask_c], 'b', label='temp')\n",
    "        axs[1].xaxis.set_major_formatter(DateFormatter('%H:%M:%S'))\n",
    "        axs[1].xaxis.set_major_locator(SecondLocator(interval = 20))\n",
    "\n",
    "    else: \n",
    "        fig, axs = plt.subplots()\n",
    "        fig.suptitle('Rad ad elevazione' + str(i))\n",
    "        fig.autofmt_xdate()\n",
    "        fig.set_size_inches(12, 3)\n",
    "\n",
    "        axs.plot(df['data_ora'][mask_c],df['rad'][mask_c], label='temp')\n",
    "        axs.xaxis.set_major_formatter(DateFormatter('%H:%M:%S'))\n",
    "        \n",
    "\n",
    "    plt.show()"
   ]
  },
  {
   "cell_type": "code",
   "execution_count": null,
   "metadata": {},
   "outputs": [],
   "source": []
  }
 ],
 "metadata": {
  "kernelspec": {
   "display_name": "Python 3",
   "language": "python",
   "name": "python3"
  },
  "language_info": {
   "codemirror_mode": {
    "name": "ipython",
    "version": 3
   },
   "file_extension": ".py",
   "mimetype": "text/x-python",
   "name": "python",
   "nbconvert_exporter": "python",
   "pygments_lexer": "ipython3",
   "version": "3.7.6"
  }
 },
 "nbformat": 4,
 "nbformat_minor": 2
}
